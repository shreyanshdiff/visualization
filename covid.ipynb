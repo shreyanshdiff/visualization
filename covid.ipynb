{
 "cells": [
  {
   "cell_type": "code",
   "execution_count": 25,
   "metadata": {},
   "outputs": [],
   "source": [
    "import pandas as pd\n",
    "import numpy as np\n"
   ]
  },
  {
   "cell_type": "code",
   "execution_count": 26,
   "metadata": {},
   "outputs": [],
   "source": [
    "import seaborn as sns\n",
    "import matplotlib.pyplot as plt\n",
    "%matplotlib inline"
   ]
  },
  {
   "cell_type": "code",
   "execution_count": 27,
   "metadata": {},
   "outputs": [
    {
     "data": {
      "text/html": [
       "        <script type=\"text/javascript\">\n",
       "        window.PlotlyConfig = {MathJaxConfig: 'local'};\n",
       "        if (window.MathJax && window.MathJax.Hub && window.MathJax.Hub.Config) {window.MathJax.Hub.Config({SVG: {font: \"STIX-Web\"}});}\n",
       "        if (typeof require !== 'undefined') {\n",
       "        require.undef(\"plotly\");\n",
       "        requirejs.config({\n",
       "            paths: {\n",
       "                'plotly': ['https://cdn.plot.ly/plotly-2.25.2.min']\n",
       "            }\n",
       "        });\n",
       "        require(['plotly'], function(Plotly) {\n",
       "            window._Plotly = Plotly;\n",
       "        });\n",
       "        }\n",
       "        </script>\n",
       "        "
      ]
     },
     "metadata": {},
     "output_type": "display_data"
    }
   ],
   "source": [
    "import cufflinks as cf\n",
    "cf.go_offline()"
   ]
  },
  {
   "cell_type": "code",
   "execution_count": 28,
   "metadata": {},
   "outputs": [],
   "source": [
    "from plotly.offline import download_plotlyjs , init_notebook_mode , plot , iplot"
   ]
  },
  {
   "cell_type": "code",
   "execution_count": 29,
   "metadata": {},
   "outputs": [],
   "source": [
    "df = pd.read_csv('archive (19)\\country_wise_latest.csv')"
   ]
  },
  {
   "cell_type": "code",
   "execution_count": 30,
   "metadata": {},
   "outputs": [
    {
     "data": {
      "text/html": [
       "<div>\n",
       "<style scoped>\n",
       "    .dataframe tbody tr th:only-of-type {\n",
       "        vertical-align: middle;\n",
       "    }\n",
       "\n",
       "    .dataframe tbody tr th {\n",
       "        vertical-align: top;\n",
       "    }\n",
       "\n",
       "    .dataframe thead th {\n",
       "        text-align: right;\n",
       "    }\n",
       "</style>\n",
       "<table border=\"1\" class=\"dataframe\">\n",
       "  <thead>\n",
       "    <tr style=\"text-align: right;\">\n",
       "      <th></th>\n",
       "      <th>Country/Region</th>\n",
       "      <th>Confirmed</th>\n",
       "      <th>Deaths</th>\n",
       "      <th>Recovered</th>\n",
       "      <th>Active</th>\n",
       "      <th>New cases</th>\n",
       "      <th>New deaths</th>\n",
       "      <th>New recovered</th>\n",
       "      <th>Deaths / 100 Cases</th>\n",
       "      <th>Recovered / 100 Cases</th>\n",
       "      <th>Deaths / 100 Recovered</th>\n",
       "      <th>Confirmed last week</th>\n",
       "      <th>1 week change</th>\n",
       "      <th>1 week % increase</th>\n",
       "      <th>WHO Region</th>\n",
       "    </tr>\n",
       "  </thead>\n",
       "  <tbody>\n",
       "    <tr>\n",
       "      <th>0</th>\n",
       "      <td>Afghanistan</td>\n",
       "      <td>36263</td>\n",
       "      <td>1269</td>\n",
       "      <td>25198</td>\n",
       "      <td>9796</td>\n",
       "      <td>106</td>\n",
       "      <td>10</td>\n",
       "      <td>18</td>\n",
       "      <td>3.50</td>\n",
       "      <td>69.49</td>\n",
       "      <td>5.04</td>\n",
       "      <td>35526</td>\n",
       "      <td>737</td>\n",
       "      <td>2.07</td>\n",
       "      <td>Eastern Mediterranean</td>\n",
       "    </tr>\n",
       "    <tr>\n",
       "      <th>1</th>\n",
       "      <td>Albania</td>\n",
       "      <td>4880</td>\n",
       "      <td>144</td>\n",
       "      <td>2745</td>\n",
       "      <td>1991</td>\n",
       "      <td>117</td>\n",
       "      <td>6</td>\n",
       "      <td>63</td>\n",
       "      <td>2.95</td>\n",
       "      <td>56.25</td>\n",
       "      <td>5.25</td>\n",
       "      <td>4171</td>\n",
       "      <td>709</td>\n",
       "      <td>17.00</td>\n",
       "      <td>Europe</td>\n",
       "    </tr>\n",
       "    <tr>\n",
       "      <th>2</th>\n",
       "      <td>Algeria</td>\n",
       "      <td>27973</td>\n",
       "      <td>1163</td>\n",
       "      <td>18837</td>\n",
       "      <td>7973</td>\n",
       "      <td>616</td>\n",
       "      <td>8</td>\n",
       "      <td>749</td>\n",
       "      <td>4.16</td>\n",
       "      <td>67.34</td>\n",
       "      <td>6.17</td>\n",
       "      <td>23691</td>\n",
       "      <td>4282</td>\n",
       "      <td>18.07</td>\n",
       "      <td>Africa</td>\n",
       "    </tr>\n",
       "    <tr>\n",
       "      <th>3</th>\n",
       "      <td>Andorra</td>\n",
       "      <td>907</td>\n",
       "      <td>52</td>\n",
       "      <td>803</td>\n",
       "      <td>52</td>\n",
       "      <td>10</td>\n",
       "      <td>0</td>\n",
       "      <td>0</td>\n",
       "      <td>5.73</td>\n",
       "      <td>88.53</td>\n",
       "      <td>6.48</td>\n",
       "      <td>884</td>\n",
       "      <td>23</td>\n",
       "      <td>2.60</td>\n",
       "      <td>Europe</td>\n",
       "    </tr>\n",
       "    <tr>\n",
       "      <th>4</th>\n",
       "      <td>Angola</td>\n",
       "      <td>950</td>\n",
       "      <td>41</td>\n",
       "      <td>242</td>\n",
       "      <td>667</td>\n",
       "      <td>18</td>\n",
       "      <td>1</td>\n",
       "      <td>0</td>\n",
       "      <td>4.32</td>\n",
       "      <td>25.47</td>\n",
       "      <td>16.94</td>\n",
       "      <td>749</td>\n",
       "      <td>201</td>\n",
       "      <td>26.84</td>\n",
       "      <td>Africa</td>\n",
       "    </tr>\n",
       "  </tbody>\n",
       "</table>\n",
       "</div>"
      ],
      "text/plain": [
       "  Country/Region  Confirmed  Deaths  Recovered  Active  New cases  New deaths  \\\n",
       "0    Afghanistan      36263    1269      25198    9796        106          10   \n",
       "1        Albania       4880     144       2745    1991        117           6   \n",
       "2        Algeria      27973    1163      18837    7973        616           8   \n",
       "3        Andorra        907      52        803      52         10           0   \n",
       "4         Angola        950      41        242     667         18           1   \n",
       "\n",
       "   New recovered  Deaths / 100 Cases  Recovered / 100 Cases  \\\n",
       "0             18                3.50                  69.49   \n",
       "1             63                2.95                  56.25   \n",
       "2            749                4.16                  67.34   \n",
       "3              0                5.73                  88.53   \n",
       "4              0                4.32                  25.47   \n",
       "\n",
       "   Deaths / 100 Recovered  Confirmed last week  1 week change  \\\n",
       "0                    5.04                35526            737   \n",
       "1                    5.25                 4171            709   \n",
       "2                    6.17                23691           4282   \n",
       "3                    6.48                  884             23   \n",
       "4                   16.94                  749            201   \n",
       "\n",
       "   1 week % increase             WHO Region  \n",
       "0               2.07  Eastern Mediterranean  \n",
       "1              17.00                 Europe  \n",
       "2              18.07                 Africa  \n",
       "3               2.60                 Europe  \n",
       "4              26.84                 Africa  "
      ]
     },
     "execution_count": 30,
     "metadata": {},
     "output_type": "execute_result"
    }
   ],
   "source": [
    "df.head()"
   ]
  },
  {
   "cell_type": "code",
   "execution_count": 31,
   "metadata": {},
   "outputs": [
    {
     "data": {
      "text/html": [
       "<div>\n",
       "<style scoped>\n",
       "    .dataframe tbody tr th:only-of-type {\n",
       "        vertical-align: middle;\n",
       "    }\n",
       "\n",
       "    .dataframe tbody tr th {\n",
       "        vertical-align: top;\n",
       "    }\n",
       "\n",
       "    .dataframe thead th {\n",
       "        text-align: right;\n",
       "    }\n",
       "</style>\n",
       "<table border=\"1\" class=\"dataframe\">\n",
       "  <thead>\n",
       "    <tr style=\"text-align: right;\">\n",
       "      <th></th>\n",
       "      <th>Country/Region</th>\n",
       "      <th>Confirmed</th>\n",
       "      <th>Deaths</th>\n",
       "      <th>Recovered</th>\n",
       "      <th>Active</th>\n",
       "      <th>New cases</th>\n",
       "      <th>New deaths</th>\n",
       "      <th>New recovered</th>\n",
       "      <th>Deaths / 100 Cases</th>\n",
       "      <th>Recovered / 100 Cases</th>\n",
       "      <th>Deaths / 100 Recovered</th>\n",
       "      <th>Confirmed last week</th>\n",
       "      <th>1 week change</th>\n",
       "      <th>1 week % increase</th>\n",
       "      <th>WHO Region</th>\n",
       "    </tr>\n",
       "  </thead>\n",
       "  <tbody>\n",
       "    <tr>\n",
       "      <th>182</th>\n",
       "      <td>West Bank and Gaza</td>\n",
       "      <td>10621</td>\n",
       "      <td>78</td>\n",
       "      <td>3752</td>\n",
       "      <td>6791</td>\n",
       "      <td>152</td>\n",
       "      <td>2</td>\n",
       "      <td>0</td>\n",
       "      <td>0.73</td>\n",
       "      <td>35.33</td>\n",
       "      <td>2.08</td>\n",
       "      <td>8916</td>\n",
       "      <td>1705</td>\n",
       "      <td>19.12</td>\n",
       "      <td>Eastern Mediterranean</td>\n",
       "    </tr>\n",
       "    <tr>\n",
       "      <th>183</th>\n",
       "      <td>Western Sahara</td>\n",
       "      <td>10</td>\n",
       "      <td>1</td>\n",
       "      <td>8</td>\n",
       "      <td>1</td>\n",
       "      <td>0</td>\n",
       "      <td>0</td>\n",
       "      <td>0</td>\n",
       "      <td>10.00</td>\n",
       "      <td>80.00</td>\n",
       "      <td>12.50</td>\n",
       "      <td>10</td>\n",
       "      <td>0</td>\n",
       "      <td>0.00</td>\n",
       "      <td>Africa</td>\n",
       "    </tr>\n",
       "    <tr>\n",
       "      <th>184</th>\n",
       "      <td>Yemen</td>\n",
       "      <td>1691</td>\n",
       "      <td>483</td>\n",
       "      <td>833</td>\n",
       "      <td>375</td>\n",
       "      <td>10</td>\n",
       "      <td>4</td>\n",
       "      <td>36</td>\n",
       "      <td>28.56</td>\n",
       "      <td>49.26</td>\n",
       "      <td>57.98</td>\n",
       "      <td>1619</td>\n",
       "      <td>72</td>\n",
       "      <td>4.45</td>\n",
       "      <td>Eastern Mediterranean</td>\n",
       "    </tr>\n",
       "    <tr>\n",
       "      <th>185</th>\n",
       "      <td>Zambia</td>\n",
       "      <td>4552</td>\n",
       "      <td>140</td>\n",
       "      <td>2815</td>\n",
       "      <td>1597</td>\n",
       "      <td>71</td>\n",
       "      <td>1</td>\n",
       "      <td>465</td>\n",
       "      <td>3.08</td>\n",
       "      <td>61.84</td>\n",
       "      <td>4.97</td>\n",
       "      <td>3326</td>\n",
       "      <td>1226</td>\n",
       "      <td>36.86</td>\n",
       "      <td>Africa</td>\n",
       "    </tr>\n",
       "    <tr>\n",
       "      <th>186</th>\n",
       "      <td>Zimbabwe</td>\n",
       "      <td>2704</td>\n",
       "      <td>36</td>\n",
       "      <td>542</td>\n",
       "      <td>2126</td>\n",
       "      <td>192</td>\n",
       "      <td>2</td>\n",
       "      <td>24</td>\n",
       "      <td>1.33</td>\n",
       "      <td>20.04</td>\n",
       "      <td>6.64</td>\n",
       "      <td>1713</td>\n",
       "      <td>991</td>\n",
       "      <td>57.85</td>\n",
       "      <td>Africa</td>\n",
       "    </tr>\n",
       "  </tbody>\n",
       "</table>\n",
       "</div>"
      ],
      "text/plain": [
       "         Country/Region  Confirmed  Deaths  Recovered  Active  New cases  \\\n",
       "182  West Bank and Gaza      10621      78       3752    6791        152   \n",
       "183      Western Sahara         10       1          8       1          0   \n",
       "184               Yemen       1691     483        833     375         10   \n",
       "185              Zambia       4552     140       2815    1597         71   \n",
       "186            Zimbabwe       2704      36        542    2126        192   \n",
       "\n",
       "     New deaths  New recovered  Deaths / 100 Cases  Recovered / 100 Cases  \\\n",
       "182           2              0                0.73                  35.33   \n",
       "183           0              0               10.00                  80.00   \n",
       "184           4             36               28.56                  49.26   \n",
       "185           1            465                3.08                  61.84   \n",
       "186           2             24                1.33                  20.04   \n",
       "\n",
       "     Deaths / 100 Recovered  Confirmed last week  1 week change  \\\n",
       "182                    2.08                 8916           1705   \n",
       "183                   12.50                   10              0   \n",
       "184                   57.98                 1619             72   \n",
       "185                    4.97                 3326           1226   \n",
       "186                    6.64                 1713            991   \n",
       "\n",
       "     1 week % increase             WHO Region  \n",
       "182              19.12  Eastern Mediterranean  \n",
       "183               0.00                 Africa  \n",
       "184               4.45  Eastern Mediterranean  \n",
       "185              36.86                 Africa  \n",
       "186              57.85                 Africa  "
      ]
     },
     "execution_count": 31,
     "metadata": {},
     "output_type": "execute_result"
    }
   ],
   "source": [
    "df.tail()"
   ]
  },
  {
   "cell_type": "code",
   "execution_count": 32,
   "metadata": {},
   "outputs": [
    {
     "name": "stdout",
     "output_type": "stream",
     "text": [
      "<class 'pandas.core.frame.DataFrame'>\n",
      "RangeIndex: 187 entries, 0 to 186\n",
      "Data columns (total 15 columns):\n",
      " #   Column                  Non-Null Count  Dtype  \n",
      "---  ------                  --------------  -----  \n",
      " 0   Country/Region          187 non-null    object \n",
      " 1   Confirmed               187 non-null    int64  \n",
      " 2   Deaths                  187 non-null    int64  \n",
      " 3   Recovered               187 non-null    int64  \n",
      " 4   Active                  187 non-null    int64  \n",
      " 5   New cases               187 non-null    int64  \n",
      " 6   New deaths              187 non-null    int64  \n",
      " 7   New recovered           187 non-null    int64  \n",
      " 8   Deaths / 100 Cases      187 non-null    float64\n",
      " 9   Recovered / 100 Cases   187 non-null    float64\n",
      " 10  Deaths / 100 Recovered  187 non-null    float64\n",
      " 11  Confirmed last week     187 non-null    int64  \n",
      " 12  1 week change           187 non-null    int64  \n",
      " 13  1 week % increase       187 non-null    float64\n",
      " 14  WHO Region              187 non-null    object \n",
      "dtypes: float64(4), int64(9), object(2)\n",
      "memory usage: 22.0+ KB\n"
     ]
    }
   ],
   "source": [
    "df.info()"
   ]
  },
  {
   "cell_type": "code",
   "execution_count": 33,
   "metadata": {},
   "outputs": [
    {
     "data": {
      "text/html": [
       "<div>\n",
       "<style scoped>\n",
       "    .dataframe tbody tr th:only-of-type {\n",
       "        vertical-align: middle;\n",
       "    }\n",
       "\n",
       "    .dataframe tbody tr th {\n",
       "        vertical-align: top;\n",
       "    }\n",
       "\n",
       "    .dataframe thead th {\n",
       "        text-align: right;\n",
       "    }\n",
       "</style>\n",
       "<table border=\"1\" class=\"dataframe\">\n",
       "  <thead>\n",
       "    <tr style=\"text-align: right;\">\n",
       "      <th></th>\n",
       "      <th>Confirmed</th>\n",
       "      <th>Deaths</th>\n",
       "      <th>Recovered</th>\n",
       "      <th>Active</th>\n",
       "      <th>New cases</th>\n",
       "      <th>New deaths</th>\n",
       "      <th>New recovered</th>\n",
       "      <th>Deaths / 100 Cases</th>\n",
       "      <th>Recovered / 100 Cases</th>\n",
       "      <th>Deaths / 100 Recovered</th>\n",
       "      <th>Confirmed last week</th>\n",
       "      <th>1 week change</th>\n",
       "      <th>1 week % increase</th>\n",
       "    </tr>\n",
       "  </thead>\n",
       "  <tbody>\n",
       "    <tr>\n",
       "      <th>count</th>\n",
       "      <td>1.870000e+02</td>\n",
       "      <td>187.000000</td>\n",
       "      <td>1.870000e+02</td>\n",
       "      <td>1.870000e+02</td>\n",
       "      <td>187.000000</td>\n",
       "      <td>187.000000</td>\n",
       "      <td>187.000000</td>\n",
       "      <td>187.000000</td>\n",
       "      <td>187.000000</td>\n",
       "      <td>187.00</td>\n",
       "      <td>1.870000e+02</td>\n",
       "      <td>187.000000</td>\n",
       "      <td>187.000000</td>\n",
       "    </tr>\n",
       "    <tr>\n",
       "      <th>mean</th>\n",
       "      <td>8.813094e+04</td>\n",
       "      <td>3497.518717</td>\n",
       "      <td>5.063148e+04</td>\n",
       "      <td>3.400194e+04</td>\n",
       "      <td>1222.957219</td>\n",
       "      <td>28.957219</td>\n",
       "      <td>933.812834</td>\n",
       "      <td>3.019519</td>\n",
       "      <td>64.820535</td>\n",
       "      <td>inf</td>\n",
       "      <td>7.868248e+04</td>\n",
       "      <td>9448.459893</td>\n",
       "      <td>13.606203</td>\n",
       "    </tr>\n",
       "    <tr>\n",
       "      <th>std</th>\n",
       "      <td>3.833187e+05</td>\n",
       "      <td>14100.002482</td>\n",
       "      <td>1.901882e+05</td>\n",
       "      <td>2.133262e+05</td>\n",
       "      <td>5710.374790</td>\n",
       "      <td>120.037173</td>\n",
       "      <td>4197.719635</td>\n",
       "      <td>3.454302</td>\n",
       "      <td>26.287694</td>\n",
       "      <td>NaN</td>\n",
       "      <td>3.382737e+05</td>\n",
       "      <td>47491.127684</td>\n",
       "      <td>24.509838</td>\n",
       "    </tr>\n",
       "    <tr>\n",
       "      <th>min</th>\n",
       "      <td>1.000000e+01</td>\n",
       "      <td>0.000000</td>\n",
       "      <td>0.000000e+00</td>\n",
       "      <td>0.000000e+00</td>\n",
       "      <td>0.000000</td>\n",
       "      <td>0.000000</td>\n",
       "      <td>0.000000</td>\n",
       "      <td>0.000000</td>\n",
       "      <td>0.000000</td>\n",
       "      <td>0.00</td>\n",
       "      <td>1.000000e+01</td>\n",
       "      <td>-47.000000</td>\n",
       "      <td>-3.840000</td>\n",
       "    </tr>\n",
       "    <tr>\n",
       "      <th>25%</th>\n",
       "      <td>1.114000e+03</td>\n",
       "      <td>18.500000</td>\n",
       "      <td>6.265000e+02</td>\n",
       "      <td>1.415000e+02</td>\n",
       "      <td>4.000000</td>\n",
       "      <td>0.000000</td>\n",
       "      <td>0.000000</td>\n",
       "      <td>0.945000</td>\n",
       "      <td>48.770000</td>\n",
       "      <td>1.45</td>\n",
       "      <td>1.051500e+03</td>\n",
       "      <td>49.000000</td>\n",
       "      <td>2.775000</td>\n",
       "    </tr>\n",
       "    <tr>\n",
       "      <th>50%</th>\n",
       "      <td>5.059000e+03</td>\n",
       "      <td>108.000000</td>\n",
       "      <td>2.815000e+03</td>\n",
       "      <td>1.600000e+03</td>\n",
       "      <td>49.000000</td>\n",
       "      <td>1.000000</td>\n",
       "      <td>22.000000</td>\n",
       "      <td>2.150000</td>\n",
       "      <td>71.320000</td>\n",
       "      <td>3.62</td>\n",
       "      <td>5.020000e+03</td>\n",
       "      <td>432.000000</td>\n",
       "      <td>6.890000</td>\n",
       "    </tr>\n",
       "    <tr>\n",
       "      <th>75%</th>\n",
       "      <td>4.046050e+04</td>\n",
       "      <td>734.000000</td>\n",
       "      <td>2.260600e+04</td>\n",
       "      <td>9.149000e+03</td>\n",
       "      <td>419.500000</td>\n",
       "      <td>6.000000</td>\n",
       "      <td>221.000000</td>\n",
       "      <td>3.875000</td>\n",
       "      <td>86.885000</td>\n",
       "      <td>6.44</td>\n",
       "      <td>3.708050e+04</td>\n",
       "      <td>3172.000000</td>\n",
       "      <td>16.855000</td>\n",
       "    </tr>\n",
       "    <tr>\n",
       "      <th>max</th>\n",
       "      <td>4.290259e+06</td>\n",
       "      <td>148011.000000</td>\n",
       "      <td>1.846641e+06</td>\n",
       "      <td>2.816444e+06</td>\n",
       "      <td>56336.000000</td>\n",
       "      <td>1076.000000</td>\n",
       "      <td>33728.000000</td>\n",
       "      <td>28.560000</td>\n",
       "      <td>100.000000</td>\n",
       "      <td>inf</td>\n",
       "      <td>3.834677e+06</td>\n",
       "      <td>455582.000000</td>\n",
       "      <td>226.320000</td>\n",
       "    </tr>\n",
       "  </tbody>\n",
       "</table>\n",
       "</div>"
      ],
      "text/plain": [
       "          Confirmed         Deaths     Recovered        Active     New cases  \\\n",
       "count  1.870000e+02     187.000000  1.870000e+02  1.870000e+02    187.000000   \n",
       "mean   8.813094e+04    3497.518717  5.063148e+04  3.400194e+04   1222.957219   \n",
       "std    3.833187e+05   14100.002482  1.901882e+05  2.133262e+05   5710.374790   \n",
       "min    1.000000e+01       0.000000  0.000000e+00  0.000000e+00      0.000000   \n",
       "25%    1.114000e+03      18.500000  6.265000e+02  1.415000e+02      4.000000   \n",
       "50%    5.059000e+03     108.000000  2.815000e+03  1.600000e+03     49.000000   \n",
       "75%    4.046050e+04     734.000000  2.260600e+04  9.149000e+03    419.500000   \n",
       "max    4.290259e+06  148011.000000  1.846641e+06  2.816444e+06  56336.000000   \n",
       "\n",
       "        New deaths  New recovered  Deaths / 100 Cases  Recovered / 100 Cases  \\\n",
       "count   187.000000     187.000000          187.000000             187.000000   \n",
       "mean     28.957219     933.812834            3.019519              64.820535   \n",
       "std     120.037173    4197.719635            3.454302              26.287694   \n",
       "min       0.000000       0.000000            0.000000               0.000000   \n",
       "25%       0.000000       0.000000            0.945000              48.770000   \n",
       "50%       1.000000      22.000000            2.150000              71.320000   \n",
       "75%       6.000000     221.000000            3.875000              86.885000   \n",
       "max    1076.000000   33728.000000           28.560000             100.000000   \n",
       "\n",
       "       Deaths / 100 Recovered  Confirmed last week  1 week change  \\\n",
       "count                  187.00         1.870000e+02     187.000000   \n",
       "mean                      inf         7.868248e+04    9448.459893   \n",
       "std                       NaN         3.382737e+05   47491.127684   \n",
       "min                      0.00         1.000000e+01     -47.000000   \n",
       "25%                      1.45         1.051500e+03      49.000000   \n",
       "50%                      3.62         5.020000e+03     432.000000   \n",
       "75%                      6.44         3.708050e+04    3172.000000   \n",
       "max                       inf         3.834677e+06  455582.000000   \n",
       "\n",
       "       1 week % increase  \n",
       "count         187.000000  \n",
       "mean           13.606203  \n",
       "std            24.509838  \n",
       "min            -3.840000  \n",
       "25%             2.775000  \n",
       "50%             6.890000  \n",
       "75%            16.855000  \n",
       "max           226.320000  "
      ]
     },
     "execution_count": 33,
     "metadata": {},
     "output_type": "execute_result"
    }
   ],
   "source": [
    "df.describe()"
   ]
  },
  {
   "cell_type": "code",
   "execution_count": 34,
   "metadata": {},
   "outputs": [
    {
     "data": {
      "text/plain": [
       "Country/Region             object\n",
       "Confirmed                   int64\n",
       "Deaths                      int64\n",
       "Recovered                   int64\n",
       "Active                      int64\n",
       "New cases                   int64\n",
       "New deaths                  int64\n",
       "New recovered               int64\n",
       "Deaths / 100 Cases        float64\n",
       "Recovered / 100 Cases     float64\n",
       "Deaths / 100 Recovered    float64\n",
       "Confirmed last week         int64\n",
       "1 week change               int64\n",
       "1 week % increase         float64\n",
       "WHO Region                 object\n",
       "dtype: object"
      ]
     },
     "execution_count": 34,
     "metadata": {},
     "output_type": "execute_result"
    }
   ],
   "source": [
    "df.dtypes"
   ]
  },
  {
   "cell_type": "code",
   "execution_count": 35,
   "metadata": {},
   "outputs": [
    {
     "data": {
      "text/plain": [
       "<Axes: xlabel='Recovered', ylabel='Count'>"
      ]
     },
     "execution_count": 35,
     "metadata": {},
     "output_type": "execute_result"
    },
    {
     "data": {
      "image/png": "[encoded data removed]",
      "text/plain": [
       "<Figure size 640x480 with 1 Axes>"
      ]
     },
     "metadata": {},
     "output_type": "display_data"
    }
   ],
   "source": [
    "sns.histplot(x = 'Recovered' , data = df)"
   ]
  },
  {
   "cell_type": "code",
   "execution_count": 36,
   "metadata": {},
   "outputs": [
    {
     "data": {
      "text/html": [
       "<div>\n",
       "<style scoped>\n",
       "    .dataframe tbody tr th:only-of-type {\n",
       "        vertical-align: middle;\n",
       "    }\n",
       "\n",
       "    .dataframe tbody tr th {\n",
       "        vertical-align: top;\n",
       "    }\n",
       "\n",
       "    .dataframe thead th {\n",
       "        text-align: right;\n",
       "    }\n",
       "</style>\n",
       "<table border=\"1\" class=\"dataframe\">\n",
       "  <thead>\n",
       "    <tr style=\"text-align: right;\">\n",
       "      <th></th>\n",
       "      <th>Country/Region</th>\n",
       "      <th>Confirmed</th>\n",
       "      <th>Deaths</th>\n",
       "      <th>Recovered</th>\n",
       "      <th>Active</th>\n",
       "      <th>New cases</th>\n",
       "      <th>New deaths</th>\n",
       "      <th>New recovered</th>\n",
       "      <th>Deaths / 100 Cases</th>\n",
       "      <th>Recovered / 100 Cases</th>\n",
       "      <th>Deaths / 100 Recovered</th>\n",
       "      <th>Confirmed last week</th>\n",
       "      <th>1 week change</th>\n",
       "      <th>1 week % increase</th>\n",
       "      <th>WHO Region</th>\n",
       "    </tr>\n",
       "  </thead>\n",
       "  <tbody>\n",
       "    <tr>\n",
       "      <th>0</th>\n",
       "      <td>Afghanistan</td>\n",
       "      <td>36263</td>\n",
       "      <td>1269</td>\n",
       "      <td>25198</td>\n",
       "      <td>9796</td>\n",
       "      <td>106</td>\n",
       "      <td>10</td>\n",
       "      <td>18</td>\n",
       "      <td>3.50</td>\n",
       "      <td>69.49</td>\n",
       "      <td>5.04</td>\n",
       "      <td>35526</td>\n",
       "      <td>737</td>\n",
       "      <td>2.07</td>\n",
       "      <td>Eastern Mediterranean</td>\n",
       "    </tr>\n",
       "    <tr>\n",
       "      <th>1</th>\n",
       "      <td>Albania</td>\n",
       "      <td>4880</td>\n",
       "      <td>144</td>\n",
       "      <td>2745</td>\n",
       "      <td>1991</td>\n",
       "      <td>117</td>\n",
       "      <td>6</td>\n",
       "      <td>63</td>\n",
       "      <td>2.95</td>\n",
       "      <td>56.25</td>\n",
       "      <td>5.25</td>\n",
       "      <td>4171</td>\n",
       "      <td>709</td>\n",
       "      <td>17.00</td>\n",
       "      <td>Europe</td>\n",
       "    </tr>\n",
       "    <tr>\n",
       "      <th>2</th>\n",
       "      <td>Algeria</td>\n",
       "      <td>27973</td>\n",
       "      <td>1163</td>\n",
       "      <td>18837</td>\n",
       "      <td>7973</td>\n",
       "      <td>616</td>\n",
       "      <td>8</td>\n",
       "      <td>749</td>\n",
       "      <td>4.16</td>\n",
       "      <td>67.34</td>\n",
       "      <td>6.17</td>\n",
       "      <td>23691</td>\n",
       "      <td>4282</td>\n",
       "      <td>18.07</td>\n",
       "      <td>Africa</td>\n",
       "    </tr>\n",
       "    <tr>\n",
       "      <th>3</th>\n",
       "      <td>Andorra</td>\n",
       "      <td>907</td>\n",
       "      <td>52</td>\n",
       "      <td>803</td>\n",
       "      <td>52</td>\n",
       "      <td>10</td>\n",
       "      <td>0</td>\n",
       "      <td>0</td>\n",
       "      <td>5.73</td>\n",
       "      <td>88.53</td>\n",
       "      <td>6.48</td>\n",
       "      <td>884</td>\n",
       "      <td>23</td>\n",
       "      <td>2.60</td>\n",
       "      <td>Europe</td>\n",
       "    </tr>\n",
       "    <tr>\n",
       "      <th>4</th>\n",
       "      <td>Angola</td>\n",
       "      <td>950</td>\n",
       "      <td>41</td>\n",
       "      <td>242</td>\n",
       "      <td>667</td>\n",
       "      <td>18</td>\n",
       "      <td>1</td>\n",
       "      <td>0</td>\n",
       "      <td>4.32</td>\n",
       "      <td>25.47</td>\n",
       "      <td>16.94</td>\n",
       "      <td>749</td>\n",
       "      <td>201</td>\n",
       "      <td>26.84</td>\n",
       "      <td>Africa</td>\n",
       "    </tr>\n",
       "    <tr>\n",
       "      <th>...</th>\n",
       "      <td>...</td>\n",
       "      <td>...</td>\n",
       "      <td>...</td>\n",
       "      <td>...</td>\n",
       "      <td>...</td>\n",
       "      <td>...</td>\n",
       "      <td>...</td>\n",
       "      <td>...</td>\n",
       "      <td>...</td>\n",
       "      <td>...</td>\n",
       "      <td>...</td>\n",
       "      <td>...</td>\n",
       "      <td>...</td>\n",
       "      <td>...</td>\n",
       "      <td>...</td>\n",
       "    </tr>\n",
       "    <tr>\n",
       "      <th>182</th>\n",
       "      <td>West Bank and Gaza</td>\n",
       "      <td>10621</td>\n",
       "      <td>78</td>\n",
       "      <td>3752</td>\n",
       "      <td>6791</td>\n",
       "      <td>152</td>\n",
       "      <td>2</td>\n",
       "      <td>0</td>\n",
       "      <td>0.73</td>\n",
       "      <td>35.33</td>\n",
       "      <td>2.08</td>\n",
       "      <td>8916</td>\n",
       "      <td>1705</td>\n",
       "      <td>19.12</td>\n",
       "      <td>Eastern Mediterranean</td>\n",
       "    </tr>\n",
       "    <tr>\n",
       "      <th>183</th>\n",
       "      <td>Western Sahara</td>\n",
       "      <td>10</td>\n",
       "      <td>1</td>\n",
       "      <td>8</td>\n",
       "      <td>1</td>\n",
       "      <td>0</td>\n",
       "      <td>0</td>\n",
       "      <td>0</td>\n",
       "      <td>10.00</td>\n",
       "      <td>80.00</td>\n",
       "      <td>12.50</td>\n",
       "      <td>10</td>\n",
       "      <td>0</td>\n",
       "      <td>0.00</td>\n",
       "      <td>Africa</td>\n",
       "    </tr>\n",
       "    <tr>\n",
       "      <th>184</th>\n",
       "      <td>Yemen</td>\n",
       "      <td>1691</td>\n",
       "      <td>483</td>\n",
       "      <td>833</td>\n",
       "      <td>375</td>\n",
       "      <td>10</td>\n",
       "      <td>4</td>\n",
       "      <td>36</td>\n",
       "      <td>28.56</td>\n",
       "      <td>49.26</td>\n",
       "      <td>57.98</td>\n",
       "      <td>1619</td>\n",
       "      <td>72</td>\n",
       "      <td>4.45</td>\n",
       "      <td>Eastern Mediterranean</td>\n",
       "    </tr>\n",
       "    <tr>\n",
       "      <th>185</th>\n",
       "      <td>Zambia</td>\n",
       "      <td>4552</td>\n",
       "      <td>140</td>\n",
       "      <td>2815</td>\n",
       "      <td>1597</td>\n",
       "      <td>71</td>\n",
       "      <td>1</td>\n",
       "      <td>465</td>\n",
       "      <td>3.08</td>\n",
       "      <td>61.84</td>\n",
       "      <td>4.97</td>\n",
       "      <td>3326</td>\n",
       "      <td>1226</td>\n",
       "      <td>36.86</td>\n",
       "      <td>Africa</td>\n",
       "    </tr>\n",
       "    <tr>\n",
       "      <th>186</th>\n",
       "      <td>Zimbabwe</td>\n",
       "      <td>2704</td>\n",
       "      <td>36</td>\n",
       "      <td>542</td>\n",
       "      <td>2126</td>\n",
       "      <td>192</td>\n",
       "      <td>2</td>\n",
       "      <td>24</td>\n",
       "      <td>1.33</td>\n",
       "      <td>20.04</td>\n",
       "      <td>6.64</td>\n",
       "      <td>1713</td>\n",
       "      <td>991</td>\n",
       "      <td>57.85</td>\n",
       "      <td>Africa</td>\n",
       "    </tr>\n",
       "  </tbody>\n",
       "</table>\n",
       "<p>187 rows × 15 columns</p>\n",
       "</div>"
      ],
      "text/plain": [
       "         Country/Region  Confirmed  Deaths  Recovered  Active  New cases  \\\n",
       "0           Afghanistan      36263    1269      25198    9796        106   \n",
       "1               Albania       4880     144       2745    1991        117   \n",
       "2               Algeria      27973    1163      18837    7973        616   \n",
       "3               Andorra        907      52        803      52         10   \n",
       "4                Angola        950      41        242     667         18   \n",
       "..                  ...        ...     ...        ...     ...        ...   \n",
       "182  West Bank and Gaza      10621      78       3752    6791        152   \n",
       "183      Western Sahara         10       1          8       1          0   \n",
       "184               Yemen       1691     483        833     375         10   \n",
       "185              Zambia       4552     140       2815    1597         71   \n",
       "186            Zimbabwe       2704      36        542    2126        192   \n",
       "\n",
       "     New deaths  New recovered  Deaths / 100 Cases  Recovered / 100 Cases  \\\n",
       "0            10             18                3.50                  69.49   \n",
       "1             6             63                2.95                  56.25   \n",
       "2             8            749                4.16                  67.34   \n",
       "3             0              0                5.73                  88.53   \n",
       "4             1              0                4.32                  25.47   \n",
       "..          ...            ...                 ...                    ...   \n",
       "182           2              0                0.73                  35.33   \n",
       "183           0              0               10.00                  80.00   \n",
       "184           4             36               28.56                  49.26   \n",
       "185           1            465                3.08                  61.84   \n",
       "186           2             24                1.33                  20.04   \n",
       "\n",
       "     Deaths / 100 Recovered  Confirmed last week  1 week change  \\\n",
       "0                      5.04                35526            737   \n",
       "1                      5.25                 4171            709   \n",
       "2                      6.17                23691           4282   \n",
       "3                      6.48                  884             23   \n",
       "4                     16.94                  749            201   \n",
       "..                      ...                  ...            ...   \n",
       "182                    2.08                 8916           1705   \n",
       "183                   12.50                   10              0   \n",
       "184                   57.98                 1619             72   \n",
       "185                    4.97                 3326           1226   \n",
       "186                    6.64                 1713            991   \n",
       "\n",
       "     1 week % increase             WHO Region  \n",
       "0                 2.07  Eastern Mediterranean  \n",
       "1                17.00                 Europe  \n",
       "2                18.07                 Africa  \n",
       "3                 2.60                 Europe  \n",
       "4                26.84                 Africa  \n",
       "..                 ...                    ...  \n",
       "182              19.12  Eastern Mediterranean  \n",
       "183               0.00                 Africa  \n",
       "184               4.45  Eastern Mediterranean  \n",
       "185              36.86                 Africa  \n",
       "186              57.85                 Africa  \n",
       "\n",
       "[187 rows x 15 columns]"
      ]
     },
     "execution_count": 36,
     "metadata": {},
     "output_type": "execute_result"
    }
   ],
   "source": [
    "df.fillna(0)"
   ]
  },
  {
   "cell_type": "code",
   "execution_count": 39,
   "metadata": {},
   "outputs": [
    {
     "name": "stderr",
     "output_type": "stream",
     "text": [
      "c:\\Users\\Shreyansh Singh\\AppData\\Local\\Programs\\Python\\Python310\\lib\\site-packages\\seaborn\\axisgrid.py:118: UserWarning:\n",
      "\n",
      "The figure layout has changed to tight\n",
      "\n"
     ]
    },
    {
     "data": {
      "text/plain": [
       "<seaborn.axisgrid.PairGrid at 0x2e416cc88e0>"
      ]
     },
     "execution_count": 39,
     "metadata": {},
     "output_type": "execute_result"
    },
    {
     "data": {
      "image/png": "[encoded data removed]",
      "text/plain": [
       "<Figure size 3250x3250 with 182 Axes>"
      ]
     },
     "metadata": {},
     "output_type": "display_data"
    }
   ],
   "source": [
    "sns.pairplot(df, kind='hexbin')"
   ]
  },
  {
   "cell_type": "code",
   "execution_count": 44,
   "metadata": {},
   "outputs": [
    {
     "data": {
      "application/vnd.plotly.v1+json": {
       "config": {
        "linkText": "Export to plot.ly",
        "plotlyServerURL": "https://plot.ly",
        "showLink": true
       },
       "data": [
        {
         "labels": [
          "Afghanistan",
          "Albania",
          "Algeria",
          "Andorra",
          "Angola",
          "Antigua and Barbuda",
          "Argentina",
          "Armenia",
          "Australia",
          "Austria",
          "Azerbaijan",
          "Bahamas",
          "Bahrain",
          "Bangladesh",
          "Barbados",
          "Belarus",
          "Belgium",
          "Belize",
          "Benin",
          "Bhutan",
          "Bolivia",
          "Bosnia and Herzegovina",
          "Botswana",
          "Brazil",
          "Brunei",
          "Bulgaria",
          "Burkina Faso",
          "Burma",
          "Burundi",
          "Cabo Verde",
          "Cambodia",
          "Cameroon",
          "Canada",
          "Central African Republic",
          "Chad",
          "Chile",
          "China",
          "Colombia",
          "Comoros",
          "Congo (Brazzaville)",
          "Congo (Kinshasa)",
          "Costa Rica",
          "Cote d'Ivoire",
          "Croatia",
          "Cuba",
          "Cyprus",
          "Czechia",
          "Denmark",
          "Djibouti",
          "Dominica",
          "Dominican Republic",
          "Ecuador",
          "Egypt",
          "El Salvador",
          "Equatorial Guinea",
          "Eritrea",
          "Estonia",
          "Eswatini",
          "Ethiopia",
          "Fiji",
          "Finland",
          "France",
          "Gabon",
          "Gambia",
          "Georgia",
          "Germany",
          "Ghana",
          "Greece",
          "Greenland",
          "Grenada",
          "Guatemala",
          "Guinea",
          "Guinea-Bissau",
          "Guyana",
          "Haiti",
          "Holy See",
          "Honduras",
          "Hungary",
          "Iceland",
          "India",
          "Indonesia",
          "Iran",
          "Iraq",
          "Ireland",
          "Israel",
          "Italy",
          "Jamaica",
          "Japan",
          "Jordan",
          "Kazakhstan",
          "Kenya",
          "Kosovo",
          "Kuwait",
          "Kyrgyzstan",
          "Laos",
          "Latvia",
          "Lebanon",
          "Lesotho",
          "Liberia",
          "Libya",
          "Liechtenstein",
          "Lithuania",
          "Luxembourg",
          "Madagascar",
          "Malawi",
          "Malaysia",
          "Maldives",
          "Mali",
          "Malta",
          "Mauritania",
          "Mauritius",
          "Mexico",
          "Moldova",
          "Monaco",
          "Mongolia",
          "Montenegro",
          "Morocco",
          "Mozambique",
          "Namibia",
          "Nepal",
          "Netherlands",
          "New Zealand",
          "Nicaragua",
          "Niger",
          "Nigeria",
          "North Macedonia",
          "Norway",
          "Oman",
          "Pakistan",
          "Panama",
          "Papua New Guinea",
          "Paraguay",
          "Peru",
          "Philippines",
          "Poland",
          "Portugal",
          "Qatar",
          "Romania",
          "Russia",
          "Rwanda",
          "Saint Kitts and Nevis",
          "Saint Lucia",
          "Saint Vincent and the Grenadines",
          "San Marino",
          "Sao Tome and Principe",
          "Saudi Arabia",
          "Senegal",
          "Serbia",
          "Seychelles",
          "Sierra Leone",
          "Singapore",
          "Slovakia",
          "Slovenia",
          "Somalia",
          "South Africa",
          "South Korea",
          "South Sudan",
          "Spain",
          "Sri Lanka",
          "Sudan",
          "Suriname",
          "Sweden",
          "Switzerland",
          "Syria",
          "Taiwan*",
          "Tajikistan",
          "Tanzania",
          "Thailand",
          "Timor-Leste",
          "Togo",
          "Trinidad and Tobago",
          "Tunisia",
          "Turkey",
          "US",
          "Uganda",
          "Ukraine",
          "United Arab Emirates",
          "United Kingdom",
          "Uruguay",
          "Uzbekistan",
          "Venezuela",
          "Vietnam",
          "West Bank and Gaza",
          "Western Sahara",
          "Yemen",
          "Zambia",
          "Zimbabwe"
         ],
         "marker": {
          "colors": [
           "rgba(255, 153, 51, 1.0)",
           "rgba(55, 128, 191, 1.0)",
           "rgba(50, 171, 96, 1.0)",
           "rgba(128, 0, 128, 1.0)",
           "rgba(219, 64, 82, 1.0)",
           "rgba(0, 128, 128, 1.0)",
           "rgba(255, 255, 51, 1.0)",
           "rgba(128, 128, 0, 1.0)",
           "rgba(251, 128, 114, 1.0)",
           "rgba(128, 177, 211, 1.0)",
           "rgba(128, 177, 211, 0.9572192513368984)",
           "rgba(255, 153, 51, 0.9572192513368984)",
           "rgba(55, 128, 191, 0.9572192513368984)",
           "rgba(50, 171, 96, 0.9572192513368984)",
           "rgba(128, 0, 128, 0.9572192513368984)",
           "rgba(219, 64, 82, 0.9572192513368984)",
           "rgba(0, 128, 128, 0.9572192513368984)",
           "rgba(255, 255, 51, 0.9572192513368984)",
           "rgba(128, 128, 0, 0.9572192513368984)",
           "rgba(251, 128, 114, 0.9572192513368984)",
           "rgba(251, 128, 114, 0.9144385026737967)",
           "rgba(128, 177, 211, 0.9144385026737967)",
           "rgba(255, 153, 51, 0.9144385026737967)",
           "rgba(55, 128, 191, 0.9144385026737967)",
           "rgba(50, 171, 96, 0.9144385026737967)",
           "rgba(128, 0, 128, 0.9144385026737967)",
           "rgba(219, 64, 82, 0.9144385026737967)",
           "rgba(0, 128, 128, 0.9144385026737967)",
           "rgba(255, 255, 51, 0.9144385026737967)",
           "rgba(128, 128, 0, 0.9144385026737967)",
           "rgba(128, 128, 0, 0.8716577540106951)",
           "rgba(251, 128, 114, 0.8716577540106951)",
           "rgba(128, 177, 211, 0.8716577540106951)",
           "rgba(255, 153, 51, 0.8716577540106951)",
           "rgba(55, 128, 191, 0.8716577540106951)",
           "rgba(50, 171, 96, 0.8716577540106951)",
           "rgba(128, 0, 128, 0.8716577540106951)",
           "rgba(219, 64, 82, 0.8716577540106951)",
           "rgba(0, 128, 128, 0.8716577540106951)",
           "rgba(255, 255, 51, 0.8716577540106951)",
           "rgba(255, 255, 51, 0.8288770053475936)",
           "rgba(128, 128, 0, 0.8288770053475936)",
           "rgba(251, 128, 114, 0.8288770053475936)",
           "rgba(128, 177, 211, 0.8288770053475936)",
           "rgba(255, 153, 51, 0.8288770053475936)",
           "rgba(55, 128, 191, 0.8288770053475936)",
           "rgba(50, 171, 96, 0.8288770053475936)",
           "rgba(128, 0, 128, 0.8288770053475936)",
           "rgba(219, 64, 82, 0.8288770053475936)",
           "rgba(0, 128, 128, 0.8288770053475936)",
           "rgba(0, 128, 128, 0.786096256684492)",
           "rgba(255, 255, 51, 0.786096256684492)",
           "rgba(128, 128, 0, 0.786096256684492)",
           "rgba(251, 128, 114, 0.786096256684492)",
           "rgba(128, 177, 211, 0.786096256684492)",
           "rgba(255, 153, 51, 0.786096256684492)",
           "rgba(55, 128, 191, 0.786096256684492)",
           "rgba(50, 171, 96, 0.786096256684492)",
           "rgba(128, 0, 128, 0.786096256684492)",
           "rgba(219, 64, 82, 0.786096256684492)",
           "rgba(219, 64, 82, 0.7433155080213902)",
           "rgba(0, 128, 128, 0.7433155080213902)",
           "rgba(255, 255, 51, 0.7433155080213902)",
           "rgba(128, 128, 0, 0.7433155080213902)",
           "rgba(251, 128, 114, 0.7433155080213902)",
           "rgba(128, 177, 211, 0.7433155080213902)",
           "rgba(255, 153, 51, 0.7433155080213902)",
           "rgba(55, 128, 191, 0.7433155080213902)",
           "rgba(50, 171, 96, 0.7433155080213902)",
           "rgba(128, 0, 128, 0.7433155080213902)",
           "rgba(128, 0, 128, 0.7005347593582887)",
           "rgba(219, 64, 82, 0.7005347593582887)",
           "rgba(0, 128, 128, 0.7005347593582887)",
           "rgba(255, 255, 51, 0.7005347593582887)",
           "rgba(128, 128, 0, 0.7005347593582887)",
           "rgba(251, 128, 114, 0.7005347593582887)",
           "rgba(128, 177, 211, 0.7005347593582887)",
           "rgba(255, 153, 51, 0.7005347593582887)",
           "rgba(55, 128, 191, 0.7005347593582887)",
           "rgba(50, 171, 96, 0.7005347593582887)",
           "rgba(50, 171, 96, 0.6577540106951871)",
           "rgba(128, 0, 128, 0.6577540106951871)",
           "rgba(219, 64, 82, 0.6577540106951871)",
           "rgba(0, 128, 128, 0.6577540106951871)",
           "rgba(255, 255, 51, 0.6577540106951871)",
           "rgba(128, 128, 0, 0.6577540106951871)",
           "rgba(251, 128, 114, 0.6577540106951871)",
           "rgba(128, 177, 211, 0.6577540106951871)",
           "rgba(255, 153, 51, 0.6577540106951871)",
           "rgba(55, 128, 191, 0.6577540106951871)",
           "rgba(55, 128, 191, 0.6149732620320856)",
           "rgba(50, 171, 96, 0.6149732620320856)",
           "rgba(128, 0, 128, 0.6149732620320856)",
           "rgba(219, 64, 82, 0.6149732620320856)",
           "rgba(0, 128, 128, 0.6149732620320856)",
           "rgba(255, 255, 51, 0.6149732620320856)",
           "rgba(128, 128, 0, 0.6149732620320856)",
           "rgba(251, 128, 114, 0.6149732620320856)",
           "rgba(128, 177, 211, 0.6149732620320856)",
           "rgba(255, 153, 51, 0.6149732620320856)",
           "rgba(255, 153, 51, 0.5721925133689838)",
           "rgba(55, 128, 191, 0.5721925133689838)",
           "rgba(50, 171, 96, 0.5721925133689838)",
           "rgba(128, 0, 128, 0.5721925133689838)",
           "rgba(219, 64, 82, 0.5721925133689838)",
           "rgba(0, 128, 128, 0.5721925133689838)",
           "rgba(255, 255, 51, 0.5721925133689838)",
           "rgba(128, 128, 0, 0.5721925133689838)",
           "rgba(251, 128, 114, 0.5721925133689838)",
           "rgba(128, 177, 211, 0.5721925133689838)",
           "rgba(128, 177, 211, 0.5294117647058822)",
           "rgba(255, 153, 51, 0.5294117647058822)",
           "rgba(55, 128, 191, 0.5294117647058822)",
           "rgba(50, 171, 96, 0.5294117647058822)",
           "rgba(128, 0, 128, 0.5294117647058822)",
           "rgba(219, 64, 82, 0.5294117647058822)",
           "rgba(0, 128, 128, 0.5294117647058822)",
           "rgba(255, 255, 51, 0.5294117647058822)",
           "rgba(128, 128, 0, 0.5294117647058822)",
           "rgba(251, 128, 114, 0.5294117647058822)",
           "rgba(251, 128, 114, 0.48663101604278075)",
           "rgba(128, 177, 211, 0.48663101604278075)",
           "rgba(255, 153, 51, 0.48663101604278075)",
           "rgba(55, 128, 191, 0.48663101604278075)",
           "rgba(50, 171, 96, 0.48663101604278075)",
           "rgba(128, 0, 128, 0.48663101604278075)",
           "rgba(219, 64, 82, 0.48663101604278075)",
           "rgba(0, 128, 128, 0.48663101604278075)",
           "rgba(255, 255, 51, 0.48663101604278075)",
           "rgba(128, 128, 0, 0.48663101604278075)",
           "rgba(128, 128, 0, 0.4438502673796792)",
           "rgba(251, 128, 114, 0.4438502673796792)",
           "rgba(128, 177, 211, 0.4438502673796792)",
           "rgba(255, 153, 51, 0.4438502673796792)",
           "rgba(55, 128, 191, 0.4438502673796792)",
           "rgba(50, 171, 96, 0.4438502673796792)",
           "rgba(128, 0, 128, 0.4438502673796792)",
           "rgba(219, 64, 82, 0.4438502673796792)",
           "rgba(0, 128, 128, 0.4438502673796792)",
           "rgba(255, 255, 51, 0.4438502673796792)",
           "rgba(255, 255, 51, 0.4010695187165774)",
           "rgba(128, 128, 0, 0.4010695187165774)",
           "rgba(251, 128, 114, 0.4010695187165774)",
           "rgba(128, 177, 211, 0.4010695187165774)",
           "rgba(255, 153, 51, 0.4010695187165774)",
           "rgba(55, 128, 191, 0.4010695187165774)",
           "rgba(50, 171, 96, 0.4010695187165774)",
           "rgba(128, 0, 128, 0.4010695187165774)",
           "rgba(219, 64, 82, 0.4010695187165774)",
           "rgba(0, 128, 128, 0.4010695187165774)",
           "rgba(0, 128, 128, 0.35828877005347587)",
           "rgba(255, 255, 51, 0.35828877005347587)",
           "rgba(128, 128, 0, 0.35828877005347587)",
           "rgba(251, 128, 114, 0.35828877005347587)",
           "rgba(128, 177, 211, 0.35828877005347587)",
           "rgba(255, 153, 51, 0.35828877005347587)",
           "rgba(55, 128, 191, 0.35828877005347587)",
           "rgba(50, 171, 96, 0.35828877005347587)",
           "rgba(128, 0, 128, 0.35828877005347587)",
           "rgba(219, 64, 82, 0.35828877005347587)",
           "rgba(219, 64, 82, 0.3155080213903743)",
           "rgba(0, 128, 128, 0.3155080213903743)",
           "rgba(255, 255, 51, 0.3155080213903743)",
           "rgba(128, 128, 0, 0.3155080213903743)",
           "rgba(251, 128, 114, 0.3155080213903743)",
           "rgba(128, 177, 211, 0.3155080213903743)",
           "rgba(255, 153, 51, 0.3155080213903743)",
           "rgba(55, 128, 191, 0.3155080213903743)",
           "rgba(50, 171, 96, 0.3155080213903743)",
           "rgba(128, 0, 128, 0.3155080213903743)",
           "rgba(128, 0, 128, 0.27272727272727276)",
           "rgba(219, 64, 82, 0.27272727272727276)",
           "rgba(0, 128, 128, 0.27272727272727276)",
           "rgba(255, 255, 51, 0.27272727272727276)",
           "rgba(128, 128, 0, 0.27272727272727276)",
           "rgba(251, 128, 114, 0.27272727272727276)",
           "rgba(128, 177, 211, 0.27272727272727276)",
           "rgba(255, 153, 51, 0.27272727272727276)",
           "rgba(55, 128, 191, 0.27272727272727276)",
           "rgba(50, 171, 96, 0.27272727272727276)",
           "rgba(50, 171, 96, 0.229946524064171)",
           "rgba(128, 0, 128, 0.229946524064171)",
           "rgba(219, 64, 82, 0.229946524064171)",
           "rgba(0, 128, 128, 0.229946524064171)",
           "rgba(255, 255, 51, 0.229946524064171)",
           "rgba(128, 128, 0, 0.229946524064171)",
           "rgba(251, 128, 114, 0.229946524064171)"
          ]
         },
         "name": "",
         "type": "pie",
         "values": [
          10,
          6,
          8,
          0,
          1,
          0,
          120,
          6,
          6,
          1,
          6,
          0,
          1,
          37,
          0,
          4,
          1,
          0,
          0,
          0,
          64,
          14,
          1,
          614,
          0,
          7,
          0,
          0,
          0,
          0,
          0,
          6,
          11,
          0,
          0,
          75,
          4,
          508,
          0,
          3,
          4,
          11,
          0,
          3,
          0,
          0,
          2,
          0,
          0,
          0,
          20,
          17,
          46,
          8,
          0,
          0,
          0,
          2,
          5,
          0,
          0,
          17,
          0,
          2,
          0,
          1,
          0,
          0,
          0,
          0,
          27,
          2,
          0,
          0,
          1,
          0,
          50,
          0,
          0,
          637,
          57,
          212,
          96,
          0,
          4,
          5,
          0,
          0,
          0,
          0,
          5,
          16,
          5,
          24,
          0,
          0,
          0,
          0,
          0,
          4,
          0,
          0,
          0,
          6,
          0,
          0,
          0,
          1,
          0,
          0,
          0,
          342,
          13,
          0,
          0,
          2,
          3,
          0,
          0,
          3,
          1,
          0,
          0,
          0,
          2,
          6,
          0,
          9,
          20,
          28,
          0,
          2,
          575,
          13,
          5,
          2,
          0,
          19,
          85,
          0,
          0,
          0,
          0,
          0,
          0,
          27,
          3,
          9,
          0,
          0,
          0,
          0,
          0,
          0,
          298,
          1,
          1,
          0,
          0,
          3,
          1,
          3,
          1,
          2,
          0,
          1,
          0,
          0,
          0,
          0,
          0,
          0,
          17,
          1076,
          0,
          11,
          1,
          7,
          1,
          5,
          4,
          0,
          2,
          0,
          4,
          1,
          2
         ]
        }
       ],
       "layout": {
        "legend": {
         "bgcolor": "#F5F6F9",
         "font": {
          "color": "#4D5663"
         }
        },
        "paper_bgcolor": "#F5F6F9",
        "plot_bgcolor": "#F5F6F9",
        "title": "Total by Country",
        "titlefont": {
         "color": "#4D5663"
        }
       }
      },
      "text/html": [
       "<div>                            <div id=\"4f7b3f1c-be9f-4f70-95fe-48fc42654010\" class=\"plotly-graph-div\" style=\"height:525px; width:100%;\"></div>            <script type=\"text/javascript\">                require([\"plotly\"], function(Plotly) {                    window.PLOTLYENV=window.PLOTLYENV || {};\n",
       "                    window.PLOTLYENV.BASE_URL='https://plot.ly';                                    if (document.getElementById(\"4f7b3f1c-be9f-4f70-95fe-48fc42654010\")) {                    Plotly.newPlot(                        \"4f7b3f1c-be9f-4f70-95fe-48fc42654010\",                        [{\"labels\":[\"Afghanistan\",\"Albania\",\"Algeria\",\"Andorra\",\"Angola\",\"Antigua and Barbuda\",\"Argentina\",\"Armenia\",\"Australia\",\"Austria\",\"Azerbaijan\",\"Bahamas\",\"Bahrain\",\"Bangladesh\",\"Barbados\",\"Belarus\",\"Belgium\",\"Belize\",\"Benin\",\"Bhutan\",\"Bolivia\",\"Bosnia and Herzegovina\",\"Botswana\",\"Brazil\",\"Brunei\",\"Bulgaria\",\"Burkina Faso\",\"Burma\",\"Burundi\",\"Cabo Verde\",\"Cambodia\",\"Cameroon\",\"Canada\",\"Central African Republic\",\"Chad\",\"Chile\",\"China\",\"Colombia\",\"Comoros\",\"Congo (Brazzaville)\",\"Congo (Kinshasa)\",\"Costa Rica\",\"Cote d'Ivoire\",\"Croatia\",\"Cuba\",\"Cyprus\",\"Czechia\",\"Denmark\",\"Djibouti\",\"Dominica\",\"Dominican Republic\",\"Ecuador\",\"Egypt\",\"El Salvador\",\"Equatorial Guinea\",\"Eritrea\",\"Estonia\",\"Eswatini\",\"Ethiopia\",\"Fiji\",\"Finland\",\"France\",\"Gabon\",\"Gambia\",\"Georgia\",\"Germany\",\"Ghana\",\"Greece\",\"Greenland\",\"Grenada\",\"Guatemala\",\"Guinea\",\"Guinea-Bissau\",\"Guyana\",\"Haiti\",\"Holy See\",\"Honduras\",\"Hungary\",\"Iceland\",\"India\",\"Indonesia\",\"Iran\",\"Iraq\",\"Ireland\",\"Israel\",\"Italy\",\"Jamaica\",\"Japan\",\"Jordan\",\"Kazakhstan\",\"Kenya\",\"Kosovo\",\"Kuwait\",\"Kyrgyzstan\",\"Laos\",\"Latvia\",\"Lebanon\",\"Lesotho\",\"Liberia\",\"Libya\",\"Liechtenstein\",\"Lithuania\",\"Luxembourg\",\"Madagascar\",\"Malawi\",\"Malaysia\",\"Maldives\",\"Mali\",\"Malta\",\"Mauritania\",\"Mauritius\",\"Mexico\",\"Moldova\",\"Monaco\",\"Mongolia\",\"Montenegro\",\"Morocco\",\"Mozambique\",\"Namibia\",\"Nepal\",\"Netherlands\",\"New Zealand\",\"Nicaragua\",\"Niger\",\"Nigeria\",\"North Macedonia\",\"Norway\",\"Oman\",\"Pakistan\",\"Panama\",\"Papua New Guinea\",\"Paraguay\",\"Peru\",\"Philippines\",\"Poland\",\"Portugal\",\"Qatar\",\"Romania\",\"Russia\",\"Rwanda\",\"Saint Kitts and Nevis\",\"Saint Lucia\",\"Saint Vincent and the Grenadines\",\"San Marino\",\"Sao Tome and Principe\",\"Saudi Arabia\",\"Senegal\",\"Serbia\",\"Seychelles\",\"Sierra Leone\",\"Singapore\",\"Slovakia\",\"Slovenia\",\"Somalia\",\"South Africa\",\"South Korea\",\"South Sudan\",\"Spain\",\"Sri Lanka\",\"Sudan\",\"Suriname\",\"Sweden\",\"Switzerland\",\"Syria\",\"Taiwan*\",\"Tajikistan\",\"Tanzania\",\"Thailand\",\"Timor-Leste\",\"Togo\",\"Trinidad and Tobago\",\"Tunisia\",\"Turkey\",\"US\",\"Uganda\",\"Ukraine\",\"United Arab Emirates\",\"United Kingdom\",\"Uruguay\",\"Uzbekistan\",\"Venezuela\",\"Vietnam\",\"West Bank and Gaza\",\"Western Sahara\",\"Yemen\",\"Zambia\",\"Zimbabwe\"],\"marker\":{\"colors\":[\"rgba(255, 153, 51, 1.0)\",\"rgba(55, 128, 191, 1.0)\",\"rgba(50, 171, 96, 1.0)\",\"rgba(128, 0, 128, 1.0)\",\"rgba(219, 64, 82, 1.0)\",\"rgba(0, 128, 128, 1.0)\",\"rgba(255, 255, 51, 1.0)\",\"rgba(128, 128, 0, 1.0)\",\"rgba(251, 128, 114, 1.0)\",\"rgba(128, 177, 211, 1.0)\",\"rgba(128, 177, 211, 0.9572192513368984)\",\"rgba(255, 153, 51, 0.9572192513368984)\",\"rgba(55, 128, 191, 0.9572192513368984)\",\"rgba(50, 171, 96, 0.9572192513368984)\",\"rgba(128, 0, 128, 0.9572192513368984)\",\"rgba(219, 64, 82, 0.9572192513368984)\",\"rgba(0, 128, 128, 0.9572192513368984)\",\"rgba(255, 255, 51, 0.9572192513368984)\",\"rgba(128, 128, 0, 0.9572192513368984)\",\"rgba(251, 128, 114, 0.9572192513368984)\",\"rgba(251, 128, 114, 0.9144385026737967)\",\"rgba(128, 177, 211, 0.9144385026737967)\",\"rgba(255, 153, 51, 0.9144385026737967)\",\"rgba(55, 128, 191, 0.9144385026737967)\",\"rgba(50, 171, 96, 0.9144385026737967)\",\"rgba(128, 0, 128, 0.9144385026737967)\",\"rgba(219, 64, 82, 0.9144385026737967)\",\"rgba(0, 128, 128, 0.9144385026737967)\",\"rgba(255, 255, 51, 0.9144385026737967)\",\"rgba(128, 128, 0, 0.9144385026737967)\",\"rgba(128, 128, 0, 0.8716577540106951)\",\"rgba(251, 128, 114, 0.8716577540106951)\",\"rgba(128, 177, 211, 0.8716577540106951)\",\"rgba(255, 153, 51, 0.8716577540106951)\",\"rgba(55, 128, 191, 0.8716577540106951)\",\"rgba(50, 171, 96, 0.8716577540106951)\",\"rgba(128, 0, 128, 0.8716577540106951)\",\"rgba(219, 64, 82, 0.8716577540106951)\",\"rgba(0, 128, 128, 0.8716577540106951)\",\"rgba(255, 255, 51, 0.8716577540106951)\",\"rgba(255, 255, 51, 0.8288770053475936)\",\"rgba(128, 128, 0, 0.8288770053475936)\",\"rgba(251, 128, 114, 0.8288770053475936)\",\"rgba(128, 177, 211, 0.8288770053475936)\",\"rgba(255, 153, 51, 0.8288770053475936)\",\"rgba(55, 128, 191, 0.8288770053475936)\",\"rgba(50, 171, 96, 0.8288770053475936)\",\"rgba(128, 0, 128, 0.8288770053475936)\",\"rgba(219, 64, 82, 0.8288770053475936)\",\"rgba(0, 128, 128, 0.8288770053475936)\",\"rgba(0, 128, 128, 0.786096256684492)\",\"rgba(255, 255, 51, 0.786096256684492)\",\"rgba(128, 128, 0, 0.786096256684492)\",\"rgba(251, 128, 114, 0.786096256684492)\",\"rgba(128, 177, 211, 0.786096256684492)\",\"rgba(255, 153, 51, 0.786096256684492)\",\"rgba(55, 128, 191, 0.786096256684492)\",\"rgba(50, 171, 96, 0.786096256684492)\",\"rgba(128, 0, 128, 0.786096256684492)\",\"rgba(219, 64, 82, 0.786096256684492)\",\"rgba(219, 64, 82, 0.7433155080213902)\",\"rgba(0, 128, 128, 0.7433155080213902)\",\"rgba(255, 255, 51, 0.7433155080213902)\",\"rgba(128, 128, 0, 0.7433155080213902)\",\"rgba(251, 128, 114, 0.7433155080213902)\",\"rgba(128, 177, 211, 0.7433155080213902)\",\"rgba(255, 153, 51, 0.7433155080213902)\",\"rgba(55, 128, 191, 0.7433155080213902)\",\"rgba(50, 171, 96, 0.7433155080213902)\",\"rgba(128, 0, 128, 0.7433155080213902)\",\"rgba(128, 0, 128, 0.7005347593582887)\",\"rgba(219, 64, 82, 0.7005347593582887)\",\"rgba(0, 128, 128, 0.7005347593582887)\",\"rgba(255, 255, 51, 0.7005347593582887)\",\"rgba(128, 128, 0, 0.7005347593582887)\",\"rgba(251, 128, 114, 0.7005347593582887)\",\"rgba(128, 177, 211, 0.7005347593582887)\",\"rgba(255, 153, 51, 0.7005347593582887)\",\"rgba(55, 128, 191, 0.7005347593582887)\",\"rgba(50, 171, 96, 0.7005347593582887)\",\"rgba(50, 171, 96, 0.6577540106951871)\",\"rgba(128, 0, 128, 0.6577540106951871)\",\"rgba(219, 64, 82, 0.6577540106951871)\",\"rgba(0, 128, 128, 0.6577540106951871)\",\"rgba(255, 255, 51, 0.6577540106951871)\",\"rgba(128, 128, 0, 0.6577540106951871)\",\"rgba(251, 128, 114, 0.6577540106951871)\",\"rgba(128, 177, 211, 0.6577540106951871)\",\"rgba(255, 153, 51, 0.6577540106951871)\",\"rgba(55, 128, 191, 0.6577540106951871)\",\"rgba(55, 128, 191, 0.6149732620320856)\",\"rgba(50, 171, 96, 0.6149732620320856)\",\"rgba(128, 0, 128, 0.6149732620320856)\",\"rgba(219, 64, 82, 0.6149732620320856)\",\"rgba(0, 128, 128, 0.6149732620320856)\",\"rgba(255, 255, 51, 0.6149732620320856)\",\"rgba(128, 128, 0, 0.6149732620320856)\",\"rgba(251, 128, 114, 0.6149732620320856)\",\"rgba(128, 177, 211, 0.6149732620320856)\",\"rgba(255, 153, 51, 0.6149732620320856)\",\"rgba(255, 153, 51, 0.5721925133689838)\",\"rgba(55, 128, 191, 0.5721925133689838)\",\"rgba(50, 171, 96, 0.5721925133689838)\",\"rgba(128, 0, 128, 0.5721925133689838)\",\"rgba(219, 64, 82, 0.5721925133689838)\",\"rgba(0, 128, 128, 0.5721925133689838)\",\"rgba(255, 255, 51, 0.5721925133689838)\",\"rgba(128, 128, 0, 0.5721925133689838)\",\"rgba(251, 128, 114, 0.5721925133689838)\",\"rgba(128, 177, 211, 0.5721925133689838)\",\"rgba(128, 177, 211, 0.5294117647058822)\",\"rgba(255, 153, 51, 0.5294117647058822)\",\"rgba(55, 128, 191, 0.5294117647058822)\",\"rgba(50, 171, 96, 0.5294117647058822)\",\"rgba(128, 0, 128, 0.5294117647058822)\",\"rgba(219, 64, 82, 0.5294117647058822)\",\"rgba(0, 128, 128, 0.5294117647058822)\",\"rgba(255, 255, 51, 0.5294117647058822)\",\"rgba(128, 128, 0, 0.5294117647058822)\",\"rgba(251, 128, 114, 0.5294117647058822)\",\"rgba(251, 128, 114, 0.48663101604278075)\",\"rgba(128, 177, 211, 0.48663101604278075)\",\"rgba(255, 153, 51, 0.48663101604278075)\",\"rgba(55, 128, 191, 0.48663101604278075)\",\"rgba(50, 171, 96, 0.48663101604278075)\",\"rgba(128, 0, 128, 0.48663101604278075)\",\"rgba(219, 64, 82, 0.48663101604278075)\",\"rgba(0, 128, 128, 0.48663101604278075)\",\"rgba(255, 255, 51, 0.48663101604278075)\",\"rgba(128, 128, 0, 0.48663101604278075)\",\"rgba(128, 128, 0, 0.4438502673796792)\",\"rgba(251, 128, 114, 0.4438502673796792)\",\"rgba(128, 177, 211, 0.4438502673796792)\",\"rgba(255, 153, 51, 0.4438502673796792)\",\"rgba(55, 128, 191, 0.4438502673796792)\",\"rgba(50, 171, 96, 0.4438502673796792)\",\"rgba(128, 0, 128, 0.4438502673796792)\",\"rgba(219, 64, 82, 0.4438502673796792)\",\"rgba(0, 128, 128, 0.4438502673796792)\",\"rgba(255, 255, 51, 0.4438502673796792)\",\"rgba(255, 255, 51, 0.4010695187165774)\",\"rgba(128, 128, 0, 0.4010695187165774)\",\"rgba(251, 128, 114, 0.4010695187165774)\",\"rgba(128, 177, 211, 0.4010695187165774)\",\"rgba(255, 153, 51, 0.4010695187165774)\",\"rgba(55, 128, 191, 0.4010695187165774)\",\"rgba(50, 171, 96, 0.4010695187165774)\",\"rgba(128, 0, 128, 0.4010695187165774)\",\"rgba(219, 64, 82, 0.4010695187165774)\",\"rgba(0, 128, 128, 0.4010695187165774)\",\"rgba(0, 128, 128, 0.35828877005347587)\",\"rgba(255, 255, 51, 0.35828877005347587)\",\"rgba(128, 128, 0, 0.35828877005347587)\",\"rgba(251, 128, 114, 0.35828877005347587)\",\"rgba(128, 177, 211, 0.35828877005347587)\",\"rgba(255, 153, 51, 0.35828877005347587)\",\"rgba(55, 128, 191, 0.35828877005347587)\",\"rgba(50, 171, 96, 0.35828877005347587)\",\"rgba(128, 0, 128, 0.35828877005347587)\",\"rgba(219, 64, 82, 0.35828877005347587)\",\"rgba(219, 64, 82, 0.3155080213903743)\",\"rgba(0, 128, 128, 0.3155080213903743)\",\"rgba(255, 255, 51, 0.3155080213903743)\",\"rgba(128, 128, 0, 0.3155080213903743)\",\"rgba(251, 128, 114, 0.3155080213903743)\",\"rgba(128, 177, 211, 0.3155080213903743)\",\"rgba(255, 153, 51, 0.3155080213903743)\",\"rgba(55, 128, 191, 0.3155080213903743)\",\"rgba(50, 171, 96, 0.3155080213903743)\",\"rgba(128, 0, 128, 0.3155080213903743)\",\"rgba(128, 0, 128, 0.27272727272727276)\",\"rgba(219, 64, 82, 0.27272727272727276)\",\"rgba(0, 128, 128, 0.27272727272727276)\",\"rgba(255, 255, 51, 0.27272727272727276)\",\"rgba(128, 128, 0, 0.27272727272727276)\",\"rgba(251, 128, 114, 0.27272727272727276)\",\"rgba(128, 177, 211, 0.27272727272727276)\",\"rgba(255, 153, 51, 0.27272727272727276)\",\"rgba(55, 128, 191, 0.27272727272727276)\",\"rgba(50, 171, 96, 0.27272727272727276)\",\"rgba(50, 171, 96, 0.229946524064171)\",\"rgba(128, 0, 128, 0.229946524064171)\",\"rgba(219, 64, 82, 0.229946524064171)\",\"rgba(0, 128, 128, 0.229946524064171)\",\"rgba(255, 255, 51, 0.229946524064171)\",\"rgba(128, 128, 0, 0.229946524064171)\",\"rgba(251, 128, 114, 0.229946524064171)\"]},\"name\":\"\",\"values\":[10,6,8,0,1,0,120,6,6,1,6,0,1,37,0,4,1,0,0,0,64,14,1,614,0,7,0,0,0,0,0,6,11,0,0,75,4,508,0,3,4,11,0,3,0,0,2,0,0,0,20,17,46,8,0,0,0,2,5,0,0,17,0,2,0,1,0,0,0,0,27,2,0,0,1,0,50,0,0,637,57,212,96,0,4,5,0,0,0,0,5,16,5,24,0,0,0,0,0,4,0,0,0,6,0,0,0,1,0,0,0,342,13,0,0,2,3,0,0,3,1,0,0,0,2,6,0,9,20,28,0,2,575,13,5,2,0,19,85,0,0,0,0,0,0,27,3,9,0,0,0,0,0,0,298,1,1,0,0,3,1,3,1,2,0,1,0,0,0,0,0,0,17,1076,0,11,1,7,1,5,4,0,2,0,4,1,2],\"type\":\"pie\"}],                        {\"legend\":{\"bgcolor\":\"#F5F6F9\",\"font\":{\"color\":\"#4D5663\"}},\"paper_bgcolor\":\"#F5F6F9\",\"plot_bgcolor\":\"#F5F6F9\",\"titlefont\":{\"color\":\"#4D5663\"},\"title\":\"Total by Country\"},                        {\"showLink\": true, \"linkText\": \"Export to plot.ly\", \"plotlyServerURL\": \"https://plot.ly\", \"responsive\": true}                    ).then(function(){\n",
       "                            \n",
       "var gd = document.getElementById('4f7b3f1c-be9f-4f70-95fe-48fc42654010');\n",
       "var x = new MutationObserver(function (mutations, observer) {{\n",
       "        var display = window.getComputedStyle(gd).display;\n",
       "        if (!display || display === 'none') {{\n",
       "            console.log([gd, 'removed!']);\n",
       "            Plotly.purge(gd);\n",
       "            observer.disconnect();\n",
       "        }}\n",
       "}});\n",
       "\n",
       "// Listen for the removal of the full notebook cells\n",
       "var notebookContainer = gd.closest('#notebook-container');\n",
       "if (notebookContainer) {{\n",
       "    x.observe(notebookContainer, {childList: true});\n",
       "}}\n",
       "\n",
       "// Listen for the clearing of the current output cell\n",
       "var outputEl = gd.closest('.output');\n",
       "if (outputEl) {{\n",
       "    x.observe(outputEl, {childList: true});\n",
       "}}\n",
       "\n",
       "                        })                };                });            </script>        </div>"
      ]
     },
     "metadata": {},
     "output_type": "display_data"
    }
   ],
   "source": [
    "df.iplot(kind='pie', labels='Country/Region', values='New deaths', title='Total by Country')\n"
   ]
  },
  {
   "cell_type": "code",
   "execution_count": 46,
   "metadata": {},
   "outputs": [
    {
     "data": {
      "application/vnd.plotly.v1+json": {
       "config": {
        "linkText": "Export to plot.ly",
        "plotlyServerURL": "https://plot.ly",
        "showLink": true
       },
       "data": [
        {
         "line": {
          "color": "rgba(255, 153, 51, 1.0)",
          "dash": "solid",
          "shape": "linear",
          "width": 1.3
         },
         "mode": "lines",
         "name": "Active",
         "text": "",
         "type": "scatter",
         "x": [
          18,
          63,
          749,
          0,
          0,
          5,
          2057,
          187,
          137,
          37,
          558,
          0,
          421,
          1801,
          0,
          67,
          14,
          0,
          0,
          1,
          309,
          375,
          11,
          33728,
          0,
          230,
          6,
          2,
          22,
          103,
          4,
          0,
          0,
          0,
          0,
          1859,
          7,
          11494,
          0,
          73,
          190,
          88,
          183,
          70,
          2,
          0,
          0,
          77,
          11,
          0,
          1601,
          0,
          1007,
          130,
          0,
          2,
          1,
          39,
          170,
          0,
          0,
          267,
          219,
          6,
          2,
          259,
          307,
          0,
          0,
          0,
          843,
          105,
          0,
          0,
          0,
          0,
          117,
          0,
          0,
          33598,
          1518,
          1931,
          1927,
          0,
          108,
          147,
          0,
          364,
          0,
          1833,
          90,
          274,
          684,
          817,
          0,
          0,
          17,
          0,
          5,
          24,
          0,
          4,
          178,
          681,
          6,
          1,
          19,
          2,
          0,
          223,
          0,
          8588,
          245,
          0,
          4,
          70,
          115,
          0,
          26,
          626,
          0,
          1,
          0,
          0,
          829,
          137,
          0,
          1729,
          3592,
          955,
          0,
          111,
          4697,
          336,
          103,
          158,
          304,
          151,
          3077,
          57,
          0,
          0,
          0,
          0,
          38,
          2613,
          68,
          0,
          0,
          4,
          171,
          39,
          55,
          22,
          9848,
          102,
          0,
          0,
          15,
          49,
          35,
          0,
          200,
          0,
          0,
          58,
          0,
          2,
          0,
          8,
          0,
          15,
          982,
          27941,
          4,
          317,
          328,
          3,
          3,
          569,
          213,
          0,
          0,
          0,
          36,
          465,
          24
         ],
         "y": [
          9796,
          1991,
          7973,
          52,
          667,
          18,
          91782,
          10014,
          5825,
          1599,
          6781,
          280,
          3231,
          97577,
          9,
          6221,
          39154,
          20,
          699,
          13,
          47056,
          5274,
          674,
          508116,
          0,
          4689,
          121,
          52,
          76,
          756,
          79,
          2180,
          107514,
          2994,
          37,
          18782,
          3258,
          117163,
          19,
          2317,
          2936,
          11902,
          5198,
          806,
          94,
          189,
          3715,
          543,
          24,
          0,
          32869,
          40733,
          52992,
          6849,
          2178,
          74,
          42,
          1257,
          7933,
          9,
          149,
          108928,
          2458,
          252,
          199,
          7673,
          3655,
          2651,
          1,
          0,
          11093,
          753,
          1125,
          188,
          2817,
          0,
          33536,
          523,
          21,
          495499,
          37292,
          22550,
          30983,
          764,
          36378,
          12581,
          129,
          8174,
          124,
          29659,
          9857,
          3201,
          8884,
          10790,
          1,
          143,
          2122,
          365,
          449,
          2186,
          4,
          319,
          1384,
          3339,
          1920,
          179,
          807,
          476,
          27,
          1399,
          2,
          47657,
          6252,
          8,
          67,
          2039,
          4018,
          1690,
          1734,
          4950,
          47064,
          21,
          839,
          36,
          22117,
          4183,
          125,
          19637,
          27421,
          25034,
          51,
          1600,
          98752,
          53649,
          8870,
          13205,
          3104,
          17902,
          201097,
          899,
          2,
          2,
          13,
          0,
          117,
          43238,
          3093,
          23598,
          75,
          400,
          5119,
          537,
          238,
          1560,
          170537,
          896,
          1084,
          93613,
          673,
          4765,
          534,
          73695,
          1599,
          634,
          15,
          1147,
          305,
          128,
          24,
          249,
          12,
          248,
          10920,
          2816444,
          140,
          28258,
          6322,
          254427,
          216,
          9414,
          5883,
          66,
          6791,
          1,
          375,
          1597,
          2126
         ]
        }
       ],
       "layout": {
        "legend": {
         "bgcolor": "#F5F6F9",
         "font": {
          "color": "#4D5663"
         }
        },
        "paper_bgcolor": "#F5F6F9",
        "plot_bgcolor": "#F5F6F9",
        "template": {
         "data": {
          "bar": [
           {
            "error_x": {
             "color": "#2a3f5f"
            },
            "error_y": {
             "color": "#2a3f5f"
            },
            "marker": {
             "line": {
              "color": "#E5ECF6",
              "width": 0.5
             },
             "pattern": {
              "fillmode": "overlay",
              "size": 10,
              "solidity": 0.2
             }
            },
            "type": "bar"
           }
          ],
          "barpolar": [
           {
            "marker": {
             "line": {
              "color": "#E5ECF6",
              "width": 0.5
             },
             "pattern": {
              "fillmode": "overlay",
              "size": 10,
              "solidity": 0.2
             }
            },
            "type": "barpolar"
           }
          ],
          "carpet": [
           {
            "aaxis": {
             "endlinecolor": "#2a3f5f",
             "gridcolor": "white",
             "linecolor": "white",
             "minorgridcolor": "white",
             "startlinecolor": "#2a3f5f"
            },
            "baxis": {
             "endlinecolor": "#2a3f5f",
             "gridcolor": "white",
             "linecolor": "white",
             "minorgridcolor": "white",
             "startlinecolor": "#2a3f5f"
            },
            "type": "carpet"
           }
          ],
          "choropleth": [
           {
            "colorbar": {
             "outlinewidth": 0,
             "ticks": ""
            },
            "type": "choropleth"
           }
          ],
          "contour": [
           {
            "colorbar": {
             "outlinewidth": 0,
             "ticks": ""
            },
            "colorscale": [
             [
              0,
              "#0d0887"
             ],
             [
              0.1111111111111111,
              "#46039f"
             ],
             [
              0.2222222222222222,
              "#7201a8"
             ],
             [
              0.3333333333333333,
              "#9c179e"
             ],
             [
              0.4444444444444444,
              "#bd3786"
             ],
             [
              0.5555555555555556,
              "#d8576b"
             ],
             [
              0.6666666666666666,
              "#ed7953"
             ],
             [
              0.7777777777777778,
              "#fb9f3a"
             ],
             [
              0.8888888888888888,
              "#fdca26"
             ],
             [
              1,
              "#f0f921"
             ]
            ],
            "type": "contour"
           }
          ],
          "contourcarpet": [
           {
            "colorbar": {
             "outlinewidth": 0,
             "ticks": ""
            },
            "type": "contourcarpet"
           }
          ],
          "heatmap": [
           {
            "colorbar": {
             "outlinewidth": 0,
             "ticks": ""
            },
            "colorscale": [
             [
              0,
              "#0d0887"
             ],
             [
              0.1111111111111111,
              "#46039f"
             ],
             [
              0.2222222222222222,
              "#7201a8"
             ],
             [
              0.3333333333333333,
              "#9c179e"
             ],
             [
              0.4444444444444444,
              "#bd3786"
             ],
             [
              0.5555555555555556,
              "#d8576b"
             ],
             [
              0.6666666666666666,
              "#ed7953"
             ],
             [
              0.7777777777777778,
              "#fb9f3a"
             ],
             [
              0.8888888888888888,
              "#fdca26"
             ],
             [
              1,
              "#f0f921"
             ]
            ],
            "type": "heatmap"
           }
          ],
          "heatmapgl": [
           {
            "colorbar": {
             "outlinewidth": 0,
             "ticks": ""
            },
            "colorscale": [
             [
              0,
              "#0d0887"
             ],
             [
              0.1111111111111111,
              "#46039f"
             ],
             [
              0.2222222222222222,
              "#7201a8"
             ],
             [
              0.3333333333333333,
              "#9c179e"
             ],
             [
              0.4444444444444444,
              "#bd3786"
             ],
             [
              0.5555555555555556,
              "#d8576b"
             ],
             [
              0.6666666666666666,
              "#ed7953"
             ],
             [
              0.7777777777777778,
              "#fb9f3a"
             ],
             [
              0.8888888888888888,
              "#fdca26"
             ],
             [
              1,
              "#f0f921"
             ]
            ],
            "type": "heatmapgl"
           }
          ],
          "histogram": [
           {
            "marker": {
             "pattern": {
              "fillmode": "overlay",
              "size": 10,
              "solidity": 0.2
             }
            },
            "type": "histogram"
           }
          ],
          "histogram2d": [
           {
            "colorbar": {
             "outlinewidth": 0,
             "ticks": ""
            },
            "colorscale": [
             [
              0,
              "#0d0887"
             ],
             [
              0.1111111111111111,
              "#46039f"
             ],
             [
              0.2222222222222222,
              "#7201a8"
             ],
             [
              0.3333333333333333,
              "#9c179e"
             ],
             [
              0.4444444444444444,
              "#bd3786"
             ],
             [
              0.5555555555555556,
              "#d8576b"
             ],
             [
              0.6666666666666666,
              "#ed7953"
             ],
             [
              0.7777777777777778,
              "#fb9f3a"
             ],
             [
              0.8888888888888888,
              "#fdca26"
             ],
             [
              1,
              "#f0f921"
             ]
            ],
            "type": "histogram2d"
           }
          ],
          "histogram2dcontour": [
           {
            "colorbar": {
             "outlinewidth": 0,
             "ticks": ""
            },
            "colorscale": [
             [
              0,
              "#0d0887"
             ],
             [
              0.1111111111111111,
              "#46039f"
             ],
             [
              0.2222222222222222,
              "#7201a8"
             ],
             [
              0.3333333333333333,
              "#9c179e"
             ],
             [
              0.4444444444444444,
              "#bd3786"
             ],
             [
              0.5555555555555556,
              "#d8576b"
             ],
             [
              0.6666666666666666,
              "#ed7953"
             ],
             [
              0.7777777777777778,
              "#fb9f3a"
             ],
             [
              0.8888888888888888,
              "#fdca26"
             ],
             [
              1,
              "#f0f921"
             ]
            ],
            "type": "histogram2dcontour"
           }
          ],
          "mesh3d": [
           {
            "colorbar": {
             "outlinewidth": 0,
             "ticks": ""
            },
            "type": "mesh3d"
           }
          ],
          "parcoords": [
           {
            "line": {
             "colorbar": {
              "outlinewidth": 0,
              "ticks": ""
             }
            },
            "type": "parcoords"
           }
          ],
          "pie": [
           {
            "automargin": true,
            "type": "pie"
           }
          ],
          "scatter": [
           {
            "fillpattern": {
             "fillmode": "overlay",
             "size": 10,
             "solidity": 0.2
            },
            "type": "scatter"
           }
          ],
          "scatter3d": [
           {
            "line": {
             "colorbar": {
              "outlinewidth": 0,
              "ticks": ""
             }
            },
            "marker": {
             "colorbar": {
              "outlinewidth": 0,
              "ticks": ""
             }
            },
            "type": "scatter3d"
           }
          ],
          "scattercarpet": [
           {
            "marker": {
             "colorbar": {
              "outlinewidth": 0,
              "ticks": ""
             }
            },
            "type": "scattercarpet"
           }
          ],
          "scattergeo": [
           {
            "marker": {
             "colorbar": {
              "outlinewidth": 0,
              "ticks": ""
             }
            },
            "type": "scattergeo"
           }
          ],
          "scattergl": [
           {
            "marker": {
             "colorbar": {
              "outlinewidth": 0,
              "ticks": ""
             }
            },
            "type": "scattergl"
           }
          ],
          "scattermapbox": [
           {
            "marker": {
             "colorbar": {
              "outlinewidth": 0,
              "ticks": ""
             }
            },
            "type": "scattermapbox"
           }
          ],
          "scatterpolar": [
           {
            "marker": {
             "colorbar": {
              "outlinewidth": 0,
              "ticks": ""
             }
            },
            "type": "scatterpolar"
           }
          ],
          "scatterpolargl": [
           {
            "marker": {
             "colorbar": {
              "outlinewidth": 0,
              "ticks": ""
             }
            },
            "type": "scatterpolargl"
           }
          ],
          "scatterternary": [
           {
            "marker": {
             "colorbar": {
              "outlinewidth": 0,
              "ticks": ""
             }
            },
            "type": "scatterternary"
           }
          ],
          "surface": [
           {
            "colorbar": {
             "outlinewidth": 0,
             "ticks": ""
            },
            "colorscale": [
             [
              0,
              "#0d0887"
             ],
             [
              0.1111111111111111,
              "#46039f"
             ],
             [
              0.2222222222222222,
              "#7201a8"
             ],
             [
              0.3333333333333333,
              "#9c179e"
             ],
             [
              0.4444444444444444,
              "#bd3786"
             ],
             [
              0.5555555555555556,
              "#d8576b"
             ],
             [
              0.6666666666666666,
              "#ed7953"
             ],
             [
              0.7777777777777778,
              "#fb9f3a"
             ],
             [
              0.8888888888888888,
              "#fdca26"
             ],
             [
              1,
              "#f0f921"
             ]
            ],
            "type": "surface"
           }
          ],
          "table": [
           {
            "cells": {
             "fill": {
              "color": "#EBF0F8"
             },
             "line": {
              "color": "white"
             }
            },
            "header": {
             "fill": {
              "color": "#C8D4E3"
             },
             "line": {
              "color": "white"
             }
            },
            "type": "table"
           }
          ]
         },
         "layout": {
          "annotationdefaults": {
           "arrowcolor": "#2a3f5f",
           "arrowhead": 0,
           "arrowwidth": 1
          },
          "autotypenumbers": "strict",
          "coloraxis": {
           "colorbar": {
            "outlinewidth": 0,
            "ticks": ""
           }
          },
          "colorscale": {
           "diverging": [
            [
             0,
             "#8e0152"
            ],
            [
             0.1,
             "#c51b7d"
            ],
            [
             0.2,
             "#de77ae"
            ],
            [
             0.3,
             "#f1b6da"
            ],
            [
             0.4,
             "#fde0ef"
            ],
            [
             0.5,
             "#f7f7f7"
            ],
            [
             0.6,
             "#e6f5d0"
            ],
            [
             0.7,
             "#b8e186"
            ],
            [
             0.8,
             "#7fbc41"
            ],
            [
             0.9,
             "#4d9221"
            ],
            [
             1,
             "#276419"
            ]
           ],
           "sequential": [
            [
             0,
             "#0d0887"
            ],
            [
             0.1111111111111111,
             "#46039f"
            ],
            [
             0.2222222222222222,
             "#7201a8"
            ],
            [
             0.3333333333333333,
             "#9c179e"
            ],
            [
             0.4444444444444444,
             "#bd3786"
            ],
            [
             0.5555555555555556,
             "#d8576b"
            ],
            [
             0.6666666666666666,
             "#ed7953"
            ],
            [
             0.7777777777777778,
             "#fb9f3a"
            ],
            [
             0.8888888888888888,
             "#fdca26"
            ],
            [
             1,
             "#f0f921"
            ]
           ],
           "sequentialminus": [
            [
             0,
             "#0d0887"
            ],
            [
             0.1111111111111111,
             "#46039f"
            ],
            [
             0.2222222222222222,
             "#7201a8"
            ],
            [
             0.3333333333333333,
             "#9c179e"
            ],
            [
             0.4444444444444444,
             "#bd3786"
            ],
            [
             0.5555555555555556,
             "#d8576b"
            ],
            [
             0.6666666666666666,
             "#ed7953"
            ],
            [
             0.7777777777777778,
             "#fb9f3a"
            ],
            [
             0.8888888888888888,
             "#fdca26"
            ],
            [
             1,
             "#f0f921"
            ]
           ]
          },
          "colorway": [
           "#636efa",
           "#EF553B",
           "#00cc96",
           "#ab63fa",
           "#FFA15A",
           "#19d3f3",
           "#FF6692",
           "#B6E880",
           "#FF97FF",
           "#FECB52"
          ],
          "font": {
           "color": "#2a3f5f"
          },
          "geo": {
           "bgcolor": "white",
           "lakecolor": "white",
           "landcolor": "#E5ECF6",
           "showlakes": true,
           "showland": true,
           "subunitcolor": "white"
          },
          "hoverlabel": {
           "align": "left"
          },
          "hovermode": "closest",
          "mapbox": {
           "style": "light"
          },
          "paper_bgcolor": "white",
          "plot_bgcolor": "#E5ECF6",
          "polar": {
           "angularaxis": {
            "gridcolor": "white",
            "linecolor": "white",
            "ticks": ""
           },
           "bgcolor": "#E5ECF6",
           "radialaxis": {
            "gridcolor": "white",
            "linecolor": "white",
            "ticks": ""
           }
          },
          "scene": {
           "xaxis": {
            "backgroundcolor": "#E5ECF6",
            "gridcolor": "white",
            "gridwidth": 2,
            "linecolor": "white",
            "showbackground": true,
            "ticks": "",
            "zerolinecolor": "white"
           },
           "yaxis": {
            "backgroundcolor": "#E5ECF6",
            "gridcolor": "white",
            "gridwidth": 2,
            "linecolor": "white",
            "showbackground": true,
            "ticks": "",
            "zerolinecolor": "white"
           },
           "zaxis": {
            "backgroundcolor": "#E5ECF6",
            "gridcolor": "white",
            "gridwidth": 2,
            "linecolor": "white",
            "showbackground": true,
            "ticks": "",
            "zerolinecolor": "white"
           }
          },
          "shapedefaults": {
           "line": {
            "color": "#2a3f5f"
           }
          },
          "ternary": {
           "aaxis": {
            "gridcolor": "white",
            "linecolor": "white",
            "ticks": ""
           },
           "baxis": {
            "gridcolor": "white",
            "linecolor": "white",
            "ticks": ""
           },
           "bgcolor": "#E5ECF6",
           "caxis": {
            "gridcolor": "white",
            "linecolor": "white",
            "ticks": ""
           }
          },
          "title": {
           "x": 0.05
          },
          "xaxis": {
           "automargin": true,
           "gridcolor": "white",
           "linecolor": "white",
           "ticks": "",
           "title": {
            "standoff": 15
           },
           "zerolinecolor": "white",
           "zerolinewidth": 2
          },
          "yaxis": {
           "automargin": true,
           "gridcolor": "white",
           "linecolor": "white",
           "ticks": "",
           "title": {
            "standoff": 15
           },
           "zerolinecolor": "white",
           "zerolinewidth": 2
          }
         }
        },
        "title": {
         "font": {
          "color": "#4D5663"
         }
        },
        "xaxis": {
         "gridcolor": "#E1E5ED",
         "showgrid": true,
         "tickfont": {
          "color": "#4D5663"
         },
         "title": {
          "font": {
           "color": "#4D5663"
          },
          "text": ""
         },
         "zerolinecolor": "#E1E5ED"
        },
        "yaxis": {
         "gridcolor": "#E1E5ED",
         "showgrid": true,
         "tickfont": {
          "color": "#4D5663"
         },
         "title": {
          "font": {
           "color": "#4D5663"
          },
          "text": ""
         },
         "zerolinecolor": "#E1E5ED"
        }
       }
      },
      "text/html": [
       "<div>                            <div id=\"abf33f3d-e8c5-4166-8112-9356734665b6\" class=\"plotly-graph-div\" style=\"height:525px; width:100%;\"></div>            <script type=\"text/javascript\">                require([\"plotly\"], function(Plotly) {                    window.PLOTLYENV=window.PLOTLYENV || {};\n",
       "                    window.PLOTLYENV.BASE_URL='https://plot.ly';                                    if (document.getElementById(\"abf33f3d-e8c5-4166-8112-9356734665b6\")) {                    Plotly.newPlot(                        \"abf33f3d-e8c5-4166-8112-9356734665b6\",                        [{\"line\":{\"color\":\"rgba(255, 153, 51, 1.0)\",\"dash\":\"solid\",\"shape\":\"linear\",\"width\":1.3},\"mode\":\"lines\",\"name\":\"Active\",\"text\":\"\",\"x\":[18,63,749,0,0,5,2057,187,137,37,558,0,421,1801,0,67,14,0,0,1,309,375,11,33728,0,230,6,2,22,103,4,0,0,0,0,1859,7,11494,0,73,190,88,183,70,2,0,0,77,11,0,1601,0,1007,130,0,2,1,39,170,0,0,267,219,6,2,259,307,0,0,0,843,105,0,0,0,0,117,0,0,33598,1518,1931,1927,0,108,147,0,364,0,1833,90,274,684,817,0,0,17,0,5,24,0,4,178,681,6,1,19,2,0,223,0,8588,245,0,4,70,115,0,26,626,0,1,0,0,829,137,0,1729,3592,955,0,111,4697,336,103,158,304,151,3077,57,0,0,0,0,38,2613,68,0,0,4,171,39,55,22,9848,102,0,0,15,49,35,0,200,0,0,58,0,2,0,8,0,15,982,27941,4,317,328,3,3,569,213,0,0,0,36,465,24],\"y\":[9796,1991,7973,52,667,18,91782,10014,5825,1599,6781,280,3231,97577,9,6221,39154,20,699,13,47056,5274,674,508116,0,4689,121,52,76,756,79,2180,107514,2994,37,18782,3258,117163,19,2317,2936,11902,5198,806,94,189,3715,543,24,0,32869,40733,52992,6849,2178,74,42,1257,7933,9,149,108928,2458,252,199,7673,3655,2651,1,0,11093,753,1125,188,2817,0,33536,523,21,495499,37292,22550,30983,764,36378,12581,129,8174,124,29659,9857,3201,8884,10790,1,143,2122,365,449,2186,4,319,1384,3339,1920,179,807,476,27,1399,2,47657,6252,8,67,2039,4018,1690,1734,4950,47064,21,839,36,22117,4183,125,19637,27421,25034,51,1600,98752,53649,8870,13205,3104,17902,201097,899,2,2,13,0,117,43238,3093,23598,75,400,5119,537,238,1560,170537,896,1084,93613,673,4765,534,73695,1599,634,15,1147,305,128,24,249,12,248,10920,2816444,140,28258,6322,254427,216,9414,5883,66,6791,1,375,1597,2126],\"type\":\"scatter\"}],                        {\"legend\":{\"bgcolor\":\"#F5F6F9\",\"font\":{\"color\":\"#4D5663\"}},\"paper_bgcolor\":\"#F5F6F9\",\"plot_bgcolor\":\"#F5F6F9\",\"template\":{\"data\":{\"barpolar\":[{\"marker\":{\"line\":{\"color\":\"#E5ECF6\",\"width\":0.5},\"pattern\":{\"fillmode\":\"overlay\",\"size\":10,\"solidity\":0.2}},\"type\":\"barpolar\"}],\"bar\":[{\"error_x\":{\"color\":\"#2a3f5f\"},\"error_y\":{\"color\":\"#2a3f5f\"},\"marker\":{\"line\":{\"color\":\"#E5ECF6\",\"width\":0.5},\"pattern\":{\"fillmode\":\"overlay\",\"size\":10,\"solidity\":0.2}},\"type\":\"bar\"}],\"carpet\":[{\"aaxis\":{\"endlinecolor\":\"#2a3f5f\",\"gridcolor\":\"white\",\"linecolor\":\"white\",\"minorgridcolor\":\"white\",\"startlinecolor\":\"#2a3f5f\"},\"baxis\":{\"endlinecolor\":\"#2a3f5f\",\"gridcolor\":\"white\",\"linecolor\":\"white\",\"minorgridcolor\":\"white\",\"startlinecolor\":\"#2a3f5f\"},\"type\":\"carpet\"}],\"choropleth\":[{\"colorbar\":{\"outlinewidth\":0,\"ticks\":\"\"},\"type\":\"choropleth\"}],\"contourcarpet\":[{\"colorbar\":{\"outlinewidth\":0,\"ticks\":\"\"},\"type\":\"contourcarpet\"}],\"contour\":[{\"colorbar\":{\"outlinewidth\":0,\"ticks\":\"\"},\"colorscale\":[[0.0,\"#0d0887\"],[0.1111111111111111,\"#46039f\"],[0.2222222222222222,\"#7201a8\"],[0.3333333333333333,\"#9c179e\"],[0.4444444444444444,\"#bd3786\"],[0.5555555555555556,\"#d8576b\"],[0.6666666666666666,\"#ed7953\"],[0.7777777777777778,\"#fb9f3a\"],[0.8888888888888888,\"#fdca26\"],[1.0,\"#f0f921\"]],\"type\":\"contour\"}],\"heatmapgl\":[{\"colorbar\":{\"outlinewidth\":0,\"ticks\":\"\"},\"colorscale\":[[0.0,\"#0d0887\"],[0.1111111111111111,\"#46039f\"],[0.2222222222222222,\"#7201a8\"],[0.3333333333333333,\"#9c179e\"],[0.4444444444444444,\"#bd3786\"],[0.5555555555555556,\"#d8576b\"],[0.6666666666666666,\"#ed7953\"],[0.7777777777777778,\"#fb9f3a\"],[0.8888888888888888,\"#fdca26\"],[1.0,\"#f0f921\"]],\"type\":\"heatmapgl\"}],\"heatmap\":[{\"colorbar\":{\"outlinewidth\":0,\"ticks\":\"\"},\"colorscale\":[[0.0,\"#0d0887\"],[0.1111111111111111,\"#46039f\"],[0.2222222222222222,\"#7201a8\"],[0.3333333333333333,\"#9c179e\"],[0.4444444444444444,\"#bd3786\"],[0.5555555555555556,\"#d8576b\"],[0.6666666666666666,\"#ed7953\"],[0.7777777777777778,\"#fb9f3a\"],[0.8888888888888888,\"#fdca26\"],[1.0,\"#f0f921\"]],\"type\":\"heatmap\"}],\"histogram2dcontour\":[{\"colorbar\":{\"outlinewidth\":0,\"ticks\":\"\"},\"colorscale\":[[0.0,\"#0d0887\"],[0.1111111111111111,\"#46039f\"],[0.2222222222222222,\"#7201a8\"],[0.3333333333333333,\"#9c179e\"],[0.4444444444444444,\"#bd3786\"],[0.5555555555555556,\"#d8576b\"],[0.6666666666666666,\"#ed7953\"],[0.7777777777777778,\"#fb9f3a\"],[0.8888888888888888,\"#fdca26\"],[1.0,\"#f0f921\"]],\"type\":\"histogram2dcontour\"}],\"histogram2d\":[{\"colorbar\":{\"outlinewidth\":0,\"ticks\":\"\"},\"colorscale\":[[0.0,\"#0d0887\"],[0.1111111111111111,\"#46039f\"],[0.2222222222222222,\"#7201a8\"],[0.3333333333333333,\"#9c179e\"],[0.4444444444444444,\"#bd3786\"],[0.5555555555555556,\"#d8576b\"],[0.6666666666666666,\"#ed7953\"],[0.7777777777777778,\"#fb9f3a\"],[0.8888888888888888,\"#fdca26\"],[1.0,\"#f0f921\"]],\"type\":\"histogram2d\"}],\"histogram\":[{\"marker\":{\"pattern\":{\"fillmode\":\"overlay\",\"size\":10,\"solidity\":0.2}},\"type\":\"histogram\"}],\"mesh3d\":[{\"colorbar\":{\"outlinewidth\":0,\"ticks\":\"\"},\"type\":\"mesh3d\"}],\"parcoords\":[{\"line\":{\"colorbar\":{\"outlinewidth\":0,\"ticks\":\"\"}},\"type\":\"parcoords\"}],\"pie\":[{\"automargin\":true,\"type\":\"pie\"}],\"scatter3d\":[{\"line\":{\"colorbar\":{\"outlinewidth\":0,\"ticks\":\"\"}},\"marker\":{\"colorbar\":{\"outlinewidth\":0,\"ticks\":\"\"}},\"type\":\"scatter3d\"}],\"scattercarpet\":[{\"marker\":{\"colorbar\":{\"outlinewidth\":0,\"ticks\":\"\"}},\"type\":\"scattercarpet\"}],\"scattergeo\":[{\"marker\":{\"colorbar\":{\"outlinewidth\":0,\"ticks\":\"\"}},\"type\":\"scattergeo\"}],\"scattergl\":[{\"marker\":{\"colorbar\":{\"outlinewidth\":0,\"ticks\":\"\"}},\"type\":\"scattergl\"}],\"scattermapbox\":[{\"marker\":{\"colorbar\":{\"outlinewidth\":0,\"ticks\":\"\"}},\"type\":\"scattermapbox\"}],\"scatterpolargl\":[{\"marker\":{\"colorbar\":{\"outlinewidth\":0,\"ticks\":\"\"}},\"type\":\"scatterpolargl\"}],\"scatterpolar\":[{\"marker\":{\"colorbar\":{\"outlinewidth\":0,\"ticks\":\"\"}},\"type\":\"scatterpolar\"}],\"scatter\":[{\"fillpattern\":{\"fillmode\":\"overlay\",\"size\":10,\"solidity\":0.2},\"type\":\"scatter\"}],\"scatterternary\":[{\"marker\":{\"colorbar\":{\"outlinewidth\":0,\"ticks\":\"\"}},\"type\":\"scatterternary\"}],\"surface\":[{\"colorbar\":{\"outlinewidth\":0,\"ticks\":\"\"},\"colorscale\":[[0.0,\"#0d0887\"],[0.1111111111111111,\"#46039f\"],[0.2222222222222222,\"#7201a8\"],[0.3333333333333333,\"#9c179e\"],[0.4444444444444444,\"#bd3786\"],[0.5555555555555556,\"#d8576b\"],[0.6666666666666666,\"#ed7953\"],[0.7777777777777778,\"#fb9f3a\"],[0.8888888888888888,\"#fdca26\"],[1.0,\"#f0f921\"]],\"type\":\"surface\"}],\"table\":[{\"cells\":{\"fill\":{\"color\":\"#EBF0F8\"},\"line\":{\"color\":\"white\"}},\"header\":{\"fill\":{\"color\":\"#C8D4E3\"},\"line\":{\"color\":\"white\"}},\"type\":\"table\"}]},\"layout\":{\"annotationdefaults\":{\"arrowcolor\":\"#2a3f5f\",\"arrowhead\":0,\"arrowwidth\":1},\"autotypenumbers\":\"strict\",\"coloraxis\":{\"colorbar\":{\"outlinewidth\":0,\"ticks\":\"\"}},\"colorscale\":{\"diverging\":[[0,\"#8e0152\"],[0.1,\"#c51b7d\"],[0.2,\"#de77ae\"],[0.3,\"#f1b6da\"],[0.4,\"#fde0ef\"],[0.5,\"#f7f7f7\"],[0.6,\"#e6f5d0\"],[0.7,\"#b8e186\"],[0.8,\"#7fbc41\"],[0.9,\"#4d9221\"],[1,\"#276419\"]],\"sequential\":[[0.0,\"#0d0887\"],[0.1111111111111111,\"#46039f\"],[0.2222222222222222,\"#7201a8\"],[0.3333333333333333,\"#9c179e\"],[0.4444444444444444,\"#bd3786\"],[0.5555555555555556,\"#d8576b\"],[0.6666666666666666,\"#ed7953\"],[0.7777777777777778,\"#fb9f3a\"],[0.8888888888888888,\"#fdca26\"],[1.0,\"#f0f921\"]],\"sequentialminus\":[[0.0,\"#0d0887\"],[0.1111111111111111,\"#46039f\"],[0.2222222222222222,\"#7201a8\"],[0.3333333333333333,\"#9c179e\"],[0.4444444444444444,\"#bd3786\"],[0.5555555555555556,\"#d8576b\"],[0.6666666666666666,\"#ed7953\"],[0.7777777777777778,\"#fb9f3a\"],[0.8888888888888888,\"#fdca26\"],[1.0,\"#f0f921\"]]},\"colorway\":[\"#636efa\",\"#EF553B\",\"#00cc96\",\"#ab63fa\",\"#FFA15A\",\"#19d3f3\",\"#FF6692\",\"#B6E880\",\"#FF97FF\",\"#FECB52\"],\"font\":{\"color\":\"#2a3f5f\"},\"geo\":{\"bgcolor\":\"white\",\"lakecolor\":\"white\",\"landcolor\":\"#E5ECF6\",\"showlakes\":true,\"showland\":true,\"subunitcolor\":\"white\"},\"hoverlabel\":{\"align\":\"left\"},\"hovermode\":\"closest\",\"mapbox\":{\"style\":\"light\"},\"paper_bgcolor\":\"white\",\"plot_bgcolor\":\"#E5ECF6\",\"polar\":{\"angularaxis\":{\"gridcolor\":\"white\",\"linecolor\":\"white\",\"ticks\":\"\"},\"bgcolor\":\"#E5ECF6\",\"radialaxis\":{\"gridcolor\":\"white\",\"linecolor\":\"white\",\"ticks\":\"\"}},\"scene\":{\"xaxis\":{\"backgroundcolor\":\"#E5ECF6\",\"gridcolor\":\"white\",\"gridwidth\":2,\"linecolor\":\"white\",\"showbackground\":true,\"ticks\":\"\",\"zerolinecolor\":\"white\"},\"yaxis\":{\"backgroundcolor\":\"#E5ECF6\",\"gridcolor\":\"white\",\"gridwidth\":2,\"linecolor\":\"white\",\"showbackground\":true,\"ticks\":\"\",\"zerolinecolor\":\"white\"},\"zaxis\":{\"backgroundcolor\":\"#E5ECF6\",\"gridcolor\":\"white\",\"gridwidth\":2,\"linecolor\":\"white\",\"showbackground\":true,\"ticks\":\"\",\"zerolinecolor\":\"white\"}},\"shapedefaults\":{\"line\":{\"color\":\"#2a3f5f\"}},\"ternary\":{\"aaxis\":{\"gridcolor\":\"white\",\"linecolor\":\"white\",\"ticks\":\"\"},\"baxis\":{\"gridcolor\":\"white\",\"linecolor\":\"white\",\"ticks\":\"\"},\"bgcolor\":\"#E5ECF6\",\"caxis\":{\"gridcolor\":\"white\",\"linecolor\":\"white\",\"ticks\":\"\"}},\"title\":{\"x\":0.05},\"xaxis\":{\"automargin\":true,\"gridcolor\":\"white\",\"linecolor\":\"white\",\"ticks\":\"\",\"title\":{\"standoff\":15},\"zerolinecolor\":\"white\",\"zerolinewidth\":2},\"yaxis\":{\"automargin\":true,\"gridcolor\":\"white\",\"linecolor\":\"white\",\"ticks\":\"\",\"title\":{\"standoff\":15},\"zerolinecolor\":\"white\",\"zerolinewidth\":2}}},\"title\":{\"font\":{\"color\":\"#4D5663\"}},\"xaxis\":{\"gridcolor\":\"#E1E5ED\",\"showgrid\":true,\"tickfont\":{\"color\":\"#4D5663\"},\"title\":{\"font\":{\"color\":\"#4D5663\"},\"text\":\"\"},\"zerolinecolor\":\"#E1E5ED\"},\"yaxis\":{\"gridcolor\":\"#E1E5ED\",\"showgrid\":true,\"tickfont\":{\"color\":\"#4D5663\"},\"title\":{\"font\":{\"color\":\"#4D5663\"},\"text\":\"\"},\"zerolinecolor\":\"#E1E5ED\"}},                        {\"showLink\": true, \"linkText\": \"Export to plot.ly\", \"plotlyServerURL\": \"https://plot.ly\", \"responsive\": true}                    ).then(function(){\n",
       "                            \n",
       "var gd = document.getElementById('abf33f3d-e8c5-4166-8112-9356734665b6');\n",
       "var x = new MutationObserver(function (mutations, observer) {{\n",
       "        var display = window.getComputedStyle(gd).display;\n",
       "        if (!display || display === 'none') {{\n",
       "            console.log([gd, 'removed!']);\n",
       "            Plotly.purge(gd);\n",
       "            observer.disconnect();\n",
       "        }}\n",
       "}});\n",
       "\n",
       "// Listen for the removal of the full notebook cells\n",
       "var notebookContainer = gd.closest('#notebook-container');\n",
       "if (notebookContainer) {{\n",
       "    x.observe(notebookContainer, {childList: true});\n",
       "}}\n",
       "\n",
       "// Listen for the clearing of the current output cell\n",
       "var outputEl = gd.closest('.output');\n",
       "if (outputEl) {{\n",
       "    x.observe(outputEl, {childList: true});\n",
       "}}\n",
       "\n",
       "                        })                };                });            </script>        </div>"
      ]
     },
     "metadata": {},
     "output_type": "display_data"
    }
   ],
   "source": [
    "df.iplot(kind='line', x='New recovered', y='Active')\n"
   ]
  },
  {
   "cell_type": "code",
   "execution_count": 50,
   "metadata": {},
   "outputs": [],
   "source": [
    "correlation = df['Deaths'].corr(df['Recovered'])"
   ]
  },
  {
   "cell_type": "code",
   "execution_count": 54,
   "metadata": {},
   "outputs": [
    {
     "data": {
      "text/plain": [
       "0.8320982714258849"
      ]
     },
     "execution_count": 54,
     "metadata": {},
     "output_type": "execute_result"
    }
   ],
   "source": [
    "correlation"
   ]
  },
  {
   "cell_type": "code",
   "execution_count": 55,
   "metadata": {},
   "outputs": [],
   "source": [
    "import plotly.graph_objects as go"
   ]
  },
  {
   "cell_type": "code",
   "execution_count": 57,
   "metadata": {},
   "outputs": [],
   "source": [
    "import geopandas as gpd"
   ]
  },
  {
   "cell_type": "code",
   "execution_count": 58,
   "metadata": {},
   "outputs": [
    {
     "name": "stderr",
     "output_type": "stream",
     "text": [
      "C:\\Users\\Shreyansh Singh\\AppData\\Local\\Temp\\ipykernel_12276\\3926210268.py:1: FutureWarning:\n",
      "\n",
      "The geopandas.dataset module is deprecated and will be removed in GeoPandas 1.0. You can get the original 'naturalearth_lowres' data from https://www.naturalearthdata.com/downloads/110m-cultural-vectors/.\n",
      "\n"
     ]
    }
   ],
   "source": [
    "world = gpd.read_file(gpd.datasets.get_path('naturalearth_lowres'))"
   ]
  },
  {
   "cell_type": "code",
   "execution_count": 59,
   "metadata": {},
   "outputs": [
    {
     "data": {
      "image/png": "[encoded data removed]",
      "text/plain": [
       "<Figure size 640x480 with 1 Axes>"
      ]
     },
     "metadata": {},
     "output_type": "display_data"
    }
   ],
   "source": [
    "world.plot()\n",
    "plt.title(\"World Map\")\n",
    "plt.show()"
   ]
  },
  {
   "cell_type": "code",
   "execution_count": 60,
   "metadata": {},
   "outputs": [
    {
     "data": {
      "image/png": "[encoded data removed]",
      "text/plain": [
       "<Figure size 1200x800 with 2 Axes>"
      ]
     },
     "metadata": {},
     "output_type": "display_data"
    }
   ],
   "source": [
    "fig, ax = plt.subplots(1, 1, figsize=(12, 8))\n",
    "world.boundary.plot(ax=ax, linewidth=1, color='k')  \n",
    "world.plot(column='gdp_md_est', ax=ax, legend=True, cmap='YlOrRd', legend_kwds={'label': \"GDP\"})\n",
    "ax.set_title(\"World Map with GDP Visualization\")\n",
    "plt.show()"
   ]
  },
  {
   "cell_type": "code",
   "execution_count": 61,
   "metadata": {},
   "outputs": [],
   "source": [
    "import plotly.express as px"
   ]
  },
  {
   "cell_type": "code",
   "execution_count": 63,
   "metadata": {},
   "outputs": [],
   "source": [
    "world = world.merge(df, left_on='name', right_on='Country/Region', how='left')"
   ]
  },
  {
   "cell_type": "code",
   "execution_count": 67,
   "metadata": {},
   "outputs": [],
   "source": [
    "fig = px.choropleth(world, \n",
    "                    locations=\"iso_a3\",  # Use ISO country codes\n",
    "                    color=\"Deaths\",      # Color by the number of deaths\n",
    "                    hover_name=\"name\",   # Hover text shows country name\n",
    "                    color_continuous_scale=\"Viridis\",  # Color scale\n",
    "                    title=\"World Map of Deaths\",\n",
    "                    labels={\"Deaths\": \"Number of Deaths\"}\n",
    "                    )"
   ]
  },
  {
   "cell_type": "code",
   "execution_count": 68,
   "metadata": {},
   "outputs": [
    {
     "data": {
      "application/vnd.plotly.v1+json": {
       "config": {
        "plotlyServerURL": "https://plot.ly"
       },
       "data": [
        {
         "coloraxis": "coloraxis",
         "geo": "geo",
         "hovertemplate": "<b>%{hovertext}</b><br><br>iso_a3=%{location}<br>Number of Deaths=%{z}<extra></extra>",
         "hovertext": [
          "Fiji",
          "Tanzania",
          "W. Sahara",
          "Canada",
          "United States of America",
          "Kazakhstan",
          "Uzbekistan",
          "Papua New Guinea",
          "Indonesia",
          "Argentina",
          "Chile",
          "Dem. Rep. Congo",
          "Somalia",
          "Kenya",
          "Sudan",
          "Chad",
          "Haiti",
          "Dominican Rep.",
          "Russia",
          "Bahamas",
          "Falkland Is.",
          "Norway",
          "Greenland",
          "Fr. S. Antarctic Lands",
          "Timor-Leste",
          "South Africa",
          "Lesotho",
          "Mexico",
          "Uruguay",
          "Brazil",
          "Bolivia",
          "Peru",
          "Colombia",
          "Panama",
          "Costa Rica",
          "Nicaragua",
          "Honduras",
          "El Salvador",
          "Guatemala",
          "Belize",
          "Venezuela",
          "Guyana",
          "Suriname",
          "France",
          "Ecuador",
          "Puerto Rico",
          "Jamaica",
          "Cuba",
          "Zimbabwe",
          "Botswana",
          "Namibia",
          "Senegal",
          "Mali",
          "Mauritania",
          "Benin",
          "Niger",
          "Nigeria",
          "Cameroon",
          "Togo",
          "Ghana",
          "Côte d'Ivoire",
          "Guinea",
          "Guinea-Bissau",
          "Liberia",
          "Sierra Leone",
          "Burkina Faso",
          "Central African Rep.",
          "Congo",
          "Gabon",
          "Eq. Guinea",
          "Zambia",
          "Malawi",
          "Mozambique",
          "eSwatini",
          "Angola",
          "Burundi",
          "Israel",
          "Lebanon",
          "Madagascar",
          "Palestine",
          "Gambia",
          "Tunisia",
          "Algeria",
          "Jordan",
          "United Arab Emirates",
          "Qatar",
          "Kuwait",
          "Iraq",
          "Oman",
          "Vanuatu",
          "Cambodia",
          "Thailand",
          "Laos",
          "Myanmar",
          "Vietnam",
          "North Korea",
          "South Korea",
          "Mongolia",
          "India",
          "Bangladesh",
          "Bhutan",
          "Nepal",
          "Pakistan",
          "Afghanistan",
          "Tajikistan",
          "Kyrgyzstan",
          "Turkmenistan",
          "Iran",
          "Syria",
          "Armenia",
          "Sweden",
          "Belarus",
          "Ukraine",
          "Poland",
          "Austria",
          "Hungary",
          "Moldova",
          "Romania",
          "Lithuania",
          "Latvia",
          "Estonia",
          "Germany",
          "Bulgaria",
          "Greece",
          "Turkey",
          "Albania",
          "Croatia",
          "Switzerland",
          "Luxembourg",
          "Belgium",
          "Netherlands",
          "Portugal",
          "Spain",
          "Ireland",
          "New Caledonia",
          "Solomon Is.",
          "New Zealand",
          "Australia",
          "Sri Lanka",
          "China",
          "Taiwan",
          "Italy",
          "Denmark",
          "United Kingdom",
          "Iceland",
          "Azerbaijan",
          "Georgia",
          "Philippines",
          "Malaysia",
          "Brunei",
          "Slovenia",
          "Finland",
          "Slovakia",
          "Czechia",
          "Eritrea",
          "Japan",
          "Paraguay",
          "Yemen",
          "Saudi Arabia",
          "Antarctica",
          "N. Cyprus",
          "Cyprus",
          "Morocco",
          "Egypt",
          "Libya",
          "Ethiopia",
          "Djibouti",
          "Somaliland",
          "Uganda",
          "Rwanda",
          "Bosnia and Herz.",
          "North Macedonia",
          "Serbia",
          "Montenegro",
          "Kosovo",
          "Trinidad and Tobago",
          "S. Sudan"
         ],
         "locations": [
          "FJI",
          "TZA",
          "ESH",
          "CAN",
          "USA",
          "KAZ",
          "UZB",
          "PNG",
          "IDN",
          "ARG",
          "CHL",
          "COD",
          "SOM",
          "KEN",
          "SDN",
          "TCD",
          "HTI",
          "DOM",
          "RUS",
          "BHS",
          "FLK",
          "NOR",
          "GRL",
          "ATF",
          "TLS",
          "ZAF",
          "LSO",
          "MEX",
          "URY",
          "BRA",
          "BOL",
          "PER",
          "COL",
          "PAN",
          "CRI",
          "NIC",
          "HND",
          "SLV",
          "GTM",
          "BLZ",
          "VEN",
          "GUY",
          "SUR",
          "FRA",
          "ECU",
          "PRI",
          "JAM",
          "CUB",
          "ZWE",
          "BWA",
          "NAM",
          "SEN",
          "MLI",
          "MRT",
          "BEN",
          "NER",
          "NGA",
          "CMR",
          "TGO",
          "GHA",
          "CIV",
          "GIN",
          "GNB",
          "LBR",
          "SLE",
          "BFA",
          "CAF",
          "COG",
          "GAB",
          "GNQ",
          "ZMB",
          "MWI",
          "MOZ",
          "SWZ",
          "AGO",
          "BDI",
          "ISR",
          "LBN",
          "MDG",
          "PSE",
          "GMB",
          "TUN",
          "DZA",
          "JOR",
          "ARE",
          "QAT",
          "KWT",
          "IRQ",
          "OMN",
          "VUT",
          "KHM",
          "THA",
          "LAO",
          "MMR",
          "VNM",
          "PRK",
          "KOR",
          "MNG",
          "IND",
          "BGD",
          "BTN",
          "NPL",
          "PAK",
          "AFG",
          "TJK",
          "KGZ",
          "TKM",
          "IRN",
          "SYR",
          "ARM",
          "SWE",
          "BLR",
          "UKR",
          "POL",
          "AUT",
          "HUN",
          "MDA",
          "ROU",
          "LTU",
          "LVA",
          "EST",
          "DEU",
          "BGR",
          "GRC",
          "TUR",
          "ALB",
          "HRV",
          "CHE",
          "LUX",
          "BEL",
          "NLD",
          "PRT",
          "ESP",
          "IRL",
          "NCL",
          "SLB",
          "NZL",
          "AUS",
          "LKA",
          "CHN",
          "TWN",
          "ITA",
          "DNK",
          "GBR",
          "ISL",
          "AZE",
          "GEO",
          "PHL",
          "MYS",
          "BRN",
          "SVN",
          "FIN",
          "SVK",
          "CZE",
          "ERI",
          "JPN",
          "PRY",
          "YEM",
          "SAU",
          "ATA",
          "CYN",
          "CYP",
          "MAR",
          "EGY",
          "LBY",
          "ETH",
          "DJI",
          "SOL",
          "UGA",
          "RWA",
          "BIH",
          "MKD",
          "SRB",
          "MNE",
          "-99",
          "TTO",
          "SSD"
         ],
         "name": "",
         "type": "choropleth",
         "z": [
          0,
          21,
          null,
          8944,
          null,
          585,
          121,
          0,
          4838,
          3059,
          9187,
          null,
          93,
          285,
          720,
          75,
          158,
          null,
          13334,
          11,
          null,
          255,
          0,
          null,
          0,
          7067,
          12,
          44022,
          35,
          87618,
          2647,
          18418,
          8777,
          1322,
          115,
          108,
          1166,
          408,
          1761,
          2,
          146,
          20,
          24,
          30212,
          5532,
          null,
          10,
          87,
          36,
          2,
          8,
          194,
          124,
          156,
          35,
          69,
          860,
          391,
          18,
          168,
          null,
          45,
          26,
          72,
          66,
          53,
          null,
          null,
          49,
          null,
          140,
          99,
          11,
          null,
          41,
          1,
          474,
          51,
          91,
          null,
          8,
          50,
          1163,
          11,
          345,
          165,
          438,
          4458,
          393,
          null,
          0,
          58,
          0,
          null,
          0,
          null,
          300,
          0,
          33408,
          2965,
          0,
          48,
          5842,
          1269,
          60,
          1301,
          null,
          15912,
          40,
          711,
          5700,
          538,
          1636,
          1676,
          713,
          596,
          748,
          2206,
          80,
          31,
          69,
          9125,
          347,
          202,
          5630,
          144,
          139,
          1978,
          112,
          9822,
          6160,
          1719,
          28432,
          1764,
          null,
          null,
          22,
          167,
          11,
          4656,
          null,
          35112,
          613,
          45844,
          10,
          423,
          16,
          1945,
          124,
          3,
          116,
          329,
          28,
          373,
          0,
          998,
          43,
          483,
          2760,
          null,
          null,
          19,
          316,
          4652,
          64,
          228,
          58,
          null,
          2,
          5,
          null,
          466,
          543,
          45,
          185,
          8,
          null
         ]
        }
       ],
       "layout": {
        "coloraxis": {
         "colorbar": {
          "title": {
           "text": "Number of Deaths"
          }
         },
         "colorscale": [
          [
           0,
           "#440154"
          ],
          [
           0.1111111111111111,
           "#482878"
          ],
          [
           0.2222222222222222,
           "#3e4989"
          ],
          [
           0.3333333333333333,
           "#31688e"
          ],
          [
           0.4444444444444444,
           "#26828e"
          ],
          [
           0.5555555555555556,
           "#1f9e89"
          ],
          [
           0.6666666666666666,
           "#35b779"
          ],
          [
           0.7777777777777778,
           "#6ece58"
          ],
          [
           0.8888888888888888,
           "#b5de2b"
          ],
          [
           1,
           "#fde725"
          ]
         ]
        },
        "geo": {
         "center": {},
         "coastlinecolor": "Black",
         "domain": {
          "x": [
           0,
           1
          ],
          "y": [
           0,
           1
          ]
         },
         "projection": {
          "type": "natural earth"
         },
         "showcoastlines": true
        },
        "legend": {
         "tracegroupgap": 0
        },
        "template": {
         "data": {
          "bar": [
           {
            "error_x": {
             "color": "#2a3f5f"
            },
            "error_y": {
             "color": "#2a3f5f"
            },
            "marker": {
             "line": {
              "color": "#E5ECF6",
              "width": 0.5
             },
             "pattern": {
              "fillmode": "overlay",
              "size": 10,
              "solidity": 0.2
             }
            },
            "type": "bar"
           }
          ],
          "barpolar": [
           {
            "marker": {
             "line": {
              "color": "#E5ECF6",
              "width": 0.5
             },
             "pattern": {
              "fillmode": "overlay",
              "size": 10,
              "solidity": 0.2
             }
            },
            "type": "barpolar"
           }
          ],
          "carpet": [
           {
            "aaxis": {
             "endlinecolor": "#2a3f5f",
             "gridcolor": "white",
             "linecolor": "white",
             "minorgridcolor": "white",
             "startlinecolor": "#2a3f5f"
            },
            "baxis": {
             "endlinecolor": "#2a3f5f",
             "gridcolor": "white",
             "linecolor": "white",
             "minorgridcolor": "white",
             "startlinecolor": "#2a3f5f"
            },
            "type": "carpet"
           }
          ],
          "choropleth": [
           {
            "colorbar": {
             "outlinewidth": 0,
             "ticks": ""
            },
            "type": "choropleth"
           }
          ],
          "contour": [
           {
            "colorbar": {
             "outlinewidth": 0,
             "ticks": ""
            },
            "colorscale": [
             [
              0,
              "#0d0887"
             ],
             [
              0.1111111111111111,
              "#46039f"
             ],
             [
              0.2222222222222222,
              "#7201a8"
             ],
             [
              0.3333333333333333,
              "#9c179e"
             ],
             [
              0.4444444444444444,
              "#bd3786"
             ],
             [
              0.5555555555555556,
              "#d8576b"
             ],
             [
              0.6666666666666666,
              "#ed7953"
             ],
             [
              0.7777777777777778,
              "#fb9f3a"
             ],
             [
              0.8888888888888888,
              "#fdca26"
             ],
             [
              1,
              "#f0f921"
             ]
            ],
            "type": "contour"
           }
          ],
          "contourcarpet": [
           {
            "colorbar": {
             "outlinewidth": 0,
             "ticks": ""
            },
            "type": "contourcarpet"
           }
          ],
          "heatmap": [
           {
            "colorbar": {
             "outlinewidth": 0,
             "ticks": ""
            },
            "colorscale": [
             [
              0,
              "#0d0887"
             ],
             [
              0.1111111111111111,
              "#46039f"
             ],
             [
              0.2222222222222222,
              "#7201a8"
             ],
             [
              0.3333333333333333,
              "#9c179e"
             ],
             [
              0.4444444444444444,
              "#bd3786"
             ],
             [
              0.5555555555555556,
              "#d8576b"
             ],
             [
              0.6666666666666666,
              "#ed7953"
             ],
             [
              0.7777777777777778,
              "#fb9f3a"
             ],
             [
              0.8888888888888888,
              "#fdca26"
             ],
             [
              1,
              "#f0f921"
             ]
            ],
            "type": "heatmap"
           }
          ],
          "heatmapgl": [
           {
            "colorbar": {
             "outlinewidth": 0,
             "ticks": ""
            },
            "colorscale": [
             [
              0,
              "#0d0887"
             ],
             [
              0.1111111111111111,
              "#46039f"
             ],
             [
              0.2222222222222222,
              "#7201a8"
             ],
             [
              0.3333333333333333,
              "#9c179e"
             ],
             [
              0.4444444444444444,
              "#bd3786"
             ],
             [
              0.5555555555555556,
              "#d8576b"
             ],
             [
              0.6666666666666666,
              "#ed7953"
             ],
             [
              0.7777777777777778,
              "#fb9f3a"
             ],
             [
              0.8888888888888888,
              "#fdca26"
             ],
             [
              1,
              "#f0f921"
             ]
            ],
            "type": "heatmapgl"
           }
          ],
          "histogram": [
           {
            "marker": {
             "pattern": {
              "fillmode": "overlay",
              "size": 10,
              "solidity": 0.2
             }
            },
            "type": "histogram"
           }
          ],
          "histogram2d": [
           {
            "colorbar": {
             "outlinewidth": 0,
             "ticks": ""
            },
            "colorscale": [
             [
              0,
              "#0d0887"
             ],
             [
              0.1111111111111111,
              "#46039f"
             ],
             [
              0.2222222222222222,
              "#7201a8"
             ],
             [
              0.3333333333333333,
              "#9c179e"
             ],
             [
              0.4444444444444444,
              "#bd3786"
             ],
             [
              0.5555555555555556,
              "#d8576b"
             ],
             [
              0.6666666666666666,
              "#ed7953"
             ],
             [
              0.7777777777777778,
              "#fb9f3a"
             ],
             [
              0.8888888888888888,
              "#fdca26"
             ],
             [
              1,
              "#f0f921"
             ]
            ],
            "type": "histogram2d"
           }
          ],
          "histogram2dcontour": [
           {
            "colorbar": {
             "outlinewidth": 0,
             "ticks": ""
            },
            "colorscale": [
             [
              0,
              "#0d0887"
             ],
             [
              0.1111111111111111,
              "#46039f"
             ],
             [
              0.2222222222222222,
              "#7201a8"
             ],
             [
              0.3333333333333333,
              "#9c179e"
             ],
             [
              0.4444444444444444,
              "#bd3786"
             ],
             [
              0.5555555555555556,
              "#d8576b"
             ],
             [
              0.6666666666666666,
              "#ed7953"
             ],
             [
              0.7777777777777778,
              "#fb9f3a"
             ],
             [
              0.8888888888888888,
              "#fdca26"
             ],
             [
              1,
              "#f0f921"
             ]
            ],
            "type": "histogram2dcontour"
           }
          ],
          "mesh3d": [
           {
            "colorbar": {
             "outlinewidth": 0,
             "ticks": ""
            },
            "type": "mesh3d"
           }
          ],
          "parcoords": [
           {
            "line": {
             "colorbar": {
              "outlinewidth": 0,
              "ticks": ""
             }
            },
            "type": "parcoords"
           }
          ],
          "pie": [
           {
            "automargin": true,
            "type": "pie"
           }
          ],
          "scatter": [
           {
            "fillpattern": {
             "fillmode": "overlay",
             "size": 10,
             "solidity": 0.2
            },
            "type": "scatter"
           }
          ],
          "scatter3d": [
           {
            "line": {
             "colorbar": {
              "outlinewidth": 0,
              "ticks": ""
             }
            },
            "marker": {
             "colorbar": {
              "outlinewidth": 0,
              "ticks": ""
             }
            },
            "type": "scatter3d"
           }
          ],
          "scattercarpet": [
           {
            "marker": {
             "colorbar": {
              "outlinewidth": 0,
              "ticks": ""
             }
            },
            "type": "scattercarpet"
           }
          ],
          "scattergeo": [
           {
            "marker": {
             "colorbar": {
              "outlinewidth": 0,
              "ticks": ""
             }
            },
            "type": "scattergeo"
           }
          ],
          "scattergl": [
           {
            "marker": {
             "colorbar": {
              "outlinewidth": 0,
              "ticks": ""
             }
            },
            "type": "scattergl"
           }
          ],
          "scattermapbox": [
           {
            "marker": {
             "colorbar": {
              "outlinewidth": 0,
              "ticks": ""
             }
            },
            "type": "scattermapbox"
           }
          ],
          "scatterpolar": [
           {
            "marker": {
             "colorbar": {
              "outlinewidth": 0,
              "ticks": ""
             }
            },
            "type": "scatterpolar"
           }
          ],
          "scatterpolargl": [
           {
            "marker": {
             "colorbar": {
              "outlinewidth": 0,
              "ticks": ""
             }
            },
            "type": "scatterpolargl"
           }
          ],
          "scatterternary": [
           {
            "marker": {
             "colorbar": {
              "outlinewidth": 0,
              "ticks": ""
             }
            },
            "type": "scatterternary"
           }
          ],
          "surface": [
           {
            "colorbar": {
             "outlinewidth": 0,
             "ticks": ""
            },
            "colorscale": [
             [
              0,
              "#0d0887"
             ],
             [
              0.1111111111111111,
              "#46039f"
             ],
             [
              0.2222222222222222,
              "#7201a8"
             ],
             [
              0.3333333333333333,
              "#9c179e"
             ],
             [
              0.4444444444444444,
              "#bd3786"
             ],
             [
              0.5555555555555556,
              "#d8576b"
             ],
             [
              0.6666666666666666,
              "#ed7953"
             ],
             [
              0.7777777777777778,
              "#fb9f3a"
             ],
             [
              0.8888888888888888,
              "#fdca26"
             ],
             [
              1,
              "#f0f921"
             ]
            ],
            "type": "surface"
           }
          ],
          "table": [
           {
            "cells": {
             "fill": {
              "color": "#EBF0F8"
             },
             "line": {
              "color": "white"
             }
            },
            "header": {
             "fill": {
              "color": "#C8D4E3"
             },
             "line": {
              "color": "white"
             }
            },
            "type": "table"
           }
          ]
         },
         "layout": {
          "annotationdefaults": {
           "arrowcolor": "#2a3f5f",
           "arrowhead": 0,
           "arrowwidth": 1
          },
          "autotypenumbers": "strict",
          "coloraxis": {
           "colorbar": {
            "outlinewidth": 0,
            "ticks": ""
           }
          },
          "colorscale": {
           "diverging": [
            [
             0,
             "#8e0152"
            ],
            [
             0.1,
             "#c51b7d"
            ],
            [
             0.2,
             "#de77ae"
            ],
            [
             0.3,
             "#f1b6da"
            ],
            [
             0.4,
             "#fde0ef"
            ],
            [
             0.5,
             "#f7f7f7"
            ],
            [
             0.6,
             "#e6f5d0"
            ],
            [
             0.7,
             "#b8e186"
            ],
            [
             0.8,
             "#7fbc41"
            ],
            [
             0.9,
             "#4d9221"
            ],
            [
             1,
             "#276419"
            ]
           ],
           "sequential": [
            [
             0,
             "#0d0887"
            ],
            [
             0.1111111111111111,
             "#46039f"
            ],
            [
             0.2222222222222222,
             "#7201a8"
            ],
            [
             0.3333333333333333,
             "#9c179e"
            ],
            [
             0.4444444444444444,
             "#bd3786"
            ],
            [
             0.5555555555555556,
             "#d8576b"
            ],
            [
             0.6666666666666666,
             "#ed7953"
            ],
            [
             0.7777777777777778,
             "#fb9f3a"
            ],
            [
             0.8888888888888888,
             "#fdca26"
            ],
            [
             1,
             "#f0f921"
            ]
           ],
           "sequentialminus": [
            [
             0,
             "#0d0887"
            ],
            [
             0.1111111111111111,
             "#46039f"
            ],
            [
             0.2222222222222222,
             "#7201a8"
            ],
            [
             0.3333333333333333,
             "#9c179e"
            ],
            [
             0.4444444444444444,
             "#bd3786"
            ],
            [
             0.5555555555555556,
             "#d8576b"
            ],
            [
             0.6666666666666666,
             "#ed7953"
            ],
            [
             0.7777777777777778,
             "#fb9f3a"
            ],
            [
             0.8888888888888888,
             "#fdca26"
            ],
            [
             1,
             "#f0f921"
            ]
           ]
          },
          "colorway": [
           "#636efa",
           "#EF553B",
           "#00cc96",
           "#ab63fa",
           "#FFA15A",
           "#19d3f3",
           "#FF6692",
           "#B6E880",
           "#FF97FF",
           "#FECB52"
          ],
          "font": {
           "color": "#2a3f5f"
          },
          "geo": {
           "bgcolor": "white",
           "lakecolor": "white",
           "landcolor": "#E5ECF6",
           "showlakes": true,
           "showland": true,
           "subunitcolor": "white"
          },
          "hoverlabel": {
           "align": "left"
          },
          "hovermode": "closest",
          "mapbox": {
           "style": "light"
          },
          "paper_bgcolor": "white",
          "plot_bgcolor": "#E5ECF6",
          "polar": {
           "angularaxis": {
            "gridcolor": "white",
            "linecolor": "white",
            "ticks": ""
           },
           "bgcolor": "#E5ECF6",
           "radialaxis": {
            "gridcolor": "white",
            "linecolor": "white",
            "ticks": ""
           }
          },
          "scene": {
           "xaxis": {
            "backgroundcolor": "#E5ECF6",
            "gridcolor": "white",
            "gridwidth": 2,
            "linecolor": "white",
            "showbackground": true,
            "ticks": "",
            "zerolinecolor": "white"
           },
           "yaxis": {
            "backgroundcolor": "#E5ECF6",
            "gridcolor": "white",
            "gridwidth": 2,
            "linecolor": "white",
            "showbackground": true,
            "ticks": "",
            "zerolinecolor": "white"
           },
           "zaxis": {
            "backgroundcolor": "#E5ECF6",
            "gridcolor": "white",
            "gridwidth": 2,
            "linecolor": "white",
            "showbackground": true,
            "ticks": "",
            "zerolinecolor": "white"
           }
          },
          "shapedefaults": {
           "line": {
            "color": "#2a3f5f"
           }
          },
          "ternary": {
           "aaxis": {
            "gridcolor": "white",
            "linecolor": "white",
            "ticks": ""
           },
           "baxis": {
            "gridcolor": "white",
            "linecolor": "white",
            "ticks": ""
           },
           "bgcolor": "#E5ECF6",
           "caxis": {
            "gridcolor": "white",
            "linecolor": "white",
            "ticks": ""
           }
          },
          "title": {
           "x": 0.05
          },
          "xaxis": {
           "automargin": true,
           "gridcolor": "white",
           "linecolor": "white",
           "ticks": "",
           "title": {
            "standoff": 15
           },
           "zerolinecolor": "white",
           "zerolinewidth": 2
          },
          "yaxis": {
           "automargin": true,
           "gridcolor": "white",
           "linecolor": "white",
           "ticks": "",
           "title": {
            "standoff": 15
           },
           "zerolinecolor": "white",
           "zerolinewidth": 2
          }
         }
        },
        "title": {
         "text": "World Map of Deaths"
        }
       }
      },
      "text/html": [
       "<div>                            <div id=\"efa17e3d-53e6-42ef-8b09-68daf1c2bcdc\" class=\"plotly-graph-div\" style=\"height:525px; width:100%;\"></div>            <script type=\"text/javascript\">                require([\"plotly\"], function(Plotly) {                    window.PLOTLYENV=window.PLOTLYENV || {};                                    if (document.getElementById(\"efa17e3d-53e6-42ef-8b09-68daf1c2bcdc\")) {                    Plotly.newPlot(                        \"efa17e3d-53e6-42ef-8b09-68daf1c2bcdc\",                        [{\"coloraxis\":\"coloraxis\",\"geo\":\"geo\",\"hovertemplate\":\"\\u003cb\\u003e%{hovertext}\\u003c\\u002fb\\u003e\\u003cbr\\u003e\\u003cbr\\u003eiso_a3=%{location}\\u003cbr\\u003eNumber of Deaths=%{z}\\u003cextra\\u003e\\u003c\\u002fextra\\u003e\",\"hovertext\":[\"Fiji\",\"Tanzania\",\"W. Sahara\",\"Canada\",\"United States of America\",\"Kazakhstan\",\"Uzbekistan\",\"Papua New Guinea\",\"Indonesia\",\"Argentina\",\"Chile\",\"Dem. Rep. Congo\",\"Somalia\",\"Kenya\",\"Sudan\",\"Chad\",\"Haiti\",\"Dominican Rep.\",\"Russia\",\"Bahamas\",\"Falkland Is.\",\"Norway\",\"Greenland\",\"Fr. S. Antarctic Lands\",\"Timor-Leste\",\"South Africa\",\"Lesotho\",\"Mexico\",\"Uruguay\",\"Brazil\",\"Bolivia\",\"Peru\",\"Colombia\",\"Panama\",\"Costa Rica\",\"Nicaragua\",\"Honduras\",\"El Salvador\",\"Guatemala\",\"Belize\",\"Venezuela\",\"Guyana\",\"Suriname\",\"France\",\"Ecuador\",\"Puerto Rico\",\"Jamaica\",\"Cuba\",\"Zimbabwe\",\"Botswana\",\"Namibia\",\"Senegal\",\"Mali\",\"Mauritania\",\"Benin\",\"Niger\",\"Nigeria\",\"Cameroon\",\"Togo\",\"Ghana\",\"C\\u00f4te d'Ivoire\",\"Guinea\",\"Guinea-Bissau\",\"Liberia\",\"Sierra Leone\",\"Burkina Faso\",\"Central African Rep.\",\"Congo\",\"Gabon\",\"Eq. Guinea\",\"Zambia\",\"Malawi\",\"Mozambique\",\"eSwatini\",\"Angola\",\"Burundi\",\"Israel\",\"Lebanon\",\"Madagascar\",\"Palestine\",\"Gambia\",\"Tunisia\",\"Algeria\",\"Jordan\",\"United Arab Emirates\",\"Qatar\",\"Kuwait\",\"Iraq\",\"Oman\",\"Vanuatu\",\"Cambodia\",\"Thailand\",\"Laos\",\"Myanmar\",\"Vietnam\",\"North Korea\",\"South Korea\",\"Mongolia\",\"India\",\"Bangladesh\",\"Bhutan\",\"Nepal\",\"Pakistan\",\"Afghanistan\",\"Tajikistan\",\"Kyrgyzstan\",\"Turkmenistan\",\"Iran\",\"Syria\",\"Armenia\",\"Sweden\",\"Belarus\",\"Ukraine\",\"Poland\",\"Austria\",\"Hungary\",\"Moldova\",\"Romania\",\"Lithuania\",\"Latvia\",\"Estonia\",\"Germany\",\"Bulgaria\",\"Greece\",\"Turkey\",\"Albania\",\"Croatia\",\"Switzerland\",\"Luxembourg\",\"Belgium\",\"Netherlands\",\"Portugal\",\"Spain\",\"Ireland\",\"New Caledonia\",\"Solomon Is.\",\"New Zealand\",\"Australia\",\"Sri Lanka\",\"China\",\"Taiwan\",\"Italy\",\"Denmark\",\"United Kingdom\",\"Iceland\",\"Azerbaijan\",\"Georgia\",\"Philippines\",\"Malaysia\",\"Brunei\",\"Slovenia\",\"Finland\",\"Slovakia\",\"Czechia\",\"Eritrea\",\"Japan\",\"Paraguay\",\"Yemen\",\"Saudi Arabia\",\"Antarctica\",\"N. Cyprus\",\"Cyprus\",\"Morocco\",\"Egypt\",\"Libya\",\"Ethiopia\",\"Djibouti\",\"Somaliland\",\"Uganda\",\"Rwanda\",\"Bosnia and Herz.\",\"North Macedonia\",\"Serbia\",\"Montenegro\",\"Kosovo\",\"Trinidad and Tobago\",\"S. Sudan\"],\"locations\":[\"FJI\",\"TZA\",\"ESH\",\"CAN\",\"USA\",\"KAZ\",\"UZB\",\"PNG\",\"IDN\",\"ARG\",\"CHL\",\"COD\",\"SOM\",\"KEN\",\"SDN\",\"TCD\",\"HTI\",\"DOM\",\"RUS\",\"BHS\",\"FLK\",\"NOR\",\"GRL\",\"ATF\",\"TLS\",\"ZAF\",\"LSO\",\"MEX\",\"URY\",\"BRA\",\"BOL\",\"PER\",\"COL\",\"PAN\",\"CRI\",\"NIC\",\"HND\",\"SLV\",\"GTM\",\"BLZ\",\"VEN\",\"GUY\",\"SUR\",\"FRA\",\"ECU\",\"PRI\",\"JAM\",\"CUB\",\"ZWE\",\"BWA\",\"NAM\",\"SEN\",\"MLI\",\"MRT\",\"BEN\",\"NER\",\"NGA\",\"CMR\",\"TGO\",\"GHA\",\"CIV\",\"GIN\",\"GNB\",\"LBR\",\"SLE\",\"BFA\",\"CAF\",\"COG\",\"GAB\",\"GNQ\",\"ZMB\",\"MWI\",\"MOZ\",\"SWZ\",\"AGO\",\"BDI\",\"ISR\",\"LBN\",\"MDG\",\"PSE\",\"GMB\",\"TUN\",\"DZA\",\"JOR\",\"ARE\",\"QAT\",\"KWT\",\"IRQ\",\"OMN\",\"VUT\",\"KHM\",\"THA\",\"LAO\",\"MMR\",\"VNM\",\"PRK\",\"KOR\",\"MNG\",\"IND\",\"BGD\",\"BTN\",\"NPL\",\"PAK\",\"AFG\",\"TJK\",\"KGZ\",\"TKM\",\"IRN\",\"SYR\",\"ARM\",\"SWE\",\"BLR\",\"UKR\",\"POL\",\"AUT\",\"HUN\",\"MDA\",\"ROU\",\"LTU\",\"LVA\",\"EST\",\"DEU\",\"BGR\",\"GRC\",\"TUR\",\"ALB\",\"HRV\",\"CHE\",\"LUX\",\"BEL\",\"NLD\",\"PRT\",\"ESP\",\"IRL\",\"NCL\",\"SLB\",\"NZL\",\"AUS\",\"LKA\",\"CHN\",\"TWN\",\"ITA\",\"DNK\",\"GBR\",\"ISL\",\"AZE\",\"GEO\",\"PHL\",\"MYS\",\"BRN\",\"SVN\",\"FIN\",\"SVK\",\"CZE\",\"ERI\",\"JPN\",\"PRY\",\"YEM\",\"SAU\",\"ATA\",\"CYN\",\"CYP\",\"MAR\",\"EGY\",\"LBY\",\"ETH\",\"DJI\",\"SOL\",\"UGA\",\"RWA\",\"BIH\",\"MKD\",\"SRB\",\"MNE\",\"-99\",\"TTO\",\"SSD\"],\"name\":\"\",\"z\":[0.0,21.0,null,8944.0,null,585.0,121.0,0.0,4838.0,3059.0,9187.0,null,93.0,285.0,720.0,75.0,158.0,null,13334.0,11.0,null,255.0,0.0,null,0.0,7067.0,12.0,44022.0,35.0,87618.0,2647.0,18418.0,8777.0,1322.0,115.0,108.0,1166.0,408.0,1761.0,2.0,146.0,20.0,24.0,30212.0,5532.0,null,10.0,87.0,36.0,2.0,8.0,194.0,124.0,156.0,35.0,69.0,860.0,391.0,18.0,168.0,null,45.0,26.0,72.0,66.0,53.0,null,null,49.0,null,140.0,99.0,11.0,null,41.0,1.0,474.0,51.0,91.0,null,8.0,50.0,1163.0,11.0,345.0,165.0,438.0,4458.0,393.0,null,0.0,58.0,0.0,null,0.0,null,300.0,0.0,33408.0,2965.0,0.0,48.0,5842.0,1269.0,60.0,1301.0,null,15912.0,40.0,711.0,5700.0,538.0,1636.0,1676.0,713.0,596.0,748.0,2206.0,80.0,31.0,69.0,9125.0,347.0,202.0,5630.0,144.0,139.0,1978.0,112.0,9822.0,6160.0,1719.0,28432.0,1764.0,null,null,22.0,167.0,11.0,4656.0,null,35112.0,613.0,45844.0,10.0,423.0,16.0,1945.0,124.0,3.0,116.0,329.0,28.0,373.0,0.0,998.0,43.0,483.0,2760.0,null,null,19.0,316.0,4652.0,64.0,228.0,58.0,null,2.0,5.0,null,466.0,543.0,45.0,185.0,8.0,null],\"type\":\"choropleth\"}],                        {\"template\":{\"data\":{\"histogram2dcontour\":[{\"type\":\"histogram2dcontour\",\"colorbar\":{\"outlinewidth\":0,\"ticks\":\"\"},\"colorscale\":[[0.0,\"#0d0887\"],[0.1111111111111111,\"#46039f\"],[0.2222222222222222,\"#7201a8\"],[0.3333333333333333,\"#9c179e\"],[0.4444444444444444,\"#bd3786\"],[0.5555555555555556,\"#d8576b\"],[0.6666666666666666,\"#ed7953\"],[0.7777777777777778,\"#fb9f3a\"],[0.8888888888888888,\"#fdca26\"],[1.0,\"#f0f921\"]]}],\"choropleth\":[{\"type\":\"choropleth\",\"colorbar\":{\"outlinewidth\":0,\"ticks\":\"\"}}],\"histogram2d\":[{\"type\":\"histogram2d\",\"colorbar\":{\"outlinewidth\":0,\"ticks\":\"\"},\"colorscale\":[[0.0,\"#0d0887\"],[0.1111111111111111,\"#46039f\"],[0.2222222222222222,\"#7201a8\"],[0.3333333333333333,\"#9c179e\"],[0.4444444444444444,\"#bd3786\"],[0.5555555555555556,\"#d8576b\"],[0.6666666666666666,\"#ed7953\"],[0.7777777777777778,\"#fb9f3a\"],[0.8888888888888888,\"#fdca26\"],[1.0,\"#f0f921\"]]}],\"heatmap\":[{\"type\":\"heatmap\",\"colorbar\":{\"outlinewidth\":0,\"ticks\":\"\"},\"colorscale\":[[0.0,\"#0d0887\"],[0.1111111111111111,\"#46039f\"],[0.2222222222222222,\"#7201a8\"],[0.3333333333333333,\"#9c179e\"],[0.4444444444444444,\"#bd3786\"],[0.5555555555555556,\"#d8576b\"],[0.6666666666666666,\"#ed7953\"],[0.7777777777777778,\"#fb9f3a\"],[0.8888888888888888,\"#fdca26\"],[1.0,\"#f0f921\"]]}],\"heatmapgl\":[{\"type\":\"heatmapgl\",\"colorbar\":{\"outlinewidth\":0,\"ticks\":\"\"},\"colorscale\":[[0.0,\"#0d0887\"],[0.1111111111111111,\"#46039f\"],[0.2222222222222222,\"#7201a8\"],[0.3333333333333333,\"#9c179e\"],[0.4444444444444444,\"#bd3786\"],[0.5555555555555556,\"#d8576b\"],[0.6666666666666666,\"#ed7953\"],[0.7777777777777778,\"#fb9f3a\"],[0.8888888888888888,\"#fdca26\"],[1.0,\"#f0f921\"]]}],\"contourcarpet\":[{\"type\":\"contourcarpet\",\"colorbar\":{\"outlinewidth\":0,\"ticks\":\"\"}}],\"contour\":[{\"type\":\"contour\",\"colorbar\":{\"outlinewidth\":0,\"ticks\":\"\"},\"colorscale\":[[0.0,\"#0d0887\"],[0.1111111111111111,\"#46039f\"],[0.2222222222222222,\"#7201a8\"],[0.3333333333333333,\"#9c179e\"],[0.4444444444444444,\"#bd3786\"],[0.5555555555555556,\"#d8576b\"],[0.6666666666666666,\"#ed7953\"],[0.7777777777777778,\"#fb9f3a\"],[0.8888888888888888,\"#fdca26\"],[1.0,\"#f0f921\"]]}],\"surface\":[{\"type\":\"surface\",\"colorbar\":{\"outlinewidth\":0,\"ticks\":\"\"},\"colorscale\":[[0.0,\"#0d0887\"],[0.1111111111111111,\"#46039f\"],[0.2222222222222222,\"#7201a8\"],[0.3333333333333333,\"#9c179e\"],[0.4444444444444444,\"#bd3786\"],[0.5555555555555556,\"#d8576b\"],[0.6666666666666666,\"#ed7953\"],[0.7777777777777778,\"#fb9f3a\"],[0.8888888888888888,\"#fdca26\"],[1.0,\"#f0f921\"]]}],\"mesh3d\":[{\"type\":\"mesh3d\",\"colorbar\":{\"outlinewidth\":0,\"ticks\":\"\"}}],\"scatter\":[{\"fillpattern\":{\"fillmode\":\"overlay\",\"size\":10,\"solidity\":0.2},\"type\":\"scatter\"}],\"parcoords\":[{\"type\":\"parcoords\",\"line\":{\"colorbar\":{\"outlinewidth\":0,\"ticks\":\"\"}}}],\"scatterpolargl\":[{\"type\":\"scatterpolargl\",\"marker\":{\"colorbar\":{\"outlinewidth\":0,\"ticks\":\"\"}}}],\"bar\":[{\"error_x\":{\"color\":\"#2a3f5f\"},\"error_y\":{\"color\":\"#2a3f5f\"},\"marker\":{\"line\":{\"color\":\"#E5ECF6\",\"width\":0.5},\"pattern\":{\"fillmode\":\"overlay\",\"size\":10,\"solidity\":0.2}},\"type\":\"bar\"}],\"scattergeo\":[{\"type\":\"scattergeo\",\"marker\":{\"colorbar\":{\"outlinewidth\":0,\"ticks\":\"\"}}}],\"scatterpolar\":[{\"type\":\"scatterpolar\",\"marker\":{\"colorbar\":{\"outlinewidth\":0,\"ticks\":\"\"}}}],\"histogram\":[{\"marker\":{\"pattern\":{\"fillmode\":\"overlay\",\"size\":10,\"solidity\":0.2}},\"type\":\"histogram\"}],\"scattergl\":[{\"type\":\"scattergl\",\"marker\":{\"colorbar\":{\"outlinewidth\":0,\"ticks\":\"\"}}}],\"scatter3d\":[{\"type\":\"scatter3d\",\"line\":{\"colorbar\":{\"outlinewidth\":0,\"ticks\":\"\"}},\"marker\":{\"colorbar\":{\"outlinewidth\":0,\"ticks\":\"\"}}}],\"scattermapbox\":[{\"type\":\"scattermapbox\",\"marker\":{\"colorbar\":{\"outlinewidth\":0,\"ticks\":\"\"}}}],\"scatterternary\":[{\"type\":\"scatterternary\",\"marker\":{\"colorbar\":{\"outlinewidth\":0,\"ticks\":\"\"}}}],\"scattercarpet\":[{\"type\":\"scattercarpet\",\"marker\":{\"colorbar\":{\"outlinewidth\":0,\"ticks\":\"\"}}}],\"carpet\":[{\"aaxis\":{\"endlinecolor\":\"#2a3f5f\",\"gridcolor\":\"white\",\"linecolor\":\"white\",\"minorgridcolor\":\"white\",\"startlinecolor\":\"#2a3f5f\"},\"baxis\":{\"endlinecolor\":\"#2a3f5f\",\"gridcolor\":\"white\",\"linecolor\":\"white\",\"minorgridcolor\":\"white\",\"startlinecolor\":\"#2a3f5f\"},\"type\":\"carpet\"}],\"table\":[{\"cells\":{\"fill\":{\"color\":\"#EBF0F8\"},\"line\":{\"color\":\"white\"}},\"header\":{\"fill\":{\"color\":\"#C8D4E3\"},\"line\":{\"color\":\"white\"}},\"type\":\"table\"}],\"barpolar\":[{\"marker\":{\"line\":{\"color\":\"#E5ECF6\",\"width\":0.5},\"pattern\":{\"fillmode\":\"overlay\",\"size\":10,\"solidity\":0.2}},\"type\":\"barpolar\"}],\"pie\":[{\"automargin\":true,\"type\":\"pie\"}]},\"layout\":{\"autotypenumbers\":\"strict\",\"colorway\":[\"#636efa\",\"#EF553B\",\"#00cc96\",\"#ab63fa\",\"#FFA15A\",\"#19d3f3\",\"#FF6692\",\"#B6E880\",\"#FF97FF\",\"#FECB52\"],\"font\":{\"color\":\"#2a3f5f\"},\"hovermode\":\"closest\",\"hoverlabel\":{\"align\":\"left\"},\"paper_bgcolor\":\"white\",\"plot_bgcolor\":\"#E5ECF6\",\"polar\":{\"bgcolor\":\"#E5ECF6\",\"angularaxis\":{\"gridcolor\":\"white\",\"linecolor\":\"white\",\"ticks\":\"\"},\"radialaxis\":{\"gridcolor\":\"white\",\"linecolor\":\"white\",\"ticks\":\"\"}},\"ternary\":{\"bgcolor\":\"#E5ECF6\",\"aaxis\":{\"gridcolor\":\"white\",\"linecolor\":\"white\",\"ticks\":\"\"},\"baxis\":{\"gridcolor\":\"white\",\"linecolor\":\"white\",\"ticks\":\"\"},\"caxis\":{\"gridcolor\":\"white\",\"linecolor\":\"white\",\"ticks\":\"\"}},\"coloraxis\":{\"colorbar\":{\"outlinewidth\":0,\"ticks\":\"\"}},\"colorscale\":{\"sequential\":[[0.0,\"#0d0887\"],[0.1111111111111111,\"#46039f\"],[0.2222222222222222,\"#7201a8\"],[0.3333333333333333,\"#9c179e\"],[0.4444444444444444,\"#bd3786\"],[0.5555555555555556,\"#d8576b\"],[0.6666666666666666,\"#ed7953\"],[0.7777777777777778,\"#fb9f3a\"],[0.8888888888888888,\"#fdca26\"],[1.0,\"#f0f921\"]],\"sequentialminus\":[[0.0,\"#0d0887\"],[0.1111111111111111,\"#46039f\"],[0.2222222222222222,\"#7201a8\"],[0.3333333333333333,\"#9c179e\"],[0.4444444444444444,\"#bd3786\"],[0.5555555555555556,\"#d8576b\"],[0.6666666666666666,\"#ed7953\"],[0.7777777777777778,\"#fb9f3a\"],[0.8888888888888888,\"#fdca26\"],[1.0,\"#f0f921\"]],\"diverging\":[[0,\"#8e0152\"],[0.1,\"#c51b7d\"],[0.2,\"#de77ae\"],[0.3,\"#f1b6da\"],[0.4,\"#fde0ef\"],[0.5,\"#f7f7f7\"],[0.6,\"#e6f5d0\"],[0.7,\"#b8e186\"],[0.8,\"#7fbc41\"],[0.9,\"#4d9221\"],[1,\"#276419\"]]},\"xaxis\":{\"gridcolor\":\"white\",\"linecolor\":\"white\",\"ticks\":\"\",\"title\":{\"standoff\":15},\"zerolinecolor\":\"white\",\"automargin\":true,\"zerolinewidth\":2},\"yaxis\":{\"gridcolor\":\"white\",\"linecolor\":\"white\",\"ticks\":\"\",\"title\":{\"standoff\":15},\"zerolinecolor\":\"white\",\"automargin\":true,\"zerolinewidth\":2},\"scene\":{\"xaxis\":{\"backgroundcolor\":\"#E5ECF6\",\"gridcolor\":\"white\",\"linecolor\":\"white\",\"showbackground\":true,\"ticks\":\"\",\"zerolinecolor\":\"white\",\"gridwidth\":2},\"yaxis\":{\"backgroundcolor\":\"#E5ECF6\",\"gridcolor\":\"white\",\"linecolor\":\"white\",\"showbackground\":true,\"ticks\":\"\",\"zerolinecolor\":\"white\",\"gridwidth\":2},\"zaxis\":{\"backgroundcolor\":\"#E5ECF6\",\"gridcolor\":\"white\",\"linecolor\":\"white\",\"showbackground\":true,\"ticks\":\"\",\"zerolinecolor\":\"white\",\"gridwidth\":2}},\"shapedefaults\":{\"line\":{\"color\":\"#2a3f5f\"}},\"annotationdefaults\":{\"arrowcolor\":\"#2a3f5f\",\"arrowhead\":0,\"arrowwidth\":1},\"geo\":{\"bgcolor\":\"white\",\"landcolor\":\"#E5ECF6\",\"subunitcolor\":\"white\",\"showland\":true,\"showlakes\":true,\"lakecolor\":\"white\"},\"title\":{\"x\":0.05},\"mapbox\":{\"style\":\"light\"}}},\"geo\":{\"domain\":{\"x\":[0.0,1.0],\"y\":[0.0,1.0]},\"center\":{},\"projection\":{\"type\":\"natural earth\"},\"showcoastlines\":true,\"coastlinecolor\":\"Black\"},\"coloraxis\":{\"colorbar\":{\"title\":{\"text\":\"Number of Deaths\"}},\"colorscale\":[[0.0,\"#440154\"],[0.1111111111111111,\"#482878\"],[0.2222222222222222,\"#3e4989\"],[0.3333333333333333,\"#31688e\"],[0.4444444444444444,\"#26828e\"],[0.5555555555555556,\"#1f9e89\"],[0.6666666666666666,\"#35b779\"],[0.7777777777777778,\"#6ece58\"],[0.8888888888888888,\"#b5de2b\"],[1.0,\"#fde725\"]]},\"legend\":{\"tracegroupgap\":0},\"title\":{\"text\":\"World Map of Deaths\"}},                        {\"responsive\": true}                    ).then(function(){\n",
       "                            \n",
       "var gd = document.getElementById('efa17e3d-53e6-42ef-8b09-68daf1c2bcdc');\n",
       "var x = new MutationObserver(function (mutations, observer) {{\n",
       "        var display = window.getComputedStyle(gd).display;\n",
       "        if (!display || display === 'none') {{\n",
       "            console.log([gd, 'removed!']);\n",
       "            Plotly.purge(gd);\n",
       "            observer.disconnect();\n",
       "        }}\n",
       "}});\n",
       "\n",
       "// Listen for the removal of the full notebook cells\n",
       "var notebookContainer = gd.closest('#notebook-container');\n",
       "if (notebookContainer) {{\n",
       "    x.observe(notebookContainer, {childList: true});\n",
       "}}\n",
       "\n",
       "// Listen for the clearing of the current output cell\n",
       "var outputEl = gd.closest('.output');\n",
       "if (outputEl) {{\n",
       "    x.observe(outputEl, {childList: true});\n",
       "}}\n",
       "\n",
       "                        })                };                });            </script>        </div>"
      ]
     },
     "metadata": {},
     "output_type": "display_data"
    }
   ],
   "source": [
    "fig.update_geos(projection_type=\"natural earth\")  # Set map projection\n",
    "fig.update_layout(geo=dict(showcoastlines=True, coastlinecolor=\"Black\"))"
   ]
  },
  {
   "cell_type": "code",
   "execution_count": 75,
   "metadata": {},
   "outputs": [],
   "source": [
    "fig = px.choropleth(world, \n",
    "                    locations=\"iso_a3\",  # Use ISO country codes\n",
    "                    color=\"Recovered\",      # Color by the number of deaths\n",
    "                    hover_name=\"name\",   # Hover text shows country name\n",
    "                    color_continuous_scale=\"thermal\",  # Color scale\n",
    "                    title=\"World Map of Recoveries\",\n",
    "                    labels={\"Recovered\": \"Number of recoveries\"}\n",
    "                    )"
   ]
  },
  {
   "cell_type": "code",
   "execution_count": 76,
   "metadata": {},
   "outputs": [
    {
     "data": {
      "application/vnd.plotly.v1+json": {
       "config": {
        "plotlyServerURL": "https://plot.ly"
       },
       "data": [
        {
         "coloraxis": "coloraxis",
         "geo": "geo",
         "hovertemplate": "<b>%{hovertext}</b><br><br>iso_a3=%{location}<br>Number of recoveries=%{z}<extra></extra>",
         "hovertext": [
          "Fiji",
          "Tanzania",
          "W. Sahara",
          "Canada",
          "United States of America",
          "Kazakhstan",
          "Uzbekistan",
          "Papua New Guinea",
          "Indonesia",
          "Argentina",
          "Chile",
          "Dem. Rep. Congo",
          "Somalia",
          "Kenya",
          "Sudan",
          "Chad",
          "Haiti",
          "Dominican Rep.",
          "Russia",
          "Bahamas",
          "Falkland Is.",
          "Norway",
          "Greenland",
          "Fr. S. Antarctic Lands",
          "Timor-Leste",
          "South Africa",
          "Lesotho",
          "Mexico",
          "Uruguay",
          "Brazil",
          "Bolivia",
          "Peru",
          "Colombia",
          "Panama",
          "Costa Rica",
          "Nicaragua",
          "Honduras",
          "El Salvador",
          "Guatemala",
          "Belize",
          "Venezuela",
          "Guyana",
          "Suriname",
          "France",
          "Ecuador",
          "Puerto Rico",
          "Jamaica",
          "Cuba",
          "Zimbabwe",
          "Botswana",
          "Namibia",
          "Senegal",
          "Mali",
          "Mauritania",
          "Benin",
          "Niger",
          "Nigeria",
          "Cameroon",
          "Togo",
          "Ghana",
          "Côte d'Ivoire",
          "Guinea",
          "Guinea-Bissau",
          "Liberia",
          "Sierra Leone",
          "Burkina Faso",
          "Central African Rep.",
          "Congo",
          "Gabon",
          "Eq. Guinea",
          "Zambia",
          "Malawi",
          "Mozambique",
          "eSwatini",
          "Angola",
          "Burundi",
          "Israel",
          "Lebanon",
          "Madagascar",
          "Palestine",
          "Gambia",
          "Tunisia",
          "Algeria",
          "Jordan",
          "United Arab Emirates",
          "Qatar",
          "Kuwait",
          "Iraq",
          "Oman",
          "Vanuatu",
          "Cambodia",
          "Thailand",
          "Laos",
          "Myanmar",
          "Vietnam",
          "North Korea",
          "South Korea",
          "Mongolia",
          "India",
          "Bangladesh",
          "Bhutan",
          "Nepal",
          "Pakistan",
          "Afghanistan",
          "Tajikistan",
          "Kyrgyzstan",
          "Turkmenistan",
          "Iran",
          "Syria",
          "Armenia",
          "Sweden",
          "Belarus",
          "Ukraine",
          "Poland",
          "Austria",
          "Hungary",
          "Moldova",
          "Romania",
          "Lithuania",
          "Latvia",
          "Estonia",
          "Germany",
          "Bulgaria",
          "Greece",
          "Turkey",
          "Albania",
          "Croatia",
          "Switzerland",
          "Luxembourg",
          "Belgium",
          "Netherlands",
          "Portugal",
          "Spain",
          "Ireland",
          "New Caledonia",
          "Solomon Is.",
          "New Zealand",
          "Australia",
          "Sri Lanka",
          "China",
          "Taiwan",
          "Italy",
          "Denmark",
          "United Kingdom",
          "Iceland",
          "Azerbaijan",
          "Georgia",
          "Philippines",
          "Malaysia",
          "Brunei",
          "Slovenia",
          "Finland",
          "Slovakia",
          "Czechia",
          "Eritrea",
          "Japan",
          "Paraguay",
          "Yemen",
          "Saudi Arabia",
          "Antarctica",
          "N. Cyprus",
          "Cyprus",
          "Morocco",
          "Egypt",
          "Libya",
          "Ethiopia",
          "Djibouti",
          "Somaliland",
          "Uganda",
          "Rwanda",
          "Bosnia and Herz.",
          "North Macedonia",
          "Serbia",
          "Montenegro",
          "Kosovo",
          "Trinidad and Tobago",
          "S. Sudan"
         ],
         "locations": [
          "FJI",
          "TZA",
          "ESH",
          "CAN",
          "USA",
          "KAZ",
          "UZB",
          "PNG",
          "IDN",
          "ARG",
          "CHL",
          "COD",
          "SOM",
          "KEN",
          "SDN",
          "TCD",
          "HTI",
          "DOM",
          "RUS",
          "BHS",
          "FLK",
          "NOR",
          "GRL",
          "ATF",
          "TLS",
          "ZAF",
          "LSO",
          "MEX",
          "URY",
          "BRA",
          "BOL",
          "PER",
          "COL",
          "PAN",
          "CRI",
          "NIC",
          "HND",
          "SLV",
          "GTM",
          "BLZ",
          "VEN",
          "GUY",
          "SUR",
          "FRA",
          "ECU",
          "PRI",
          "JAM",
          "CUB",
          "ZWE",
          "BWA",
          "NAM",
          "SEN",
          "MLI",
          "MRT",
          "BEN",
          "NER",
          "NGA",
          "CMR",
          "TGO",
          "GHA",
          "CIV",
          "GIN",
          "GNB",
          "LBR",
          "SLE",
          "BFA",
          "CAF",
          "COG",
          "GAB",
          "GNQ",
          "ZMB",
          "MWI",
          "MOZ",
          "SWZ",
          "AGO",
          "BDI",
          "ISR",
          "LBN",
          "MDG",
          "PSE",
          "GMB",
          "TUN",
          "DZA",
          "JOR",
          "ARE",
          "QAT",
          "KWT",
          "IRQ",
          "OMN",
          "VUT",
          "KHM",
          "THA",
          "LAO",
          "MMR",
          "VNM",
          "PRK",
          "KOR",
          "MNG",
          "IND",
          "BGD",
          "BTN",
          "NPL",
          "PAK",
          "AFG",
          "TJK",
          "KGZ",
          "TKM",
          "IRN",
          "SYR",
          "ARM",
          "SWE",
          "BLR",
          "UKR",
          "POL",
          "AUT",
          "HUN",
          "MDA",
          "ROU",
          "LTU",
          "LVA",
          "EST",
          "DEU",
          "BGR",
          "GRC",
          "TUR",
          "ALB",
          "HRV",
          "CHE",
          "LUX",
          "BEL",
          "NLD",
          "PRT",
          "ESP",
          "IRL",
          "NCL",
          "SLB",
          "NZL",
          "AUS",
          "LKA",
          "CHN",
          "TWN",
          "ITA",
          "DNK",
          "GBR",
          "ISL",
          "AZE",
          "GEO",
          "PHL",
          "MYS",
          "BRN",
          "SVN",
          "FIN",
          "SVK",
          "CZE",
          "ERI",
          "JPN",
          "PRY",
          "YEM",
          "SAU",
          "ATA",
          "CYN",
          "CYP",
          "MAR",
          "EGY",
          "LBY",
          "ETH",
          "DJI",
          "SOL",
          "UGA",
          "RWA",
          "BIH",
          "MKD",
          "SRB",
          "MNE",
          "-99",
          "TTO",
          "SSD"
         ],
         "name": "",
         "type": "choropleth",
         "z": [
          18,
          183,
          null,
          0,
          null,
          54404,
          11674,
          11,
          58173,
          72575,
          319954,
          null,
          1543,
          7833,
          5939,
          810,
          4365,
          null,
          602249,
          91,
          null,
          8752,
          13,
          null,
          0,
          274925,
          128,
          303810,
          951,
          1846641,
          21478,
          272547,
          131161,
          35086,
          3824,
          2492,
          5039,
          7778,
          32455,
          26,
          9959,
          181,
          925,
          81212,
          34896,
          null,
          714,
          2351,
          542,
          63,
          101,
          6477,
          1913,
          4653,
          1036,
          1027,
          18203,
          14539,
          607,
          29801,
          null,
          6257,
          803,
          646,
          1317,
          926,
          null,
          null,
          4682,
          null,
          2815,
          1645,
          0,
          null,
          242,
          301,
          27133,
          1709,
          6260,
          null,
          66,
          1157,
          18837,
          1041,
          52510,
          106328,
          55057,
          77144,
          57028,
          null,
          147,
          3111,
          19,
          null,
          365,
          null,
          13007,
          222,
          951166,
          125683,
          86,
          13754,
          241026,
          25198,
          6028,
          21205,
          null,
          255144,
          0,
          26665,
          0,
          60492,
          37202,
          32856,
          18246,
          3329,
          16154,
          25794,
          1620,
          1045,
          1923,
          190314,
          5585,
          1374,
          210469,
          2745,
          3936,
          30900,
          4825,
          17452,
          189,
          35375,
          150376,
          23364,
          null,
          null,
          1514,
          9311,
          2121,
          78869,
          null,
          198593,
          12605,
          1437,
          1823,
          23242,
          922,
          26446,
          8601,
          138,
          1733,
          6920,
          1616,
          11428,
          191,
          21970,
          2905,
          833,
          222936,
          null,
          null,
          852,
          16553,
          34838,
          577,
          6386,
          4977,
          null,
          986,
          975,
          null,
          5564,
          0,
          809,
          4027,
          128,
          null
         ]
        }
       ],
       "layout": {
        "coloraxis": {
         "colorbar": {
          "title": {
           "text": "Number of recoveries"
          }
         },
         "colorscale": [
          [
           0,
           "rgb(3, 35, 51)"
          ],
          [
           0.09090909090909091,
           "rgb(13, 48, 100)"
          ],
          [
           0.18181818181818182,
           "rgb(53, 50, 155)"
          ],
          [
           0.2727272727272727,
           "rgb(93, 62, 153)"
          ],
          [
           0.36363636363636365,
           "rgb(126, 77, 143)"
          ],
          [
           0.45454545454545453,
           "rgb(158, 89, 135)"
          ],
          [
           0.5454545454545454,
           "rgb(193, 100, 121)"
          ],
          [
           0.6363636363636364,
           "rgb(225, 113, 97)"
          ],
          [
           0.7272727272727273,
           "rgb(246, 139, 69)"
          ],
          [
           0.8181818181818182,
           "rgb(251, 173, 60)"
          ],
          [
           0.9090909090909091,
           "rgb(246, 211, 70)"
          ],
          [
           1,
           "rgb(231, 250, 90)"
          ]
         ]
        },
        "geo": {
         "center": {},
         "coastlinecolor": "Black",
         "domain": {
          "x": [
           0,
           1
          ],
          "y": [
           0,
           1
          ]
         },
         "projection": {
          "type": "natural earth"
         },
         "showcoastlines": true
        },
        "legend": {
         "tracegroupgap": 0
        },
        "template": {
         "data": {
          "bar": [
           {
            "error_x": {
             "color": "#2a3f5f"
            },
            "error_y": {
             "color": "#2a3f5f"
            },
            "marker": {
             "line": {
              "color": "#E5ECF6",
              "width": 0.5
             },
             "pattern": {
              "fillmode": "overlay",
              "size": 10,
              "solidity": 0.2
             }
            },
            "type": "bar"
           }
          ],
          "barpolar": [
           {
            "marker": {
             "line": {
              "color": "#E5ECF6",
              "width": 0.5
             },
             "pattern": {
              "fillmode": "overlay",
              "size": 10,
              "solidity": 0.2
             }
            },
            "type": "barpolar"
           }
          ],
          "carpet": [
           {
            "aaxis": {
             "endlinecolor": "#2a3f5f",
             "gridcolor": "white",
             "linecolor": "white",
             "minorgridcolor": "white",
             "startlinecolor": "#2a3f5f"
            },
            "baxis": {
             "endlinecolor": "#2a3f5f",
             "gridcolor": "white",
             "linecolor": "white",
             "minorgridcolor": "white",
             "startlinecolor": "#2a3f5f"
            },
            "type": "carpet"
           }
          ],
          "choropleth": [
           {
            "colorbar": {
             "outlinewidth": 0,
             "ticks": ""
            },
            "type": "choropleth"
           }
          ],
          "contour": [
           {
            "colorbar": {
             "outlinewidth": 0,
             "ticks": ""
            },
            "colorscale": [
             [
              0,
              "#0d0887"
             ],
             [
              0.1111111111111111,
              "#46039f"
             ],
             [
              0.2222222222222222,
              "#7201a8"
             ],
             [
              0.3333333333333333,
              "#9c179e"
             ],
             [
              0.4444444444444444,
              "#bd3786"
             ],
             [
              0.5555555555555556,
              "#d8576b"
             ],
             [
              0.6666666666666666,
              "#ed7953"
             ],
             [
              0.7777777777777778,
              "#fb9f3a"
             ],
             [
              0.8888888888888888,
              "#fdca26"
             ],
             [
              1,
              "#f0f921"
             ]
            ],
            "type": "contour"
           }
          ],
          "contourcarpet": [
           {
            "colorbar": {
             "outlinewidth": 0,
             "ticks": ""
            },
            "type": "contourcarpet"
           }
          ],
          "heatmap": [
           {
            "colorbar": {
             "outlinewidth": 0,
             "ticks": ""
            },
            "colorscale": [
             [
              0,
              "#0d0887"
             ],
             [
              0.1111111111111111,
              "#46039f"
             ],
             [
              0.2222222222222222,
              "#7201a8"
             ],
             [
              0.3333333333333333,
              "#9c179e"
             ],
             [
              0.4444444444444444,
              "#bd3786"
             ],
             [
              0.5555555555555556,
              "#d8576b"
             ],
             [
              0.6666666666666666,
              "#ed7953"
             ],
             [
              0.7777777777777778,
              "#fb9f3a"
             ],
             [
              0.8888888888888888,
              "#fdca26"
             ],
             [
              1,
              "#f0f921"
             ]
            ],
            "type": "heatmap"
           }
          ],
          "heatmapgl": [
           {
            "colorbar": {
             "outlinewidth": 0,
             "ticks": ""
            },
            "colorscale": [
             [
              0,
              "#0d0887"
             ],
             [
              0.1111111111111111,
              "#46039f"
             ],
             [
              0.2222222222222222,
              "#7201a8"
             ],
             [
              0.3333333333333333,
              "#9c179e"
             ],
             [
              0.4444444444444444,
              "#bd3786"
             ],
             [
              0.5555555555555556,
              "#d8576b"
             ],
             [
              0.6666666666666666,
              "#ed7953"
             ],
             [
              0.7777777777777778,
              "#fb9f3a"
             ],
             [
              0.8888888888888888,
              "#fdca26"
             ],
             [
              1,
              "#f0f921"
             ]
            ],
            "type": "heatmapgl"
           }
          ],
          "histogram": [
           {
            "marker": {
             "pattern": {
              "fillmode": "overlay",
              "size": 10,
              "solidity": 0.2
             }
            },
            "type": "histogram"
           }
          ],
          "histogram2d": [
           {
            "colorbar": {
             "outlinewidth": 0,
             "ticks": ""
            },
            "colorscale": [
             [
              0,
              "#0d0887"
             ],
             [
              0.1111111111111111,
              "#46039f"
             ],
             [
              0.2222222222222222,
              "#7201a8"
             ],
             [
              0.3333333333333333,
              "#9c179e"
             ],
             [
              0.4444444444444444,
              "#bd3786"
             ],
             [
              0.5555555555555556,
              "#d8576b"
             ],
             [
              0.6666666666666666,
              "#ed7953"
             ],
             [
              0.7777777777777778,
              "#fb9f3a"
             ],
             [
              0.8888888888888888,
              "#fdca26"
             ],
             [
              1,
              "#f0f921"
             ]
            ],
            "type": "histogram2d"
           }
          ],
          "histogram2dcontour": [
           {
            "colorbar": {
             "outlinewidth": 0,
             "ticks": ""
            },
            "colorscale": [
             [
              0,
              "#0d0887"
             ],
             [
              0.1111111111111111,
              "#46039f"
             ],
             [
              0.2222222222222222,
              "#7201a8"
             ],
             [
              0.3333333333333333,
              "#9c179e"
             ],
             [
              0.4444444444444444,
              "#bd3786"
             ],
             [
              0.5555555555555556,
              "#d8576b"
             ],
             [
              0.6666666666666666,
              "#ed7953"
             ],
             [
              0.7777777777777778,
              "#fb9f3a"
             ],
             [
              0.8888888888888888,
              "#fdca26"
             ],
             [
              1,
              "#f0f921"
             ]
            ],
            "type": "histogram2dcontour"
           }
          ],
          "mesh3d": [
           {
            "colorbar": {
             "outlinewidth": 0,
             "ticks": ""
            },
            "type": "mesh3d"
           }
          ],
          "parcoords": [
           {
            "line": {
             "colorbar": {
              "outlinewidth": 0,
              "ticks": ""
             }
            },
            "type": "parcoords"
           }
          ],
          "pie": [
           {
            "automargin": true,
            "type": "pie"
           }
          ],
          "scatter": [
           {
            "fillpattern": {
             "fillmode": "overlay",
             "size": 10,
             "solidity": 0.2
            },
            "type": "scatter"
           }
          ],
          "scatter3d": [
           {
            "line": {
             "colorbar": {
              "outlinewidth": 0,
              "ticks": ""
             }
            },
            "marker": {
             "colorbar": {
              "outlinewidth": 0,
              "ticks": ""
             }
            },
            "type": "scatter3d"
           }
          ],
          "scattercarpet": [
           {
            "marker": {
             "colorbar": {
              "outlinewidth": 0,
              "ticks": ""
             }
            },
            "type": "scattercarpet"
           }
          ],
          "scattergeo": [
           {
            "marker": {
             "colorbar": {
              "outlinewidth": 0,
              "ticks": ""
             }
            },
            "type": "scattergeo"
           }
          ],
          "scattergl": [
           {
            "marker": {
             "colorbar": {
              "outlinewidth": 0,
              "ticks": ""
             }
            },
            "type": "scattergl"
           }
          ],
          "scattermapbox": [
           {
            "marker": {
             "colorbar": {
              "outlinewidth": 0,
              "ticks": ""
             }
            },
            "type": "scattermapbox"
           }
          ],
          "scatterpolar": [
           {
            "marker": {
             "colorbar": {
              "outlinewidth": 0,
              "ticks": ""
             }
            },
            "type": "scatterpolar"
           }
          ],
          "scatterpolargl": [
           {
            "marker": {
             "colorbar": {
              "outlinewidth": 0,
              "ticks": ""
             }
            },
            "type": "scatterpolargl"
           }
          ],
          "scatterternary": [
           {
            "marker": {
             "colorbar": {
              "outlinewidth": 0,
              "ticks": ""
             }
            },
            "type": "scatterternary"
           }
          ],
          "surface": [
           {
            "colorbar": {
             "outlinewidth": 0,
             "ticks": ""
            },
            "colorscale": [
             [
              0,
              "#0d0887"
             ],
             [
              0.1111111111111111,
              "#46039f"
             ],
             [
              0.2222222222222222,
              "#7201a8"
             ],
             [
              0.3333333333333333,
              "#9c179e"
             ],
             [
              0.4444444444444444,
              "#bd3786"
             ],
             [
              0.5555555555555556,
              "#d8576b"
             ],
             [
              0.6666666666666666,
              "#ed7953"
             ],
             [
              0.7777777777777778,
              "#fb9f3a"
             ],
             [
              0.8888888888888888,
              "#fdca26"
             ],
             [
              1,
              "#f0f921"
             ]
            ],
            "type": "surface"
           }
          ],
          "table": [
           {
            "cells": {
             "fill": {
              "color": "#EBF0F8"
             },
             "line": {
              "color": "white"
             }
            },
            "header": {
             "fill": {
              "color": "#C8D4E3"
             },
             "line": {
              "color": "white"
             }
            },
            "type": "table"
           }
          ]
         },
         "layout": {
          "annotationdefaults": {
           "arrowcolor": "#2a3f5f",
           "arrowhead": 0,
           "arrowwidth": 1
          },
          "autotypenumbers": "strict",
          "coloraxis": {
           "colorbar": {
            "outlinewidth": 0,
            "ticks": ""
           }
          },
          "colorscale": {
           "diverging": [
            [
             0,
             "#8e0152"
            ],
            [
             0.1,
             "#c51b7d"
            ],
            [
             0.2,
             "#de77ae"
            ],
            [
             0.3,
             "#f1b6da"
            ],
            [
             0.4,
             "#fde0ef"
            ],
            [
             0.5,
             "#f7f7f7"
            ],
            [
             0.6,
             "#e6f5d0"
            ],
            [
             0.7,
             "#b8e186"
            ],
            [
             0.8,
             "#7fbc41"
            ],
            [
             0.9,
             "#4d9221"
            ],
            [
             1,
             "#276419"
            ]
           ],
           "sequential": [
            [
             0,
             "#0d0887"
            ],
            [
             0.1111111111111111,
             "#46039f"
            ],
            [
             0.2222222222222222,
             "#7201a8"
            ],
            [
             0.3333333333333333,
             "#9c179e"
            ],
            [
             0.4444444444444444,
             "#bd3786"
            ],
            [
             0.5555555555555556,
             "#d8576b"
            ],
            [
             0.6666666666666666,
             "#ed7953"
            ],
            [
             0.7777777777777778,
             "#fb9f3a"
            ],
            [
             0.8888888888888888,
             "#fdca26"
            ],
            [
             1,
             "#f0f921"
            ]
           ],
           "sequentialminus": [
            [
             0,
             "#0d0887"
            ],
            [
             0.1111111111111111,
             "#46039f"
            ],
            [
             0.2222222222222222,
             "#7201a8"
            ],
            [
             0.3333333333333333,
             "#9c179e"
            ],
            [
             0.4444444444444444,
             "#bd3786"
            ],
            [
             0.5555555555555556,
             "#d8576b"
            ],
            [
             0.6666666666666666,
             "#ed7953"
            ],
            [
             0.7777777777777778,
             "#fb9f3a"
            ],
            [
             0.8888888888888888,
             "#fdca26"
            ],
            [
             1,
             "#f0f921"
            ]
           ]
          },
          "colorway": [
           "#636efa",
           "#EF553B",
           "#00cc96",
           "#ab63fa",
           "#FFA15A",
           "#19d3f3",
           "#FF6692",
           "#B6E880",
           "#FF97FF",
           "#FECB52"
          ],
          "font": {
           "color": "#2a3f5f"
          },
          "geo": {
           "bgcolor": "white",
           "lakecolor": "white",
           "landcolor": "#E5ECF6",
           "showlakes": true,
           "showland": true,
           "subunitcolor": "white"
          },
          "hoverlabel": {
           "align": "left"
          },
          "hovermode": "closest",
          "mapbox": {
           "style": "light"
          },
          "paper_bgcolor": "white",
          "plot_bgcolor": "#E5ECF6",
          "polar": {
           "angularaxis": {
            "gridcolor": "white",
            "linecolor": "white",
            "ticks": ""
           },
           "bgcolor": "#E5ECF6",
           "radialaxis": {
            "gridcolor": "white",
            "linecolor": "white",
            "ticks": ""
           }
          },
          "scene": {
           "xaxis": {
            "backgroundcolor": "#E5ECF6",
            "gridcolor": "white",
            "gridwidth": 2,
            "linecolor": "white",
            "showbackground": true,
            "ticks": "",
            "zerolinecolor": "white"
           },
           "yaxis": {
            "backgroundcolor": "#E5ECF6",
            "gridcolor": "white",
            "gridwidth": 2,
            "linecolor": "white",
            "showbackground": true,
            "ticks": "",
            "zerolinecolor": "white"
           },
           "zaxis": {
            "backgroundcolor": "#E5ECF6",
            "gridcolor": "white",
            "gridwidth": 2,
            "linecolor": "white",
            "showbackground": true,
            "ticks": "",
            "zerolinecolor": "white"
           }
          },
          "shapedefaults": {
           "line": {
            "color": "#2a3f5f"
           }
          },
          "ternary": {
           "aaxis": {
            "gridcolor": "white",
            "linecolor": "white",
            "ticks": ""
           },
           "baxis": {
            "gridcolor": "white",
            "linecolor": "white",
            "ticks": ""
           },
           "bgcolor": "#E5ECF6",
           "caxis": {
            "gridcolor": "white",
            "linecolor": "white",
            "ticks": ""
           }
          },
          "title": {
           "x": 0.05
          },
          "xaxis": {
           "automargin": true,
           "gridcolor": "white",
           "linecolor": "white",
           "ticks": "",
           "title": {
            "standoff": 15
           },
           "zerolinecolor": "white",
           "zerolinewidth": 2
          },
          "yaxis": {
           "automargin": true,
           "gridcolor": "white",
           "linecolor": "white",
           "ticks": "",
           "title": {
            "standoff": 15
           },
           "zerolinecolor": "white",
           "zerolinewidth": 2
          }
         }
        },
        "title": {
         "text": "World Map of Recoveries"
        }
       }
      },
      "text/html": [
       "<div>                            <div id=\"7b117f01-8da9-4e93-b7b9-9ca8d8e2f18c\" class=\"plotly-graph-div\" style=\"height:525px; width:100%;\"></div>            <script type=\"text/javascript\">                require([\"plotly\"], function(Plotly) {                    window.PLOTLYENV=window.PLOTLYENV || {};                                    if (document.getElementById(\"7b117f01-8da9-4e93-b7b9-9ca8d8e2f18c\")) {                    Plotly.newPlot(                        \"7b117f01-8da9-4e93-b7b9-9ca8d8e2f18c\",                        [{\"coloraxis\":\"coloraxis\",\"geo\":\"geo\",\"hovertemplate\":\"\\u003cb\\u003e%{hovertext}\\u003c\\u002fb\\u003e\\u003cbr\\u003e\\u003cbr\\u003eiso_a3=%{location}\\u003cbr\\u003eNumber of recoveries=%{z}\\u003cextra\\u003e\\u003c\\u002fextra\\u003e\",\"hovertext\":[\"Fiji\",\"Tanzania\",\"W. Sahara\",\"Canada\",\"United States of America\",\"Kazakhstan\",\"Uzbekistan\",\"Papua New Guinea\",\"Indonesia\",\"Argentina\",\"Chile\",\"Dem. Rep. Congo\",\"Somalia\",\"Kenya\",\"Sudan\",\"Chad\",\"Haiti\",\"Dominican Rep.\",\"Russia\",\"Bahamas\",\"Falkland Is.\",\"Norway\",\"Greenland\",\"Fr. S. Antarctic Lands\",\"Timor-Leste\",\"South Africa\",\"Lesotho\",\"Mexico\",\"Uruguay\",\"Brazil\",\"Bolivia\",\"Peru\",\"Colombia\",\"Panama\",\"Costa Rica\",\"Nicaragua\",\"Honduras\",\"El Salvador\",\"Guatemala\",\"Belize\",\"Venezuela\",\"Guyana\",\"Suriname\",\"France\",\"Ecuador\",\"Puerto Rico\",\"Jamaica\",\"Cuba\",\"Zimbabwe\",\"Botswana\",\"Namibia\",\"Senegal\",\"Mali\",\"Mauritania\",\"Benin\",\"Niger\",\"Nigeria\",\"Cameroon\",\"Togo\",\"Ghana\",\"C\\u00f4te d'Ivoire\",\"Guinea\",\"Guinea-Bissau\",\"Liberia\",\"Sierra Leone\",\"Burkina Faso\",\"Central African Rep.\",\"Congo\",\"Gabon\",\"Eq. Guinea\",\"Zambia\",\"Malawi\",\"Mozambique\",\"eSwatini\",\"Angola\",\"Burundi\",\"Israel\",\"Lebanon\",\"Madagascar\",\"Palestine\",\"Gambia\",\"Tunisia\",\"Algeria\",\"Jordan\",\"United Arab Emirates\",\"Qatar\",\"Kuwait\",\"Iraq\",\"Oman\",\"Vanuatu\",\"Cambodia\",\"Thailand\",\"Laos\",\"Myanmar\",\"Vietnam\",\"North Korea\",\"South Korea\",\"Mongolia\",\"India\",\"Bangladesh\",\"Bhutan\",\"Nepal\",\"Pakistan\",\"Afghanistan\",\"Tajikistan\",\"Kyrgyzstan\",\"Turkmenistan\",\"Iran\",\"Syria\",\"Armenia\",\"Sweden\",\"Belarus\",\"Ukraine\",\"Poland\",\"Austria\",\"Hungary\",\"Moldova\",\"Romania\",\"Lithuania\",\"Latvia\",\"Estonia\",\"Germany\",\"Bulgaria\",\"Greece\",\"Turkey\",\"Albania\",\"Croatia\",\"Switzerland\",\"Luxembourg\",\"Belgium\",\"Netherlands\",\"Portugal\",\"Spain\",\"Ireland\",\"New Caledonia\",\"Solomon Is.\",\"New Zealand\",\"Australia\",\"Sri Lanka\",\"China\",\"Taiwan\",\"Italy\",\"Denmark\",\"United Kingdom\",\"Iceland\",\"Azerbaijan\",\"Georgia\",\"Philippines\",\"Malaysia\",\"Brunei\",\"Slovenia\",\"Finland\",\"Slovakia\",\"Czechia\",\"Eritrea\",\"Japan\",\"Paraguay\",\"Yemen\",\"Saudi Arabia\",\"Antarctica\",\"N. Cyprus\",\"Cyprus\",\"Morocco\",\"Egypt\",\"Libya\",\"Ethiopia\",\"Djibouti\",\"Somaliland\",\"Uganda\",\"Rwanda\",\"Bosnia and Herz.\",\"North Macedonia\",\"Serbia\",\"Montenegro\",\"Kosovo\",\"Trinidad and Tobago\",\"S. Sudan\"],\"locations\":[\"FJI\",\"TZA\",\"ESH\",\"CAN\",\"USA\",\"KAZ\",\"UZB\",\"PNG\",\"IDN\",\"ARG\",\"CHL\",\"COD\",\"SOM\",\"KEN\",\"SDN\",\"TCD\",\"HTI\",\"DOM\",\"RUS\",\"BHS\",\"FLK\",\"NOR\",\"GRL\",\"ATF\",\"TLS\",\"ZAF\",\"LSO\",\"MEX\",\"URY\",\"BRA\",\"BOL\",\"PER\",\"COL\",\"PAN\",\"CRI\",\"NIC\",\"HND\",\"SLV\",\"GTM\",\"BLZ\",\"VEN\",\"GUY\",\"SUR\",\"FRA\",\"ECU\",\"PRI\",\"JAM\",\"CUB\",\"ZWE\",\"BWA\",\"NAM\",\"SEN\",\"MLI\",\"MRT\",\"BEN\",\"NER\",\"NGA\",\"CMR\",\"TGO\",\"GHA\",\"CIV\",\"GIN\",\"GNB\",\"LBR\",\"SLE\",\"BFA\",\"CAF\",\"COG\",\"GAB\",\"GNQ\",\"ZMB\",\"MWI\",\"MOZ\",\"SWZ\",\"AGO\",\"BDI\",\"ISR\",\"LBN\",\"MDG\",\"PSE\",\"GMB\",\"TUN\",\"DZA\",\"JOR\",\"ARE\",\"QAT\",\"KWT\",\"IRQ\",\"OMN\",\"VUT\",\"KHM\",\"THA\",\"LAO\",\"MMR\",\"VNM\",\"PRK\",\"KOR\",\"MNG\",\"IND\",\"BGD\",\"BTN\",\"NPL\",\"PAK\",\"AFG\",\"TJK\",\"KGZ\",\"TKM\",\"IRN\",\"SYR\",\"ARM\",\"SWE\",\"BLR\",\"UKR\",\"POL\",\"AUT\",\"HUN\",\"MDA\",\"ROU\",\"LTU\",\"LVA\",\"EST\",\"DEU\",\"BGR\",\"GRC\",\"TUR\",\"ALB\",\"HRV\",\"CHE\",\"LUX\",\"BEL\",\"NLD\",\"PRT\",\"ESP\",\"IRL\",\"NCL\",\"SLB\",\"NZL\",\"AUS\",\"LKA\",\"CHN\",\"TWN\",\"ITA\",\"DNK\",\"GBR\",\"ISL\",\"AZE\",\"GEO\",\"PHL\",\"MYS\",\"BRN\",\"SVN\",\"FIN\",\"SVK\",\"CZE\",\"ERI\",\"JPN\",\"PRY\",\"YEM\",\"SAU\",\"ATA\",\"CYN\",\"CYP\",\"MAR\",\"EGY\",\"LBY\",\"ETH\",\"DJI\",\"SOL\",\"UGA\",\"RWA\",\"BIH\",\"MKD\",\"SRB\",\"MNE\",\"-99\",\"TTO\",\"SSD\"],\"name\":\"\",\"z\":[18.0,183.0,null,0.0,null,54404.0,11674.0,11.0,58173.0,72575.0,319954.0,null,1543.0,7833.0,5939.0,810.0,4365.0,null,602249.0,91.0,null,8752.0,13.0,null,0.0,274925.0,128.0,303810.0,951.0,1846641.0,21478.0,272547.0,131161.0,35086.0,3824.0,2492.0,5039.0,7778.0,32455.0,26.0,9959.0,181.0,925.0,81212.0,34896.0,null,714.0,2351.0,542.0,63.0,101.0,6477.0,1913.0,4653.0,1036.0,1027.0,18203.0,14539.0,607.0,29801.0,null,6257.0,803.0,646.0,1317.0,926.0,null,null,4682.0,null,2815.0,1645.0,0.0,null,242.0,301.0,27133.0,1709.0,6260.0,null,66.0,1157.0,18837.0,1041.0,52510.0,106328.0,55057.0,77144.0,57028.0,null,147.0,3111.0,19.0,null,365.0,null,13007.0,222.0,951166.0,125683.0,86.0,13754.0,241026.0,25198.0,6028.0,21205.0,null,255144.0,0.0,26665.0,0.0,60492.0,37202.0,32856.0,18246.0,3329.0,16154.0,25794.0,1620.0,1045.0,1923.0,190314.0,5585.0,1374.0,210469.0,2745.0,3936.0,30900.0,4825.0,17452.0,189.0,35375.0,150376.0,23364.0,null,null,1514.0,9311.0,2121.0,78869.0,null,198593.0,12605.0,1437.0,1823.0,23242.0,922.0,26446.0,8601.0,138.0,1733.0,6920.0,1616.0,11428.0,191.0,21970.0,2905.0,833.0,222936.0,null,null,852.0,16553.0,34838.0,577.0,6386.0,4977.0,null,986.0,975.0,null,5564.0,0.0,809.0,4027.0,128.0,null],\"type\":\"choropleth\"}],                        {\"template\":{\"data\":{\"histogram2dcontour\":[{\"type\":\"histogram2dcontour\",\"colorbar\":{\"outlinewidth\":0,\"ticks\":\"\"},\"colorscale\":[[0.0,\"#0d0887\"],[0.1111111111111111,\"#46039f\"],[0.2222222222222222,\"#7201a8\"],[0.3333333333333333,\"#9c179e\"],[0.4444444444444444,\"#bd3786\"],[0.5555555555555556,\"#d8576b\"],[0.6666666666666666,\"#ed7953\"],[0.7777777777777778,\"#fb9f3a\"],[0.8888888888888888,\"#fdca26\"],[1.0,\"#f0f921\"]]}],\"choropleth\":[{\"type\":\"choropleth\",\"colorbar\":{\"outlinewidth\":0,\"ticks\":\"\"}}],\"histogram2d\":[{\"type\":\"histogram2d\",\"colorbar\":{\"outlinewidth\":0,\"ticks\":\"\"},\"colorscale\":[[0.0,\"#0d0887\"],[0.1111111111111111,\"#46039f\"],[0.2222222222222222,\"#7201a8\"],[0.3333333333333333,\"#9c179e\"],[0.4444444444444444,\"#bd3786\"],[0.5555555555555556,\"#d8576b\"],[0.6666666666666666,\"#ed7953\"],[0.7777777777777778,\"#fb9f3a\"],[0.8888888888888888,\"#fdca26\"],[1.0,\"#f0f921\"]]}],\"heatmap\":[{\"type\":\"heatmap\",\"colorbar\":{\"outlinewidth\":0,\"ticks\":\"\"},\"colorscale\":[[0.0,\"#0d0887\"],[0.1111111111111111,\"#46039f\"],[0.2222222222222222,\"#7201a8\"],[0.3333333333333333,\"#9c179e\"],[0.4444444444444444,\"#bd3786\"],[0.5555555555555556,\"#d8576b\"],[0.6666666666666666,\"#ed7953\"],[0.7777777777777778,\"#fb9f3a\"],[0.8888888888888888,\"#fdca26\"],[1.0,\"#f0f921\"]]}],\"heatmapgl\":[{\"type\":\"heatmapgl\",\"colorbar\":{\"outlinewidth\":0,\"ticks\":\"\"},\"colorscale\":[[0.0,\"#0d0887\"],[0.1111111111111111,\"#46039f\"],[0.2222222222222222,\"#7201a8\"],[0.3333333333333333,\"#9c179e\"],[0.4444444444444444,\"#bd3786\"],[0.5555555555555556,\"#d8576b\"],[0.6666666666666666,\"#ed7953\"],[0.7777777777777778,\"#fb9f3a\"],[0.8888888888888888,\"#fdca26\"],[1.0,\"#f0f921\"]]}],\"contourcarpet\":[{\"type\":\"contourcarpet\",\"colorbar\":{\"outlinewidth\":0,\"ticks\":\"\"}}],\"contour\":[{\"type\":\"contour\",\"colorbar\":{\"outlinewidth\":0,\"ticks\":\"\"},\"colorscale\":[[0.0,\"#0d0887\"],[0.1111111111111111,\"#46039f\"],[0.2222222222222222,\"#7201a8\"],[0.3333333333333333,\"#9c179e\"],[0.4444444444444444,\"#bd3786\"],[0.5555555555555556,\"#d8576b\"],[0.6666666666666666,\"#ed7953\"],[0.7777777777777778,\"#fb9f3a\"],[0.8888888888888888,\"#fdca26\"],[1.0,\"#f0f921\"]]}],\"surface\":[{\"type\":\"surface\",\"colorbar\":{\"outlinewidth\":0,\"ticks\":\"\"},\"colorscale\":[[0.0,\"#0d0887\"],[0.1111111111111111,\"#46039f\"],[0.2222222222222222,\"#7201a8\"],[0.3333333333333333,\"#9c179e\"],[0.4444444444444444,\"#bd3786\"],[0.5555555555555556,\"#d8576b\"],[0.6666666666666666,\"#ed7953\"],[0.7777777777777778,\"#fb9f3a\"],[0.8888888888888888,\"#fdca26\"],[1.0,\"#f0f921\"]]}],\"mesh3d\":[{\"type\":\"mesh3d\",\"colorbar\":{\"outlinewidth\":0,\"ticks\":\"\"}}],\"scatter\":[{\"fillpattern\":{\"fillmode\":\"overlay\",\"size\":10,\"solidity\":0.2},\"type\":\"scatter\"}],\"parcoords\":[{\"type\":\"parcoords\",\"line\":{\"colorbar\":{\"outlinewidth\":0,\"ticks\":\"\"}}}],\"scatterpolargl\":[{\"type\":\"scatterpolargl\",\"marker\":{\"colorbar\":{\"outlinewidth\":0,\"ticks\":\"\"}}}],\"bar\":[{\"error_x\":{\"color\":\"#2a3f5f\"},\"error_y\":{\"color\":\"#2a3f5f\"},\"marker\":{\"line\":{\"color\":\"#E5ECF6\",\"width\":0.5},\"pattern\":{\"fillmode\":\"overlay\",\"size\":10,\"solidity\":0.2}},\"type\":\"bar\"}],\"scattergeo\":[{\"type\":\"scattergeo\",\"marker\":{\"colorbar\":{\"outlinewidth\":0,\"ticks\":\"\"}}}],\"scatterpolar\":[{\"type\":\"scatterpolar\",\"marker\":{\"colorbar\":{\"outlinewidth\":0,\"ticks\":\"\"}}}],\"histogram\":[{\"marker\":{\"pattern\":{\"fillmode\":\"overlay\",\"size\":10,\"solidity\":0.2}},\"type\":\"histogram\"}],\"scattergl\":[{\"type\":\"scattergl\",\"marker\":{\"colorbar\":{\"outlinewidth\":0,\"ticks\":\"\"}}}],\"scatter3d\":[{\"type\":\"scatter3d\",\"line\":{\"colorbar\":{\"outlinewidth\":0,\"ticks\":\"\"}},\"marker\":{\"colorbar\":{\"outlinewidth\":0,\"ticks\":\"\"}}}],\"scattermapbox\":[{\"type\":\"scattermapbox\",\"marker\":{\"colorbar\":{\"outlinewidth\":0,\"ticks\":\"\"}}}],\"scatterternary\":[{\"type\":\"scatterternary\",\"marker\":{\"colorbar\":{\"outlinewidth\":0,\"ticks\":\"\"}}}],\"scattercarpet\":[{\"type\":\"scattercarpet\",\"marker\":{\"colorbar\":{\"outlinewidth\":0,\"ticks\":\"\"}}}],\"carpet\":[{\"aaxis\":{\"endlinecolor\":\"#2a3f5f\",\"gridcolor\":\"white\",\"linecolor\":\"white\",\"minorgridcolor\":\"white\",\"startlinecolor\":\"#2a3f5f\"},\"baxis\":{\"endlinecolor\":\"#2a3f5f\",\"gridcolor\":\"white\",\"linecolor\":\"white\",\"minorgridcolor\":\"white\",\"startlinecolor\":\"#2a3f5f\"},\"type\":\"carpet\"}],\"table\":[{\"cells\":{\"fill\":{\"color\":\"#EBF0F8\"},\"line\":{\"color\":\"white\"}},\"header\":{\"fill\":{\"color\":\"#C8D4E3\"},\"line\":{\"color\":\"white\"}},\"type\":\"table\"}],\"barpolar\":[{\"marker\":{\"line\":{\"color\":\"#E5ECF6\",\"width\":0.5},\"pattern\":{\"fillmode\":\"overlay\",\"size\":10,\"solidity\":0.2}},\"type\":\"barpolar\"}],\"pie\":[{\"automargin\":true,\"type\":\"pie\"}]},\"layout\":{\"autotypenumbers\":\"strict\",\"colorway\":[\"#636efa\",\"#EF553B\",\"#00cc96\",\"#ab63fa\",\"#FFA15A\",\"#19d3f3\",\"#FF6692\",\"#B6E880\",\"#FF97FF\",\"#FECB52\"],\"font\":{\"color\":\"#2a3f5f\"},\"hovermode\":\"closest\",\"hoverlabel\":{\"align\":\"left\"},\"paper_bgcolor\":\"white\",\"plot_bgcolor\":\"#E5ECF6\",\"polar\":{\"bgcolor\":\"#E5ECF6\",\"angularaxis\":{\"gridcolor\":\"white\",\"linecolor\":\"white\",\"ticks\":\"\"},\"radialaxis\":{\"gridcolor\":\"white\",\"linecolor\":\"white\",\"ticks\":\"\"}},\"ternary\":{\"bgcolor\":\"#E5ECF6\",\"aaxis\":{\"gridcolor\":\"white\",\"linecolor\":\"white\",\"ticks\":\"\"},\"baxis\":{\"gridcolor\":\"white\",\"linecolor\":\"white\",\"ticks\":\"\"},\"caxis\":{\"gridcolor\":\"white\",\"linecolor\":\"white\",\"ticks\":\"\"}},\"coloraxis\":{\"colorbar\":{\"outlinewidth\":0,\"ticks\":\"\"}},\"colorscale\":{\"sequential\":[[0.0,\"#0d0887\"],[0.1111111111111111,\"#46039f\"],[0.2222222222222222,\"#7201a8\"],[0.3333333333333333,\"#9c179e\"],[0.4444444444444444,\"#bd3786\"],[0.5555555555555556,\"#d8576b\"],[0.6666666666666666,\"#ed7953\"],[0.7777777777777778,\"#fb9f3a\"],[0.8888888888888888,\"#fdca26\"],[1.0,\"#f0f921\"]],\"sequentialminus\":[[0.0,\"#0d0887\"],[0.1111111111111111,\"#46039f\"],[0.2222222222222222,\"#7201a8\"],[0.3333333333333333,\"#9c179e\"],[0.4444444444444444,\"#bd3786\"],[0.5555555555555556,\"#d8576b\"],[0.6666666666666666,\"#ed7953\"],[0.7777777777777778,\"#fb9f3a\"],[0.8888888888888888,\"#fdca26\"],[1.0,\"#f0f921\"]],\"diverging\":[[0,\"#8e0152\"],[0.1,\"#c51b7d\"],[0.2,\"#de77ae\"],[0.3,\"#f1b6da\"],[0.4,\"#fde0ef\"],[0.5,\"#f7f7f7\"],[0.6,\"#e6f5d0\"],[0.7,\"#b8e186\"],[0.8,\"#7fbc41\"],[0.9,\"#4d9221\"],[1,\"#276419\"]]},\"xaxis\":{\"gridcolor\":\"white\",\"linecolor\":\"white\",\"ticks\":\"\",\"title\":{\"standoff\":15},\"zerolinecolor\":\"white\",\"automargin\":true,\"zerolinewidth\":2},\"yaxis\":{\"gridcolor\":\"white\",\"linecolor\":\"white\",\"ticks\":\"\",\"title\":{\"standoff\":15},\"zerolinecolor\":\"white\",\"automargin\":true,\"zerolinewidth\":2},\"scene\":{\"xaxis\":{\"backgroundcolor\":\"#E5ECF6\",\"gridcolor\":\"white\",\"linecolor\":\"white\",\"showbackground\":true,\"ticks\":\"\",\"zerolinecolor\":\"white\",\"gridwidth\":2},\"yaxis\":{\"backgroundcolor\":\"#E5ECF6\",\"gridcolor\":\"white\",\"linecolor\":\"white\",\"showbackground\":true,\"ticks\":\"\",\"zerolinecolor\":\"white\",\"gridwidth\":2},\"zaxis\":{\"backgroundcolor\":\"#E5ECF6\",\"gridcolor\":\"white\",\"linecolor\":\"white\",\"showbackground\":true,\"ticks\":\"\",\"zerolinecolor\":\"white\",\"gridwidth\":2}},\"shapedefaults\":{\"line\":{\"color\":\"#2a3f5f\"}},\"annotationdefaults\":{\"arrowcolor\":\"#2a3f5f\",\"arrowhead\":0,\"arrowwidth\":1},\"geo\":{\"bgcolor\":\"white\",\"landcolor\":\"#E5ECF6\",\"subunitcolor\":\"white\",\"showland\":true,\"showlakes\":true,\"lakecolor\":\"white\"},\"title\":{\"x\":0.05},\"mapbox\":{\"style\":\"light\"}}},\"geo\":{\"domain\":{\"x\":[0.0,1.0],\"y\":[0.0,1.0]},\"center\":{},\"projection\":{\"type\":\"natural earth\"},\"showcoastlines\":true,\"coastlinecolor\":\"Black\"},\"coloraxis\":{\"colorbar\":{\"title\":{\"text\":\"Number of recoveries\"}},\"colorscale\":[[0.0,\"rgb(3, 35, 51)\"],[0.09090909090909091,\"rgb(13, 48, 100)\"],[0.18181818181818182,\"rgb(53, 50, 155)\"],[0.2727272727272727,\"rgb(93, 62, 153)\"],[0.36363636363636365,\"rgb(126, 77, 143)\"],[0.45454545454545453,\"rgb(158, 89, 135)\"],[0.5454545454545454,\"rgb(193, 100, 121)\"],[0.6363636363636364,\"rgb(225, 113, 97)\"],[0.7272727272727273,\"rgb(246, 139, 69)\"],[0.8181818181818182,\"rgb(251, 173, 60)\"],[0.9090909090909091,\"rgb(246, 211, 70)\"],[1.0,\"rgb(231, 250, 90)\"]]},\"legend\":{\"tracegroupgap\":0},\"title\":{\"text\":\"World Map of Recoveries\"}},                        {\"responsive\": true}                    ).then(function(){\n",
       "                            \n",
       "var gd = document.getElementById('7b117f01-8da9-4e93-b7b9-9ca8d8e2f18c');\n",
       "var x = new MutationObserver(function (mutations, observer) {{\n",
       "        var display = window.getComputedStyle(gd).display;\n",
       "        if (!display || display === 'none') {{\n",
       "            console.log([gd, 'removed!']);\n",
       "            Plotly.purge(gd);\n",
       "            observer.disconnect();\n",
       "        }}\n",
       "}});\n",
       "\n",
       "// Listen for the removal of the full notebook cells\n",
       "var notebookContainer = gd.closest('#notebook-container');\n",
       "if (notebookContainer) {{\n",
       "    x.observe(notebookContainer, {childList: true});\n",
       "}}\n",
       "\n",
       "// Listen for the clearing of the current output cell\n",
       "var outputEl = gd.closest('.output');\n",
       "if (outputEl) {{\n",
       "    x.observe(outputEl, {childList: true});\n",
       "}}\n",
       "\n",
       "                        })                };                });            </script>        </div>"
      ]
     },
     "metadata": {},
     "output_type": "display_data"
    }
   ],
   "source": [
    "fig.update_geos(projection_type=\"natural earth\")  # Set map projection\n",
    "fig.update_layout(geo=dict(showcoastlines=True, coastlinecolor=\"Black\"))"
   ]
  },
  {
   "cell_type": "code",
   "execution_count": 78,
   "metadata": {},
   "outputs": [],
   "source": [
    "fig = px.choropleth(world, \n",
    "                    locations=\"iso_a3\",  # Use ISO country codes\n",
    "                    color=\"Deaths / 100 Recovered\",      # Color by the number of deaths\n",
    "                    hover_name=\"name\",   # Hover text shows country name\n",
    "                    color_continuous_scale=\"plasma\",  # Color scale\n",
    "                    title=\"World Map of death per 100 recovered\",\n",
    "                    labels={\"Deaths / 100 Recovered\": \"death / 100 recovered\"}\n",
    "                    )"
   ]
  },
  {
   "cell_type": "code",
   "execution_count": 79,
   "metadata": {},
   "outputs": [
    {
     "data": {
      "application/vnd.plotly.v1+json": {
       "config": {
        "plotlyServerURL": "https://plot.ly"
       },
       "data": [
        {
         "coloraxis": "coloraxis",
         "geo": "geo",
         "hovertemplate": "<b>%{hovertext}</b><br><br>iso_a3=%{location}<br>death / 100 recovered=%{z}<extra></extra>",
         "hovertext": [
          "Fiji",
          "Tanzania",
          "W. Sahara",
          "Canada",
          "United States of America",
          "Kazakhstan",
          "Uzbekistan",
          "Papua New Guinea",
          "Indonesia",
          "Argentina",
          "Chile",
          "Dem. Rep. Congo",
          "Somalia",
          "Kenya",
          "Sudan",
          "Chad",
          "Haiti",
          "Dominican Rep.",
          "Russia",
          "Bahamas",
          "Falkland Is.",
          "Norway",
          "Greenland",
          "Fr. S. Antarctic Lands",
          "Timor-Leste",
          "South Africa",
          "Lesotho",
          "Mexico",
          "Uruguay",
          "Brazil",
          "Bolivia",
          "Peru",
          "Colombia",
          "Panama",
          "Costa Rica",
          "Nicaragua",
          "Honduras",
          "El Salvador",
          "Guatemala",
          "Belize",
          "Venezuela",
          "Guyana",
          "Suriname",
          "France",
          "Ecuador",
          "Puerto Rico",
          "Jamaica",
          "Cuba",
          "Zimbabwe",
          "Botswana",
          "Namibia",
          "Senegal",
          "Mali",
          "Mauritania",
          "Benin",
          "Niger",
          "Nigeria",
          "Cameroon",
          "Togo",
          "Ghana",
          "Côte d'Ivoire",
          "Guinea",
          "Guinea-Bissau",
          "Liberia",
          "Sierra Leone",
          "Burkina Faso",
          "Central African Rep.",
          "Congo",
          "Gabon",
          "Eq. Guinea",
          "Zambia",
          "Malawi",
          "Mozambique",
          "eSwatini",
          "Angola",
          "Burundi",
          "Israel",
          "Lebanon",
          "Madagascar",
          "Palestine",
          "Gambia",
          "Tunisia",
          "Algeria",
          "Jordan",
          "United Arab Emirates",
          "Qatar",
          "Kuwait",
          "Iraq",
          "Oman",
          "Vanuatu",
          "Cambodia",
          "Thailand",
          "Laos",
          "Myanmar",
          "Vietnam",
          "North Korea",
          "South Korea",
          "Mongolia",
          "India",
          "Bangladesh",
          "Bhutan",
          "Nepal",
          "Pakistan",
          "Afghanistan",
          "Tajikistan",
          "Kyrgyzstan",
          "Turkmenistan",
          "Iran",
          "Syria",
          "Armenia",
          "Sweden",
          "Belarus",
          "Ukraine",
          "Poland",
          "Austria",
          "Hungary",
          "Moldova",
          "Romania",
          "Lithuania",
          "Latvia",
          "Estonia",
          "Germany",
          "Bulgaria",
          "Greece",
          "Turkey",
          "Albania",
          "Croatia",
          "Switzerland",
          "Luxembourg",
          "Belgium",
          "Netherlands",
          "Portugal",
          "Spain",
          "Ireland",
          "New Caledonia",
          "Solomon Is.",
          "New Zealand",
          "Australia",
          "Sri Lanka",
          "China",
          "Taiwan",
          "Italy",
          "Denmark",
          "United Kingdom",
          "Iceland",
          "Azerbaijan",
          "Georgia",
          "Philippines",
          "Malaysia",
          "Brunei",
          "Slovenia",
          "Finland",
          "Slovakia",
          "Czechia",
          "Eritrea",
          "Japan",
          "Paraguay",
          "Yemen",
          "Saudi Arabia",
          "Antarctica",
          "N. Cyprus",
          "Cyprus",
          "Morocco",
          "Egypt",
          "Libya",
          "Ethiopia",
          "Djibouti",
          "Somaliland",
          "Uganda",
          "Rwanda",
          "Bosnia and Herz.",
          "North Macedonia",
          "Serbia",
          "Montenegro",
          "Kosovo",
          "Trinidad and Tobago",
          "S. Sudan"
         ],
         "locations": [
          "FJI",
          "TZA",
          "ESH",
          "CAN",
          "USA",
          "KAZ",
          "UZB",
          "PNG",
          "IDN",
          "ARG",
          "CHL",
          "COD",
          "SOM",
          "KEN",
          "SDN",
          "TCD",
          "HTI",
          "DOM",
          "RUS",
          "BHS",
          "FLK",
          "NOR",
          "GRL",
          "ATF",
          "TLS",
          "ZAF",
          "LSO",
          "MEX",
          "URY",
          "BRA",
          "BOL",
          "PER",
          "COL",
          "PAN",
          "CRI",
          "NIC",
          "HND",
          "SLV",
          "GTM",
          "BLZ",
          "VEN",
          "GUY",
          "SUR",
          "FRA",
          "ECU",
          "PRI",
          "JAM",
          "CUB",
          "ZWE",
          "BWA",
          "NAM",
          "SEN",
          "MLI",
          "MRT",
          "BEN",
          "NER",
          "NGA",
          "CMR",
          "TGO",
          "GHA",
          "CIV",
          "GIN",
          "GNB",
          "LBR",
          "SLE",
          "BFA",
          "CAF",
          "COG",
          "GAB",
          "GNQ",
          "ZMB",
          "MWI",
          "MOZ",
          "SWZ",
          "AGO",
          "BDI",
          "ISR",
          "LBN",
          "MDG",
          "PSE",
          "GMB",
          "TUN",
          "DZA",
          "JOR",
          "ARE",
          "QAT",
          "KWT",
          "IRQ",
          "OMN",
          "VUT",
          "KHM",
          "THA",
          "LAO",
          "MMR",
          "VNM",
          "PRK",
          "KOR",
          "MNG",
          "IND",
          "BGD",
          "BTN",
          "NPL",
          "PAK",
          "AFG",
          "TJK",
          "KGZ",
          "TKM",
          "IRN",
          "SYR",
          "ARM",
          "SWE",
          "BLR",
          "UKR",
          "POL",
          "AUT",
          "HUN",
          "MDA",
          "ROU",
          "LTU",
          "LVA",
          "EST",
          "DEU",
          "BGR",
          "GRC",
          "TUR",
          "ALB",
          "HRV",
          "CHE",
          "LUX",
          "BEL",
          "NLD",
          "PRT",
          "ESP",
          "IRL",
          "NCL",
          "SLB",
          "NZL",
          "AUS",
          "LKA",
          "CHN",
          "TWN",
          "ITA",
          "DNK",
          "GBR",
          "ISL",
          "AZE",
          "GEO",
          "PHL",
          "MYS",
          "BRN",
          "SVN",
          "FIN",
          "SVK",
          "CZE",
          "ERI",
          "JPN",
          "PRY",
          "YEM",
          "SAU",
          "ATA",
          "CYN",
          "CYP",
          "MAR",
          "EGY",
          "LBY",
          "ETH",
          "DJI",
          "SOL",
          "UGA",
          "RWA",
          "BIH",
          "MKD",
          "SRB",
          "MNE",
          "-99",
          "TTO",
          "SSD"
         ],
         "name": "",
         "type": "choropleth",
         "z": [
          0,
          11.48,
          null,
          null,
          null,
          1.08,
          1.04,
          0,
          8.32,
          4.21,
          2.87,
          null,
          6.03,
          3.64,
          12.12,
          9.26,
          3.62,
          null,
          2.21,
          12.09,
          null,
          2.91,
          0,
          null,
          0,
          2.57,
          9.38,
          14.49,
          3.68,
          4.74,
          12.32,
          6.76,
          6.69,
          3.77,
          3.01,
          4.33,
          23.14,
          5.25,
          5.43,
          7.69,
          1.47,
          11.05,
          2.59,
          37.2,
          15.85,
          null,
          1.4,
          3.7,
          6.64,
          3.17,
          7.92,
          3,
          6.48,
          3.35,
          3.38,
          6.72,
          4.72,
          2.69,
          2.97,
          0.56,
          null,
          0.72,
          3.24,
          11.15,
          5.01,
          5.72,
          null,
          null,
          1.05,
          null,
          4.97,
          6.02,
          null,
          null,
          16.94,
          0.33,
          1.75,
          2.98,
          1.45,
          null,
          12.12,
          4.32,
          6.17,
          1.06,
          0.66,
          0.16,
          0.8,
          5.78,
          0.69,
          null,
          0,
          1.86,
          0,
          null,
          0,
          null,
          2.31,
          0,
          3.51,
          2.36,
          0,
          0.35,
          2.42,
          5.04,
          1,
          6.14,
          null,
          6.24,
          null,
          2.67,
          null,
          0.89,
          4.4,
          5.1,
          3.91,
          17.9,
          4.63,
          8.55,
          4.94,
          2.97,
          3.59,
          4.79,
          6.21,
          14.7,
          2.67,
          5.25,
          3.53,
          6.4,
          2.32,
          56.28,
          3259.26,
          4.86,
          18.91,
          7.55,
          null,
          null,
          1.45,
          1.79,
          0.52,
          5.9,
          null,
          17.68,
          4.86,
          3190.26,
          0.55,
          1.82,
          1.74,
          7.35,
          1.44,
          2.17,
          6.69,
          4.75,
          1.73,
          3.26,
          0,
          4.54,
          1.48,
          57.98,
          1.24,
          null,
          null,
          2.23,
          1.91,
          13.35,
          11.09,
          3.57,
          1.17,
          null,
          0.2,
          0.51,
          null,
          8.38,
          null,
          5.56,
          4.59,
          6.25,
          null
         ]
        }
       ],
       "layout": {
        "coloraxis": {
         "colorbar": {
          "title": {
           "text": "death / 100 recovered"
          }
         },
         "colorscale": [
          [
           0,
           "#0d0887"
          ],
          [
           0.1111111111111111,
           "#46039f"
          ],
          [
           0.2222222222222222,
           "#7201a8"
          ],
          [
           0.3333333333333333,
           "#9c179e"
          ],
          [
           0.4444444444444444,
           "#bd3786"
          ],
          [
           0.5555555555555556,
           "#d8576b"
          ],
          [
           0.6666666666666666,
           "#ed7953"
          ],
          [
           0.7777777777777778,
           "#fb9f3a"
          ],
          [
           0.8888888888888888,
           "#fdca26"
          ],
          [
           1,
           "#f0f921"
          ]
         ]
        },
        "geo": {
         "center": {},
         "coastlinecolor": "Black",
         "domain": {
          "x": [
           0,
           1
          ],
          "y": [
           0,
           1
          ]
         },
         "projection": {
          "type": "natural earth"
         },
         "showcoastlines": true
        },
        "legend": {
         "tracegroupgap": 0
        },
        "template": {
         "data": {
          "bar": [
           {
            "error_x": {
             "color": "#2a3f5f"
            },
            "error_y": {
             "color": "#2a3f5f"
            },
            "marker": {
             "line": {
              "color": "#E5ECF6",
              "width": 0.5
             },
             "pattern": {
              "fillmode": "overlay",
              "size": 10,
              "solidity": 0.2
             }
            },
            "type": "bar"
           }
          ],
          "barpolar": [
           {
            "marker": {
             "line": {
              "color": "#E5ECF6",
              "width": 0.5
             },
             "pattern": {
              "fillmode": "overlay",
              "size": 10,
              "solidity": 0.2
             }
            },
            "type": "barpolar"
           }
          ],
          "carpet": [
           {
            "aaxis": {
             "endlinecolor": "#2a3f5f",
             "gridcolor": "white",
             "linecolor": "white",
             "minorgridcolor": "white",
             "startlinecolor": "#2a3f5f"
            },
            "baxis": {
             "endlinecolor": "#2a3f5f",
             "gridcolor": "white",
             "linecolor": "white",
             "minorgridcolor": "white",
             "startlinecolor": "#2a3f5f"
            },
            "type": "carpet"
           }
          ],
          "choropleth": [
           {
            "colorbar": {
             "outlinewidth": 0,
             "ticks": ""
            },
            "type": "choropleth"
           }
          ],
          "contour": [
           {
            "colorbar": {
             "outlinewidth": 0,
             "ticks": ""
            },
            "colorscale": [
             [
              0,
              "#0d0887"
             ],
             [
              0.1111111111111111,
              "#46039f"
             ],
             [
              0.2222222222222222,
              "#7201a8"
             ],
             [
              0.3333333333333333,
              "#9c179e"
             ],
             [
              0.4444444444444444,
              "#bd3786"
             ],
             [
              0.5555555555555556,
              "#d8576b"
             ],
             [
              0.6666666666666666,
              "#ed7953"
             ],
             [
              0.7777777777777778,
              "#fb9f3a"
             ],
             [
              0.8888888888888888,
              "#fdca26"
             ],
             [
              1,
              "#f0f921"
             ]
            ],
            "type": "contour"
           }
          ],
          "contourcarpet": [
           {
            "colorbar": {
             "outlinewidth": 0,
             "ticks": ""
            },
            "type": "contourcarpet"
           }
          ],
          "heatmap": [
           {
            "colorbar": {
             "outlinewidth": 0,
             "ticks": ""
            },
            "colorscale": [
             [
              0,
              "#0d0887"
             ],
             [
              0.1111111111111111,
              "#46039f"
             ],
             [
              0.2222222222222222,
              "#7201a8"
             ],
             [
              0.3333333333333333,
              "#9c179e"
             ],
             [
              0.4444444444444444,
              "#bd3786"
             ],
             [
              0.5555555555555556,
              "#d8576b"
             ],
             [
              0.6666666666666666,
              "#ed7953"
             ],
             [
              0.7777777777777778,
              "#fb9f3a"
             ],
             [
              0.8888888888888888,
              "#fdca26"
             ],
             [
              1,
              "#f0f921"
             ]
            ],
            "type": "heatmap"
           }
          ],
          "heatmapgl": [
           {
            "colorbar": {
             "outlinewidth": 0,
             "ticks": ""
            },
            "colorscale": [
             [
              0,
              "#0d0887"
             ],
             [
              0.1111111111111111,
              "#46039f"
             ],
             [
              0.2222222222222222,
              "#7201a8"
             ],
             [
              0.3333333333333333,
              "#9c179e"
             ],
             [
              0.4444444444444444,
              "#bd3786"
             ],
             [
              0.5555555555555556,
              "#d8576b"
             ],
             [
              0.6666666666666666,
              "#ed7953"
             ],
             [
              0.7777777777777778,
              "#fb9f3a"
             ],
             [
              0.8888888888888888,
              "#fdca26"
             ],
             [
              1,
              "#f0f921"
             ]
            ],
            "type": "heatmapgl"
           }
          ],
          "histogram": [
           {
            "marker": {
             "pattern": {
              "fillmode": "overlay",
              "size": 10,
              "solidity": 0.2
             }
            },
            "type": "histogram"
           }
          ],
          "histogram2d": [
           {
            "colorbar": {
             "outlinewidth": 0,
             "ticks": ""
            },
            "colorscale": [
             [
              0,
              "#0d0887"
             ],
             [
              0.1111111111111111,
              "#46039f"
             ],
             [
              0.2222222222222222,
              "#7201a8"
             ],
             [
              0.3333333333333333,
              "#9c179e"
             ],
             [
              0.4444444444444444,
              "#bd3786"
             ],
             [
              0.5555555555555556,
              "#d8576b"
             ],
             [
              0.6666666666666666,
              "#ed7953"
             ],
             [
              0.7777777777777778,
              "#fb9f3a"
             ],
             [
              0.8888888888888888,
              "#fdca26"
             ],
             [
              1,
              "#f0f921"
             ]
            ],
            "type": "histogram2d"
           }
          ],
          "histogram2dcontour": [
           {
            "colorbar": {
             "outlinewidth": 0,
             "ticks": ""
            },
            "colorscale": [
             [
              0,
              "#0d0887"
             ],
             [
              0.1111111111111111,
              "#46039f"
             ],
             [
              0.2222222222222222,
              "#7201a8"
             ],
             [
              0.3333333333333333,
              "#9c179e"
             ],
             [
              0.4444444444444444,
              "#bd3786"
             ],
             [
              0.5555555555555556,
              "#d8576b"
             ],
             [
              0.6666666666666666,
              "#ed7953"
             ],
             [
              0.7777777777777778,
              "#fb9f3a"
             ],
             [
              0.8888888888888888,
              "#fdca26"
             ],
             [
              1,
              "#f0f921"
             ]
            ],
            "type": "histogram2dcontour"
           }
          ],
          "mesh3d": [
           {
            "colorbar": {
             "outlinewidth": 0,
             "ticks": ""
            },
            "type": "mesh3d"
           }
          ],
          "parcoords": [
           {
            "line": {
             "colorbar": {
              "outlinewidth": 0,
              "ticks": ""
             }
            },
            "type": "parcoords"
           }
          ],
          "pie": [
           {
            "automargin": true,
            "type": "pie"
           }
          ],
          "scatter": [
           {
            "fillpattern": {
             "fillmode": "overlay",
             "size": 10,
             "solidity": 0.2
            },
            "type": "scatter"
           }
          ],
          "scatter3d": [
           {
            "line": {
             "colorbar": {
              "outlinewidth": 0,
              "ticks": ""
             }
            },
            "marker": {
             "colorbar": {
              "outlinewidth": 0,
              "ticks": ""
             }
            },
            "type": "scatter3d"
           }
          ],
          "scattercarpet": [
           {
            "marker": {
             "colorbar": {
              "outlinewidth": 0,
              "ticks": ""
             }
            },
            "type": "scattercarpet"
           }
          ],
          "scattergeo": [
           {
            "marker": {
             "colorbar": {
              "outlinewidth": 0,
              "ticks": ""
             }
            },
            "type": "scattergeo"
           }
          ],
          "scattergl": [
           {
            "marker": {
             "colorbar": {
              "outlinewidth": 0,
              "ticks": ""
             }
            },
            "type": "scattergl"
           }
          ],
          "scattermapbox": [
           {
            "marker": {
             "colorbar": {
              "outlinewidth": 0,
              "ticks": ""
             }
            },
            "type": "scattermapbox"
           }
          ],
          "scatterpolar": [
           {
            "marker": {
             "colorbar": {
              "outlinewidth": 0,
              "ticks": ""
             }
            },
            "type": "scatterpolar"
           }
          ],
          "scatterpolargl": [
           {
            "marker": {
             "colorbar": {
              "outlinewidth": 0,
              "ticks": ""
             }
            },
            "type": "scatterpolargl"
           }
          ],
          "scatterternary": [
           {
            "marker": {
             "colorbar": {
              "outlinewidth": 0,
              "ticks": ""
             }
            },
            "type": "scatterternary"
           }
          ],
          "surface": [
           {
            "colorbar": {
             "outlinewidth": 0,
             "ticks": ""
            },
            "colorscale": [
             [
              0,
              "#0d0887"
             ],
             [
              0.1111111111111111,
              "#46039f"
             ],
             [
              0.2222222222222222,
              "#7201a8"
             ],
             [
              0.3333333333333333,
              "#9c179e"
             ],
             [
              0.4444444444444444,
              "#bd3786"
             ],
             [
              0.5555555555555556,
              "#d8576b"
             ],
             [
              0.6666666666666666,
              "#ed7953"
             ],
             [
              0.7777777777777778,
              "#fb9f3a"
             ],
             [
              0.8888888888888888,
              "#fdca26"
             ],
             [
              1,
              "#f0f921"
             ]
            ],
            "type": "surface"
           }
          ],
          "table": [
           {
            "cells": {
             "fill": {
              "color": "#EBF0F8"
             },
             "line": {
              "color": "white"
             }
            },
            "header": {
             "fill": {
              "color": "#C8D4E3"
             },
             "line": {
              "color": "white"
             }
            },
            "type": "table"
           }
          ]
         },
         "layout": {
          "annotationdefaults": {
           "arrowcolor": "#2a3f5f",
           "arrowhead": 0,
           "arrowwidth": 1
          },
          "autotypenumbers": "strict",
          "coloraxis": {
           "colorbar": {
            "outlinewidth": 0,
            "ticks": ""
           }
          },
          "colorscale": {
           "diverging": [
            [
             0,
             "#8e0152"
            ],
            [
             0.1,
             "#c51b7d"
            ],
            [
             0.2,
             "#de77ae"
            ],
            [
             0.3,
             "#f1b6da"
            ],
            [
             0.4,
             "#fde0ef"
            ],
            [
             0.5,
             "#f7f7f7"
            ],
            [
             0.6,
             "#e6f5d0"
            ],
            [
             0.7,
             "#b8e186"
            ],
            [
             0.8,
             "#7fbc41"
            ],
            [
             0.9,
             "#4d9221"
            ],
            [
             1,
             "#276419"
            ]
           ],
           "sequential": [
            [
             0,
             "#0d0887"
            ],
            [
             0.1111111111111111,
             "#46039f"
            ],
            [
             0.2222222222222222,
             "#7201a8"
            ],
            [
             0.3333333333333333,
             "#9c179e"
            ],
            [
             0.4444444444444444,
             "#bd3786"
            ],
            [
             0.5555555555555556,
             "#d8576b"
            ],
            [
             0.6666666666666666,
             "#ed7953"
            ],
            [
             0.7777777777777778,
             "#fb9f3a"
            ],
            [
             0.8888888888888888,
             "#fdca26"
            ],
            [
             1,
             "#f0f921"
            ]
           ],
           "sequentialminus": [
            [
             0,
             "#0d0887"
            ],
            [
             0.1111111111111111,
             "#46039f"
            ],
            [
             0.2222222222222222,
             "#7201a8"
            ],
            [
             0.3333333333333333,
             "#9c179e"
            ],
            [
             0.4444444444444444,
             "#bd3786"
            ],
            [
             0.5555555555555556,
             "#d8576b"
            ],
            [
             0.6666666666666666,
             "#ed7953"
            ],
            [
             0.7777777777777778,
             "#fb9f3a"
            ],
            [
             0.8888888888888888,
             "#fdca26"
            ],
            [
             1,
             "#f0f921"
            ]
           ]
          },
          "colorway": [
           "#636efa",
           "#EF553B",
           "#00cc96",
           "#ab63fa",
           "#FFA15A",
           "#19d3f3",
           "#FF6692",
           "#B6E880",
           "#FF97FF",
           "#FECB52"
          ],
          "font": {
           "color": "#2a3f5f"
          },
          "geo": {
           "bgcolor": "white",
           "lakecolor": "white",
           "landcolor": "#E5ECF6",
           "showlakes": true,
           "showland": true,
           "subunitcolor": "white"
          },
          "hoverlabel": {
           "align": "left"
          },
          "hovermode": "closest",
          "mapbox": {
           "style": "light"
          },
          "paper_bgcolor": "white",
          "plot_bgcolor": "#E5ECF6",
          "polar": {
           "angularaxis": {
            "gridcolor": "white",
            "linecolor": "white",
            "ticks": ""
           },
           "bgcolor": "#E5ECF6",
           "radialaxis": {
            "gridcolor": "white",
            "linecolor": "white",
            "ticks": ""
           }
          },
          "scene": {
           "xaxis": {
            "backgroundcolor": "#E5ECF6",
            "gridcolor": "white",
            "gridwidth": 2,
            "linecolor": "white",
            "showbackground": true,
            "ticks": "",
            "zerolinecolor": "white"
           },
           "yaxis": {
            "backgroundcolor": "#E5ECF6",
            "gridcolor": "white",
            "gridwidth": 2,
            "linecolor": "white",
            "showbackground": true,
            "ticks": "",
            "zerolinecolor": "white"
           },
           "zaxis": {
            "backgroundcolor": "#E5ECF6",
            "gridcolor": "white",
            "gridwidth": 2,
            "linecolor": "white",
            "showbackground": true,
            "ticks": "",
            "zerolinecolor": "white"
           }
          },
          "shapedefaults": {
           "line": {
            "color": "#2a3f5f"
           }
          },
          "ternary": {
           "aaxis": {
            "gridcolor": "white",
            "linecolor": "white",
            "ticks": ""
           },
           "baxis": {
            "gridcolor": "white",
            "linecolor": "white",
            "ticks": ""
           },
           "bgcolor": "#E5ECF6",
           "caxis": {
            "gridcolor": "white",
            "linecolor": "white",
            "ticks": ""
           }
          },
          "title": {
           "x": 0.05
          },
          "xaxis": {
           "automargin": true,
           "gridcolor": "white",
           "linecolor": "white",
           "ticks": "",
           "title": {
            "standoff": 15
           },
           "zerolinecolor": "white",
           "zerolinewidth": 2
          },
          "yaxis": {
           "automargin": true,
           "gridcolor": "white",
           "linecolor": "white",
           "ticks": "",
           "title": {
            "standoff": 15
           },
           "zerolinecolor": "white",
           "zerolinewidth": 2
          }
         }
        },
        "title": {
         "text": "World Map of death per 100 recovered"
        }
       }
      },
      "text/html": [
       "<div>                            <div id=\"e6833a6e-44e5-4451-a89c-c835ee3ce52c\" class=\"plotly-graph-div\" style=\"height:525px; width:100%;\"></div>            <script type=\"text/javascript\">                require([\"plotly\"], function(Plotly) {                    window.PLOTLYENV=window.PLOTLYENV || {};                                    if (document.getElementById(\"e6833a6e-44e5-4451-a89c-c835ee3ce52c\")) {                    Plotly.newPlot(                        \"e6833a6e-44e5-4451-a89c-c835ee3ce52c\",                        [{\"coloraxis\":\"coloraxis\",\"geo\":\"geo\",\"hovertemplate\":\"\\u003cb\\u003e%{hovertext}\\u003c\\u002fb\\u003e\\u003cbr\\u003e\\u003cbr\\u003eiso_a3=%{location}\\u003cbr\\u003edeath \\u002f 100 recovered=%{z}\\u003cextra\\u003e\\u003c\\u002fextra\\u003e\",\"hovertext\":[\"Fiji\",\"Tanzania\",\"W. Sahara\",\"Canada\",\"United States of America\",\"Kazakhstan\",\"Uzbekistan\",\"Papua New Guinea\",\"Indonesia\",\"Argentina\",\"Chile\",\"Dem. Rep. Congo\",\"Somalia\",\"Kenya\",\"Sudan\",\"Chad\",\"Haiti\",\"Dominican Rep.\",\"Russia\",\"Bahamas\",\"Falkland Is.\",\"Norway\",\"Greenland\",\"Fr. S. Antarctic Lands\",\"Timor-Leste\",\"South Africa\",\"Lesotho\",\"Mexico\",\"Uruguay\",\"Brazil\",\"Bolivia\",\"Peru\",\"Colombia\",\"Panama\",\"Costa Rica\",\"Nicaragua\",\"Honduras\",\"El Salvador\",\"Guatemala\",\"Belize\",\"Venezuela\",\"Guyana\",\"Suriname\",\"France\",\"Ecuador\",\"Puerto Rico\",\"Jamaica\",\"Cuba\",\"Zimbabwe\",\"Botswana\",\"Namibia\",\"Senegal\",\"Mali\",\"Mauritania\",\"Benin\",\"Niger\",\"Nigeria\",\"Cameroon\",\"Togo\",\"Ghana\",\"C\\u00f4te d'Ivoire\",\"Guinea\",\"Guinea-Bissau\",\"Liberia\",\"Sierra Leone\",\"Burkina Faso\",\"Central African Rep.\",\"Congo\",\"Gabon\",\"Eq. Guinea\",\"Zambia\",\"Malawi\",\"Mozambique\",\"eSwatini\",\"Angola\",\"Burundi\",\"Israel\",\"Lebanon\",\"Madagascar\",\"Palestine\",\"Gambia\",\"Tunisia\",\"Algeria\",\"Jordan\",\"United Arab Emirates\",\"Qatar\",\"Kuwait\",\"Iraq\",\"Oman\",\"Vanuatu\",\"Cambodia\",\"Thailand\",\"Laos\",\"Myanmar\",\"Vietnam\",\"North Korea\",\"South Korea\",\"Mongolia\",\"India\",\"Bangladesh\",\"Bhutan\",\"Nepal\",\"Pakistan\",\"Afghanistan\",\"Tajikistan\",\"Kyrgyzstan\",\"Turkmenistan\",\"Iran\",\"Syria\",\"Armenia\",\"Sweden\",\"Belarus\",\"Ukraine\",\"Poland\",\"Austria\",\"Hungary\",\"Moldova\",\"Romania\",\"Lithuania\",\"Latvia\",\"Estonia\",\"Germany\",\"Bulgaria\",\"Greece\",\"Turkey\",\"Albania\",\"Croatia\",\"Switzerland\",\"Luxembourg\",\"Belgium\",\"Netherlands\",\"Portugal\",\"Spain\",\"Ireland\",\"New Caledonia\",\"Solomon Is.\",\"New Zealand\",\"Australia\",\"Sri Lanka\",\"China\",\"Taiwan\",\"Italy\",\"Denmark\",\"United Kingdom\",\"Iceland\",\"Azerbaijan\",\"Georgia\",\"Philippines\",\"Malaysia\",\"Brunei\",\"Slovenia\",\"Finland\",\"Slovakia\",\"Czechia\",\"Eritrea\",\"Japan\",\"Paraguay\",\"Yemen\",\"Saudi Arabia\",\"Antarctica\",\"N. Cyprus\",\"Cyprus\",\"Morocco\",\"Egypt\",\"Libya\",\"Ethiopia\",\"Djibouti\",\"Somaliland\",\"Uganda\",\"Rwanda\",\"Bosnia and Herz.\",\"North Macedonia\",\"Serbia\",\"Montenegro\",\"Kosovo\",\"Trinidad and Tobago\",\"S. Sudan\"],\"locations\":[\"FJI\",\"TZA\",\"ESH\",\"CAN\",\"USA\",\"KAZ\",\"UZB\",\"PNG\",\"IDN\",\"ARG\",\"CHL\",\"COD\",\"SOM\",\"KEN\",\"SDN\",\"TCD\",\"HTI\",\"DOM\",\"RUS\",\"BHS\",\"FLK\",\"NOR\",\"GRL\",\"ATF\",\"TLS\",\"ZAF\",\"LSO\",\"MEX\",\"URY\",\"BRA\",\"BOL\",\"PER\",\"COL\",\"PAN\",\"CRI\",\"NIC\",\"HND\",\"SLV\",\"GTM\",\"BLZ\",\"VEN\",\"GUY\",\"SUR\",\"FRA\",\"ECU\",\"PRI\",\"JAM\",\"CUB\",\"ZWE\",\"BWA\",\"NAM\",\"SEN\",\"MLI\",\"MRT\",\"BEN\",\"NER\",\"NGA\",\"CMR\",\"TGO\",\"GHA\",\"CIV\",\"GIN\",\"GNB\",\"LBR\",\"SLE\",\"BFA\",\"CAF\",\"COG\",\"GAB\",\"GNQ\",\"ZMB\",\"MWI\",\"MOZ\",\"SWZ\",\"AGO\",\"BDI\",\"ISR\",\"LBN\",\"MDG\",\"PSE\",\"GMB\",\"TUN\",\"DZA\",\"JOR\",\"ARE\",\"QAT\",\"KWT\",\"IRQ\",\"OMN\",\"VUT\",\"KHM\",\"THA\",\"LAO\",\"MMR\",\"VNM\",\"PRK\",\"KOR\",\"MNG\",\"IND\",\"BGD\",\"BTN\",\"NPL\",\"PAK\",\"AFG\",\"TJK\",\"KGZ\",\"TKM\",\"IRN\",\"SYR\",\"ARM\",\"SWE\",\"BLR\",\"UKR\",\"POL\",\"AUT\",\"HUN\",\"MDA\",\"ROU\",\"LTU\",\"LVA\",\"EST\",\"DEU\",\"BGR\",\"GRC\",\"TUR\",\"ALB\",\"HRV\",\"CHE\",\"LUX\",\"BEL\",\"NLD\",\"PRT\",\"ESP\",\"IRL\",\"NCL\",\"SLB\",\"NZL\",\"AUS\",\"LKA\",\"CHN\",\"TWN\",\"ITA\",\"DNK\",\"GBR\",\"ISL\",\"AZE\",\"GEO\",\"PHL\",\"MYS\",\"BRN\",\"SVN\",\"FIN\",\"SVK\",\"CZE\",\"ERI\",\"JPN\",\"PRY\",\"YEM\",\"SAU\",\"ATA\",\"CYN\",\"CYP\",\"MAR\",\"EGY\",\"LBY\",\"ETH\",\"DJI\",\"SOL\",\"UGA\",\"RWA\",\"BIH\",\"MKD\",\"SRB\",\"MNE\",\"-99\",\"TTO\",\"SSD\"],\"name\":\"\",\"z\":[0.0,11.48,null,null,null,1.08,1.04,0.0,8.32,4.21,2.87,null,6.03,3.64,12.12,9.26,3.62,null,2.21,12.09,null,2.91,0.0,null,0.0,2.57,9.38,14.49,3.68,4.74,12.32,6.76,6.69,3.77,3.01,4.33,23.14,5.25,5.43,7.69,1.47,11.05,2.59,37.2,15.85,null,1.4,3.7,6.64,3.17,7.92,3.0,6.48,3.35,3.38,6.72,4.72,2.69,2.97,0.56,null,0.72,3.24,11.15,5.01,5.72,null,null,1.05,null,4.97,6.02,null,null,16.94,0.33,1.75,2.98,1.45,null,12.12,4.32,6.17,1.06,0.66,0.16,0.8,5.78,0.69,null,0.0,1.86,0.0,null,0.0,null,2.31,0.0,3.51,2.36,0.0,0.35,2.42,5.04,1.0,6.14,null,6.24,null,2.67,null,0.89,4.4,5.1,3.91,17.9,4.63,8.55,4.94,2.97,3.59,4.79,6.21,14.7,2.67,5.25,3.53,6.4,2.32,56.28,3259.26,4.86,18.91,7.55,null,null,1.45,1.79,0.52,5.9,null,17.68,4.86,3190.26,0.55,1.82,1.74,7.35,1.44,2.17,6.69,4.75,1.73,3.26,0.0,4.54,1.48,57.98,1.24,null,null,2.23,1.91,13.35,11.09,3.57,1.17,null,0.2,0.51,null,8.38,null,5.56,4.59,6.25,null],\"type\":\"choropleth\"}],                        {\"template\":{\"data\":{\"histogram2dcontour\":[{\"type\":\"histogram2dcontour\",\"colorbar\":{\"outlinewidth\":0,\"ticks\":\"\"},\"colorscale\":[[0.0,\"#0d0887\"],[0.1111111111111111,\"#46039f\"],[0.2222222222222222,\"#7201a8\"],[0.3333333333333333,\"#9c179e\"],[0.4444444444444444,\"#bd3786\"],[0.5555555555555556,\"#d8576b\"],[0.6666666666666666,\"#ed7953\"],[0.7777777777777778,\"#fb9f3a\"],[0.8888888888888888,\"#fdca26\"],[1.0,\"#f0f921\"]]}],\"choropleth\":[{\"type\":\"choropleth\",\"colorbar\":{\"outlinewidth\":0,\"ticks\":\"\"}}],\"histogram2d\":[{\"type\":\"histogram2d\",\"colorbar\":{\"outlinewidth\":0,\"ticks\":\"\"},\"colorscale\":[[0.0,\"#0d0887\"],[0.1111111111111111,\"#46039f\"],[0.2222222222222222,\"#7201a8\"],[0.3333333333333333,\"#9c179e\"],[0.4444444444444444,\"#bd3786\"],[0.5555555555555556,\"#d8576b\"],[0.6666666666666666,\"#ed7953\"],[0.7777777777777778,\"#fb9f3a\"],[0.8888888888888888,\"#fdca26\"],[1.0,\"#f0f921\"]]}],\"heatmap\":[{\"type\":\"heatmap\",\"colorbar\":{\"outlinewidth\":0,\"ticks\":\"\"},\"colorscale\":[[0.0,\"#0d0887\"],[0.1111111111111111,\"#46039f\"],[0.2222222222222222,\"#7201a8\"],[0.3333333333333333,\"#9c179e\"],[0.4444444444444444,\"#bd3786\"],[0.5555555555555556,\"#d8576b\"],[0.6666666666666666,\"#ed7953\"],[0.7777777777777778,\"#fb9f3a\"],[0.8888888888888888,\"#fdca26\"],[1.0,\"#f0f921\"]]}],\"heatmapgl\":[{\"type\":\"heatmapgl\",\"colorbar\":{\"outlinewidth\":0,\"ticks\":\"\"},\"colorscale\":[[0.0,\"#0d0887\"],[0.1111111111111111,\"#46039f\"],[0.2222222222222222,\"#7201a8\"],[0.3333333333333333,\"#9c179e\"],[0.4444444444444444,\"#bd3786\"],[0.5555555555555556,\"#d8576b\"],[0.6666666666666666,\"#ed7953\"],[0.7777777777777778,\"#fb9f3a\"],[0.8888888888888888,\"#fdca26\"],[1.0,\"#f0f921\"]]}],\"contourcarpet\":[{\"type\":\"contourcarpet\",\"colorbar\":{\"outlinewidth\":0,\"ticks\":\"\"}}],\"contour\":[{\"type\":\"contour\",\"colorbar\":{\"outlinewidth\":0,\"ticks\":\"\"},\"colorscale\":[[0.0,\"#0d0887\"],[0.1111111111111111,\"#46039f\"],[0.2222222222222222,\"#7201a8\"],[0.3333333333333333,\"#9c179e\"],[0.4444444444444444,\"#bd3786\"],[0.5555555555555556,\"#d8576b\"],[0.6666666666666666,\"#ed7953\"],[0.7777777777777778,\"#fb9f3a\"],[0.8888888888888888,\"#fdca26\"],[1.0,\"#f0f921\"]]}],\"surface\":[{\"type\":\"surface\",\"colorbar\":{\"outlinewidth\":0,\"ticks\":\"\"},\"colorscale\":[[0.0,\"#0d0887\"],[0.1111111111111111,\"#46039f\"],[0.2222222222222222,\"#7201a8\"],[0.3333333333333333,\"#9c179e\"],[0.4444444444444444,\"#bd3786\"],[0.5555555555555556,\"#d8576b\"],[0.6666666666666666,\"#ed7953\"],[0.7777777777777778,\"#fb9f3a\"],[0.8888888888888888,\"#fdca26\"],[1.0,\"#f0f921\"]]}],\"mesh3d\":[{\"type\":\"mesh3d\",\"colorbar\":{\"outlinewidth\":0,\"ticks\":\"\"}}],\"scatter\":[{\"fillpattern\":{\"fillmode\":\"overlay\",\"size\":10,\"solidity\":0.2},\"type\":\"scatter\"}],\"parcoords\":[{\"type\":\"parcoords\",\"line\":{\"colorbar\":{\"outlinewidth\":0,\"ticks\":\"\"}}}],\"scatterpolargl\":[{\"type\":\"scatterpolargl\",\"marker\":{\"colorbar\":{\"outlinewidth\":0,\"ticks\":\"\"}}}],\"bar\":[{\"error_x\":{\"color\":\"#2a3f5f\"},\"error_y\":{\"color\":\"#2a3f5f\"},\"marker\":{\"line\":{\"color\":\"#E5ECF6\",\"width\":0.5},\"pattern\":{\"fillmode\":\"overlay\",\"size\":10,\"solidity\":0.2}},\"type\":\"bar\"}],\"scattergeo\":[{\"type\":\"scattergeo\",\"marker\":{\"colorbar\":{\"outlinewidth\":0,\"ticks\":\"\"}}}],\"scatterpolar\":[{\"type\":\"scatterpolar\",\"marker\":{\"colorbar\":{\"outlinewidth\":0,\"ticks\":\"\"}}}],\"histogram\":[{\"marker\":{\"pattern\":{\"fillmode\":\"overlay\",\"size\":10,\"solidity\":0.2}},\"type\":\"histogram\"}],\"scattergl\":[{\"type\":\"scattergl\",\"marker\":{\"colorbar\":{\"outlinewidth\":0,\"ticks\":\"\"}}}],\"scatter3d\":[{\"type\":\"scatter3d\",\"line\":{\"colorbar\":{\"outlinewidth\":0,\"ticks\":\"\"}},\"marker\":{\"colorbar\":{\"outlinewidth\":0,\"ticks\":\"\"}}}],\"scattermapbox\":[{\"type\":\"scattermapbox\",\"marker\":{\"colorbar\":{\"outlinewidth\":0,\"ticks\":\"\"}}}],\"scatterternary\":[{\"type\":\"scatterternary\",\"marker\":{\"colorbar\":{\"outlinewidth\":0,\"ticks\":\"\"}}}],\"scattercarpet\":[{\"type\":\"scattercarpet\",\"marker\":{\"colorbar\":{\"outlinewidth\":0,\"ticks\":\"\"}}}],\"carpet\":[{\"aaxis\":{\"endlinecolor\":\"#2a3f5f\",\"gridcolor\":\"white\",\"linecolor\":\"white\",\"minorgridcolor\":\"white\",\"startlinecolor\":\"#2a3f5f\"},\"baxis\":{\"endlinecolor\":\"#2a3f5f\",\"gridcolor\":\"white\",\"linecolor\":\"white\",\"minorgridcolor\":\"white\",\"startlinecolor\":\"#2a3f5f\"},\"type\":\"carpet\"}],\"table\":[{\"cells\":{\"fill\":{\"color\":\"#EBF0F8\"},\"line\":{\"color\":\"white\"}},\"header\":{\"fill\":{\"color\":\"#C8D4E3\"},\"line\":{\"color\":\"white\"}},\"type\":\"table\"}],\"barpolar\":[{\"marker\":{\"line\":{\"color\":\"#E5ECF6\",\"width\":0.5},\"pattern\":{\"fillmode\":\"overlay\",\"size\":10,\"solidity\":0.2}},\"type\":\"barpolar\"}],\"pie\":[{\"automargin\":true,\"type\":\"pie\"}]},\"layout\":{\"autotypenumbers\":\"strict\",\"colorway\":[\"#636efa\",\"#EF553B\",\"#00cc96\",\"#ab63fa\",\"#FFA15A\",\"#19d3f3\",\"#FF6692\",\"#B6E880\",\"#FF97FF\",\"#FECB52\"],\"font\":{\"color\":\"#2a3f5f\"},\"hovermode\":\"closest\",\"hoverlabel\":{\"align\":\"left\"},\"paper_bgcolor\":\"white\",\"plot_bgcolor\":\"#E5ECF6\",\"polar\":{\"bgcolor\":\"#E5ECF6\",\"angularaxis\":{\"gridcolor\":\"white\",\"linecolor\":\"white\",\"ticks\":\"\"},\"radialaxis\":{\"gridcolor\":\"white\",\"linecolor\":\"white\",\"ticks\":\"\"}},\"ternary\":{\"bgcolor\":\"#E5ECF6\",\"aaxis\":{\"gridcolor\":\"white\",\"linecolor\":\"white\",\"ticks\":\"\"},\"baxis\":{\"gridcolor\":\"white\",\"linecolor\":\"white\",\"ticks\":\"\"},\"caxis\":{\"gridcolor\":\"white\",\"linecolor\":\"white\",\"ticks\":\"\"}},\"coloraxis\":{\"colorbar\":{\"outlinewidth\":0,\"ticks\":\"\"}},\"colorscale\":{\"sequential\":[[0.0,\"#0d0887\"],[0.1111111111111111,\"#46039f\"],[0.2222222222222222,\"#7201a8\"],[0.3333333333333333,\"#9c179e\"],[0.4444444444444444,\"#bd3786\"],[0.5555555555555556,\"#d8576b\"],[0.6666666666666666,\"#ed7953\"],[0.7777777777777778,\"#fb9f3a\"],[0.8888888888888888,\"#fdca26\"],[1.0,\"#f0f921\"]],\"sequentialminus\":[[0.0,\"#0d0887\"],[0.1111111111111111,\"#46039f\"],[0.2222222222222222,\"#7201a8\"],[0.3333333333333333,\"#9c179e\"],[0.4444444444444444,\"#bd3786\"],[0.5555555555555556,\"#d8576b\"],[0.6666666666666666,\"#ed7953\"],[0.7777777777777778,\"#fb9f3a\"],[0.8888888888888888,\"#fdca26\"],[1.0,\"#f0f921\"]],\"diverging\":[[0,\"#8e0152\"],[0.1,\"#c51b7d\"],[0.2,\"#de77ae\"],[0.3,\"#f1b6da\"],[0.4,\"#fde0ef\"],[0.5,\"#f7f7f7\"],[0.6,\"#e6f5d0\"],[0.7,\"#b8e186\"],[0.8,\"#7fbc41\"],[0.9,\"#4d9221\"],[1,\"#276419\"]]},\"xaxis\":{\"gridcolor\":\"white\",\"linecolor\":\"white\",\"ticks\":\"\",\"title\":{\"standoff\":15},\"zerolinecolor\":\"white\",\"automargin\":true,\"zerolinewidth\":2},\"yaxis\":{\"gridcolor\":\"white\",\"linecolor\":\"white\",\"ticks\":\"\",\"title\":{\"standoff\":15},\"zerolinecolor\":\"white\",\"automargin\":true,\"zerolinewidth\":2},\"scene\":{\"xaxis\":{\"backgroundcolor\":\"#E5ECF6\",\"gridcolor\":\"white\",\"linecolor\":\"white\",\"showbackground\":true,\"ticks\":\"\",\"zerolinecolor\":\"white\",\"gridwidth\":2},\"yaxis\":{\"backgroundcolor\":\"#E5ECF6\",\"gridcolor\":\"white\",\"linecolor\":\"white\",\"showbackground\":true,\"ticks\":\"\",\"zerolinecolor\":\"white\",\"gridwidth\":2},\"zaxis\":{\"backgroundcolor\":\"#E5ECF6\",\"gridcolor\":\"white\",\"linecolor\":\"white\",\"showbackground\":true,\"ticks\":\"\",\"zerolinecolor\":\"white\",\"gridwidth\":2}},\"shapedefaults\":{\"line\":{\"color\":\"#2a3f5f\"}},\"annotationdefaults\":{\"arrowcolor\":\"#2a3f5f\",\"arrowhead\":0,\"arrowwidth\":1},\"geo\":{\"bgcolor\":\"white\",\"landcolor\":\"#E5ECF6\",\"subunitcolor\":\"white\",\"showland\":true,\"showlakes\":true,\"lakecolor\":\"white\"},\"title\":{\"x\":0.05},\"mapbox\":{\"style\":\"light\"}}},\"geo\":{\"domain\":{\"x\":[0.0,1.0],\"y\":[0.0,1.0]},\"center\":{},\"projection\":{\"type\":\"natural earth\"},\"showcoastlines\":true,\"coastlinecolor\":\"Black\"},\"coloraxis\":{\"colorbar\":{\"title\":{\"text\":\"death \\u002f 100 recovered\"}},\"colorscale\":[[0.0,\"#0d0887\"],[0.1111111111111111,\"#46039f\"],[0.2222222222222222,\"#7201a8\"],[0.3333333333333333,\"#9c179e\"],[0.4444444444444444,\"#bd3786\"],[0.5555555555555556,\"#d8576b\"],[0.6666666666666666,\"#ed7953\"],[0.7777777777777778,\"#fb9f3a\"],[0.8888888888888888,\"#fdca26\"],[1.0,\"#f0f921\"]]},\"legend\":{\"tracegroupgap\":0},\"title\":{\"text\":\"World Map of death per 100 recovered\"}},                        {\"responsive\": true}                    ).then(function(){\n",
       "                            \n",
       "var gd = document.getElementById('e6833a6e-44e5-4451-a89c-c835ee3ce52c');\n",
       "var x = new MutationObserver(function (mutations, observer) {{\n",
       "        var display = window.getComputedStyle(gd).display;\n",
       "        if (!display || display === 'none') {{\n",
       "            console.log([gd, 'removed!']);\n",
       "            Plotly.purge(gd);\n",
       "            observer.disconnect();\n",
       "        }}\n",
       "}});\n",
       "\n",
       "// Listen for the removal of the full notebook cells\n",
       "var notebookContainer = gd.closest('#notebook-container');\n",
       "if (notebookContainer) {{\n",
       "    x.observe(notebookContainer, {childList: true});\n",
       "}}\n",
       "\n",
       "// Listen for the clearing of the current output cell\n",
       "var outputEl = gd.closest('.output');\n",
       "if (outputEl) {{\n",
       "    x.observe(outputEl, {childList: true});\n",
       "}}\n",
       "\n",
       "                        })                };                });            </script>        </div>"
      ]
     },
     "metadata": {},
     "output_type": "display_data"
    }
   ],
   "source": [
    "fig.update_geos(projection_type=\"natural earth\")  # Set map projection\n",
    "fig.update_layout(geo=dict(showcoastlines=True, coastlinecolor=\"Black\"))"
   ]
  },
  {
   "cell_type": "code",
   "execution_count": null,
   "metadata": {},
   "outputs": [],
   "source": []
  }
 ],
 "metadata": {
  "kernelspec": {
   "display_name": "Python 3",
   "language": "python",
   "name": "python3"
  },
  "language_info": {
   "codemirror_mode": {
    "name": "ipython",
    "version": 3
   },
   "file_extension": ".py",
   "mimetype": "text/x-python",
   "name": "python",
   "nbconvert_exporter": "python",
   "pygments_lexer": "ipython3",
   "version": "3.10.2"
  },
  "orig_nbformat": 4
 },
 "nbformat": 4,
 "nbformat_minor": 2
}
